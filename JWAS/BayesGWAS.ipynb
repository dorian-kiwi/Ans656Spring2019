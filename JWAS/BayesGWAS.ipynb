{
 "cells": [
  {
   "cell_type": "code",
   "execution_count": 1,
   "metadata": {},
   "outputs": [],
   "source": [
    "#using Pkg\n",
    "#Pkg.add(PackageSpec(name=\"JWAS\",rev=\"master\"))"
   ]
  },
  {
   "cell_type": "code",
   "execution_count": 2,
   "metadata": {},
   "outputs": [],
   "source": [
    "#Pkg.develop(PackageSpec(path=\"/home/jovyan/rohan/Box Sync/JWAS.jl\"))\n",
    "#Pkg.free(\"JWAS\")\n",
    "#Pkg.add(\"StatsPlots\")"
   ]
  },
  {
   "cell_type": "code",
   "execution_count": 3,
   "metadata": {
    "collapsed": true
   },
   "outputs": [
    {
     "name": "stderr",
     "output_type": "stream",
     "text": [
      "┌ Info: Recompiling stale cache file /opt/julia/compiled/v1.1/DataFrames/AR9oZ.ji for DataFrames [a93c6f00-e57d-5684-b7b6-d8193f3e46c0]\n",
      "└ @ Base loading.jl:1184\n",
      "┌ Info: Recompiling stale cache file /opt/julia/compiled/v1.1/JWAS/tbeXw.ji for JWAS [c9a035f4-d403-5e6b-8649-6be755bc4798]\n",
      "└ @ Base loading.jl:1184\n",
      "┌ Info: Recompiling stale cache file /opt/julia/compiled/v1.1/Plots/ld3vC.ji for Plots [91a5bcdd-55d7-5caf-9e0b-520d859cae80]\n",
      "└ @ Base loading.jl:1184\n"
     ]
    }
   ],
   "source": [
    "using DataFrames              # package for working with data sets\n",
    "using JWAS                    # package for Bayesian regression analyses, including BayesB and BayesCπ        \n",
    "using JWAS:misc               # utility functions\n",
    "using Distributions       \n",
    "using Plots                   # package for plotting \n",
    "using LinearAlgebra,Statistics,Random,DelimitedFiles, DataFrames"
   ]
  },
  {
   "cell_type": "markdown",
   "metadata": {},
   "source": [
    "### Input marker and phenotype data"
   ]
  },
  {
   "cell_type": "code",
   "execution_count": 4,
   "metadata": {},
   "outputs": [
    {
     "data": {
      "text/plain": [
       "removeCols! (generic function with 1 method)"
      ]
     },
     "execution_count": 4,
     "metadata": {},
     "output_type": "execute_result"
    }
   ],
   "source": [
    "function readMatBin(fileName)\n",
    "    genStr = open(fileName)\n",
    "    n = read(genStr,Int64)\n",
    "    p = read(genStr,Int64)\n",
    "    M = zeros(n,p)\n",
    "    for j in 1:p\n",
    "        for i in 1:n\n",
    "            M[i,j] = read(genStr,Float64)\n",
    "        end\n",
    "    end\n",
    "    close(genStr)\n",
    "    return M\n",
    "end\n",
    "\n",
    "function removeCols!(M,cols)\n",
    "    return M[:, [!(i in cols) for i=1:size(M,2)]]\n",
    "end"
   ]
  },
  {
   "cell_type": "code",
   "execution_count": 5,
   "metadata": {
    "collapsed": true
   },
   "outputs": [],
   "source": [
    "posQTL  = Int64.(vec(readdlm(\"posQTL.csv\")))\n",
    "beta    = readdlm(\"beta.csv\")\n",
    "M = readMatBin(\"genotypes.bin\");"
   ]
  },
  {
   "cell_type": "code",
   "execution_count": 6,
   "metadata": {
    "collapsed": true
   },
   "outputs": [
    {
     "name": "stderr",
     "output_type": "stream",
     "text": [
      "┌ Warning: readtable is deprecated, use CSV.read from the CSV package instead\n",
      "│   caller = ip:0x0\n",
      "└ @ Core :-1\n"
     ]
    },
    {
     "data": {
      "text/html": [
       "<table class=\"data-frame\"><thead><tr><th></th><th>id</th><th>y</th></tr><tr><th></th><th>Int64</th><th>Float64⍰</th></tr></thead><tbody><p>5 rows × 2 columns</p><tr><th>1</th><td>1</td><td>-3.56863</td></tr><tr><th>2</th><td>2</td><td>1.73437</td></tr><tr><th>3</th><td>3</td><td>2.31795</td></tr><tr><th>4</th><td>4</td><td>-0.264018</td></tr><tr><th>5</th><td>5</td><td>-3.13096</td></tr></tbody></table>"
      ],
      "text/latex": [
       "\\begin{tabular}{r|cc}\n",
       "\t& id & y\\\\\n",
       "\t\\hline\n",
       "\t& Int64 & Float64⍰\\\\\n",
       "\t\\hline\n",
       "\t1 & 1 & -3.56863 \\\\\n",
       "\t2 & 2 & 1.73437 \\\\\n",
       "\t3 & 3 & 2.31795 \\\\\n",
       "\t4 & 4 & -0.264018 \\\\\n",
       "\t5 & 5 & -3.13096 \\\\\n",
       "\\end{tabular}\n"
      ],
      "text/plain": [
       "5×2 DataFrame\n",
       "│ Row │ id    │ y         │\n",
       "│     │ \u001b[90mInt64\u001b[39m │ \u001b[90mFloat64⍰\u001b[39m  │\n",
       "├─────┼───────┼───────────┤\n",
       "│ 1   │ 1     │ -3.56863  │\n",
       "│ 2   │ 2     │ 1.73437   │\n",
       "│ 3   │ 3     │ 2.31795   │\n",
       "│ 4   │ 4     │ -0.264018 │\n",
       "│ 5   │ 5     │ -3.13096  │"
      ]
     },
     "execution_count": 6,
     "metadata": {},
     "output_type": "execute_result"
    }
   ],
   "source": [
    "n,p = size(M)\n",
    "simData  = readtable(\"phenotypes.csv\",header=false,names=[:y])# reading in the simulated phenotypes into a data frame\n",
    "phenData = DataFrame(id=1:n, y=simData[:y])\n",
    "first(phenData,5)"
   ]
  },
  {
   "cell_type": "code",
   "execution_count": 7,
   "metadata": {},
   "outputs": [
    {
     "data": {
      "text/html": [
       "<table class=\"data-frame\"><thead><tr><th></th><th>id</th><th>y</th></tr><tr><th></th><th>Int64</th><th>Float64⍰</th></tr></thead><tbody><p>5 rows × 2 columns</p><tr><th>1</th><td>1001</td><td>-6.22029</td></tr><tr><th>2</th><td>1002</td><td>-0.952557</td></tr><tr><th>3</th><td>1003</td><td>-9.66847</td></tr><tr><th>4</th><td>1004</td><td>-0.959437</td></tr><tr><th>5</th><td>1005</td><td>1.48486</td></tr></tbody></table>"
      ],
      "text/latex": [
       "\\begin{tabular}{r|cc}\n",
       "\t& id & y\\\\\n",
       "\t\\hline\n",
       "\t& Int64 & Float64⍰\\\\\n",
       "\t\\hline\n",
       "\t1 & 1001 & -6.22029 \\\\\n",
       "\t2 & 1002 & -0.952557 \\\\\n",
       "\t3 & 1003 & -9.66847 \\\\\n",
       "\t4 & 1004 & -0.959437 \\\\\n",
       "\t5 & 1005 & 1.48486 \\\\\n",
       "\\end{tabular}\n"
      ],
      "text/plain": [
       "5×2 DataFrame\n",
       "│ Row │ id    │ y         │\n",
       "│     │ \u001b[90mInt64\u001b[39m │ \u001b[90mFloat64⍰\u001b[39m  │\n",
       "├─────┼───────┼───────────┤\n",
       "│ 1   │ 1001  │ -6.22029  │\n",
       "│ 2   │ 1002  │ -0.952557 │\n",
       "│ 3   │ 1003  │ -9.66847  │\n",
       "│ 4   │ 1004  │ -0.959437 │\n",
       "│ 5   │ 1005  │ 1.48486   │"
      ]
     },
     "execution_count": 7,
     "metadata": {},
     "output_type": "execute_result"
    }
   ],
   "source": [
    "phenTrain = phenData[1001:end,:]\n",
    "first(phenTrain,5)"
   ]
  },
  {
   "cell_type": "code",
   "execution_count": 8,
   "metadata": {},
   "outputs": [
    {
     "data": {
      "text/plain": [
       "12.83523324152048"
      ]
     },
     "execution_count": 8,
     "metadata": {},
     "output_type": "execute_result"
    }
   ],
   "source": [
    "resVar = var(simData[:y])/2\n",
    "genVar = resVar"
   ]
  },
  {
   "cell_type": "markdown",
   "metadata": {},
   "source": [
    "### Run BayesC$\\pi$ using JWAS"
   ]
  },
  {
   "cell_type": "code",
   "execution_count": 9,
   "metadata": {
    "scrolled": false
   },
   "outputs": [
    {
     "name": "stdout",
     "output_type": "stream",
     "text": [
      "21834 markers on 2000 individuals were added.\n"
     ]
    }
   ],
   "source": [
    "ids = string.(1:size(M,1))                     # ids in genotype file are sequential numbers 1...n\n",
    "model  = build_model(\"y = intercept\",resVar)   # give model (except for marker part)\n",
    "add_genotypes(model,M,genVar,header=false,rowID=ids,G_is_marker_variance=false);"
   ]
  },
  {
   "cell_type": "code",
   "execution_count": 10,
   "metadata": {},
   "outputs": [
    {
     "name": "stdout",
     "output_type": "stream",
     "text": [
      "search: \u001b[0m\u001b[1mr\u001b[22m\u001b[0m\u001b[1mu\u001b[22m\u001b[0m\u001b[1mn\u001b[22m\u001b[0m\u001b[1mM\u001b[22m\u001b[0m\u001b[1mC\u001b[22m\u001b[0m\u001b[1mM\u001b[22m\u001b[0m\u001b[1mC\u001b[22m Ze\u001b[0m\u001b[1mr\u001b[22moMeanF\u001b[0m\u001b[1mu\u001b[22mll\u001b[0m\u001b[1mN\u001b[22mor\u001b[0m\u001b[1mm\u001b[22mal\u001b[0m\u001b[1mC\u001b[22manon\n",
      "\n"
     ]
    },
    {
     "data": {
      "text/latex": [
       "\\begin{verbatim}\n",
       "runMCMC(model::MME,df::DataFrame;\n",
       "        chain_length=1000,starting_value=false,burnin = 0,\n",
       "        output_samples_frequency = 0,output_samples_file=\"MCMC_samples\",\n",
       "        printout_model_info=true,printout_frequency=100,\n",
       "        methods=\"conventional (no markers)\",Pi=0.0,estimatePi=false,\n",
       "        single_step_analysis= false,pedigree = false,\n",
       "        missing_phenotypes=false,constraint=false,\n",
       "        update_priors_frequency::Int64=0,\n",
       "        outputEBV=true,output_PEV=false,output_heritability=false)\n",
       "\\end{verbatim}\n",
       "\\textbf{Run MCMC for Bayesian Linear Mixed Models with or without estimation of variance components.}\n",
       "\n",
       "\\begin{itemize}\n",
       "\\item Available \\textbf{methods} include \"conventional (no markers)\", \"RR-BLUP\", \"BayesB\", \"BayesC\", \"Bayesian Lasso\", and \"GBLUP\".\n",
       "\n",
       "\n",
       "\\item Single step analysis is allowed if \\textbf{single\\emph{step}analysis} = \\texttt{true} and \\textbf{pedigree} is provided.\n",
       "\n",
       "\n",
       "\\item The \\textbf{starting\\_value} can be provided as a vector of numbers for all location parameteres and marker effects, defaulting to \\texttt{0.0}s.\n",
       "\n",
       "\n",
       "\\item The first \\textbf{burnin} iterations are discarded at the beginning of a MCMC chain of length \\textbf{chain\\_length}.\n",
       "\n",
       "\n",
       "\\item Save MCMC samples every \\textbf{output\\emph{samples}frequency} iterations, defaulting to \\texttt{false}, to files \\textbf{output\\emph{samples}file}, defaulting to \\texttt{MCMC\\_samples.txt}. MCMC samples for hyperparametes (variance componets) and marker effects are saved by default if \\textbf{output\\emph{samples}frequency} is provided. MCMC samples for location parametes can be saved using \\texttt{output\\_MCMC\\_samples()}. Note that saving MCMC samples too frequently slows down the computation.\n",
       "\n",
       "\n",
       "\\item In Bayesian variable selection methods, \\textbf{Pi} for single-trait analyses is a number; \\textbf{Pi} for multi-trait analyses is a dictionary such as \\texttt{Pi=Dict([1.0; 1.0]=>0.7,[1.0; 0.0]=>0.1,[0.0; 1.0]=>0.1,[0.0; 0.0]=>0.1)}, defaulting to \\texttt{all markers have effects (0.0)} in single-trait analysis and \\texttt{all markers have effects on all traits} in multi-trait analysis. \\textbf{Pi} is estimated if \\textbf{estimatePi} = true\n",
       "\n",
       "\n",
       "\\item In multi-trait analysis, \\textbf{missing\\_phenotypes}, defaulting to \\texttt{true}, and \\textbf{constraint} variance components, defaulting to \\texttt{false}, are allowed. If \\textbf{constraint}=true, constrain residual covariances between traits to be zeros.\n",
       "\n",
       "\n",
       "\\item Print out the model information in REPL if \\texttt{printout\\_model\\_info=true}; print out the monte carlo mean in REPL with \\textbf{printout\\_frequency}, defaulting to \\texttt{false}.\n",
       "\n",
       "\n",
       "\\item Individual estimted breeding values (EBVs) are returned if \\textbf{outputEBV}=\\texttt{true}, defaulting to \\texttt{true}. Heritability and genetic variances are returned if \\textbf{output\\_heritability}=\\texttt{true}, defaulting to \\texttt{false}. Note that estimation of heritability is computaionally intensive.\n",
       "\n",
       "\\end{itemize}\n"
      ],
      "text/markdown": [
       "```\n",
       "runMCMC(model::MME,df::DataFrame;\n",
       "        chain_length=1000,starting_value=false,burnin = 0,\n",
       "        output_samples_frequency = 0,output_samples_file=\"MCMC_samples\",\n",
       "        printout_model_info=true,printout_frequency=100,\n",
       "        methods=\"conventional (no markers)\",Pi=0.0,estimatePi=false,\n",
       "        single_step_analysis= false,pedigree = false,\n",
       "        missing_phenotypes=false,constraint=false,\n",
       "        update_priors_frequency::Int64=0,\n",
       "        outputEBV=true,output_PEV=false,output_heritability=false)\n",
       "```\n",
       "\n",
       "**Run MCMC for Bayesian Linear Mixed Models with or without estimation of variance components.**\n",
       "\n",
       "  * Available **methods** include \"conventional (no markers)\", \"RR-BLUP\", \"BayesB\", \"BayesC\", \"Bayesian Lasso\", and \"GBLUP\".\n",
       "  * Single step analysis is allowed if **single*step*analysis** = `true` and **pedigree** is provided.\n",
       "  * The **starting_value** can be provided as a vector of numbers for all location parameteres and marker effects, defaulting to `0.0`s.\n",
       "  * The first **burnin** iterations are discarded at the beginning of a MCMC chain of length **chain_length**.\n",
       "  * Save MCMC samples every **output*samples*frequency** iterations, defaulting to `false`, to files **output*samples*file**, defaulting to `MCMC_samples.txt`. MCMC samples for hyperparametes (variance componets) and marker effects are saved by default if **output*samples*frequency** is provided. MCMC samples for location parametes can be saved using `output_MCMC_samples()`. Note that saving MCMC samples too frequently slows down the computation.\n",
       "  * In Bayesian variable selection methods, **Pi** for single-trait analyses is a number; **Pi** for multi-trait analyses is a dictionary such as `Pi=Dict([1.0; 1.0]=>0.7,[1.0; 0.0]=>0.1,[0.0; 1.0]=>0.1,[0.0; 0.0]=>0.1)`, defaulting to `all markers have effects (0.0)` in single-trait analysis and `all markers have effects on all traits` in multi-trait analysis. **Pi** is estimated if **estimatePi** = true\n",
       "  * In multi-trait analysis, **missing_phenotypes**, defaulting to `true`, and **constraint** variance components, defaulting to `false`, are allowed. If **constraint**=true, constrain residual covariances between traits to be zeros.\n",
       "  * Print out the model information in REPL if `printout_model_info=true`; print out the monte carlo mean in REPL with **printout_frequency**, defaulting to `false`.\n",
       "  * Individual estimted breeding values (EBVs) are returned if **outputEBV**=`true`, defaulting to `true`. Heritability and genetic variances are returned if **output_heritability**=`true`, defaulting to `false`. Note that estimation of heritability is computaionally intensive.\n"
      ],
      "text/plain": [
       "\u001b[36m  runMCMC(model::MME,df::DataFrame;\u001b[39m\n",
       "\u001b[36m          chain_length=1000,starting_value=false,burnin = 0,\u001b[39m\n",
       "\u001b[36m          output_samples_frequency = 0,output_samples_file=\"MCMC_samples\",\u001b[39m\n",
       "\u001b[36m          printout_model_info=true,printout_frequency=100,\u001b[39m\n",
       "\u001b[36m          methods=\"conventional (no markers)\",Pi=0.0,estimatePi=false,\u001b[39m\n",
       "\u001b[36m          single_step_analysis= false,pedigree = false,\u001b[39m\n",
       "\u001b[36m          missing_phenotypes=false,constraint=false,\u001b[39m\n",
       "\u001b[36m          update_priors_frequency::Int64=0,\u001b[39m\n",
       "\u001b[36m          outputEBV=true,output_PEV=false,output_heritability=false)\u001b[39m\n",
       "\n",
       "  \u001b[1mRun MCMC for Bayesian Linear Mixed Models with or without estimation of\n",
       "  variance components.\u001b[22m\n",
       "\n",
       "    •    Available \u001b[1mmethods\u001b[22m include \"conventional (no markers)\", \"RR-BLUP\",\n",
       "        \"BayesB\", \"BayesC\", \"Bayesian Lasso\", and \"GBLUP\".\n",
       "\n",
       "    •    Single step analysis is allowed if \u001b[1msingle\u001b[4mstep\u001b[24manalysis\u001b[22m = \u001b[36mtrue\u001b[39m and\n",
       "        \u001b[1mpedigree\u001b[22m is provided.\n",
       "\n",
       "    •    The \u001b[1mstarting_value\u001b[22m can be provided as a vector of numbers for all\n",
       "        location parameteres and marker effects, defaulting to \u001b[36m0.0\u001b[39ms.\n",
       "\n",
       "    •    The first \u001b[1mburnin\u001b[22m iterations are discarded at the beginning of a\n",
       "        MCMC chain of length \u001b[1mchain_length\u001b[22m.\n",
       "\n",
       "    •    Save MCMC samples every \u001b[1moutput\u001b[4msamples\u001b[24mfrequency\u001b[22m iterations,\n",
       "        defaulting to \u001b[36mfalse\u001b[39m, to files \u001b[1moutput\u001b[4msamples\u001b[24mfile\u001b[22m, defaulting to\n",
       "        \u001b[36mMCMC_samples.txt\u001b[39m. MCMC samples for hyperparametes (variance\n",
       "        componets) and marker effects are saved by default if\n",
       "        \u001b[1moutput\u001b[4msamples\u001b[24mfrequency\u001b[22m is provided. MCMC samples for location\n",
       "        parametes can be saved using \u001b[36moutput_MCMC_samples()\u001b[39m. Note that\n",
       "        saving MCMC samples too frequently slows down the computation.\n",
       "\n",
       "    •    In Bayesian variable selection methods, \u001b[1mPi\u001b[22m for single-trait\n",
       "        analyses is a number; \u001b[1mPi\u001b[22m for multi-trait analyses is a dictionary\n",
       "        such as \u001b[36mPi=Dict([1.0; 1.0]=>0.7,[1.0; 0.0]=>0.1,[0.0;\n",
       "        1.0]=>0.1,[0.0; 0.0]=>0.1)\u001b[39m, defaulting to \u001b[36mall markers have effects\n",
       "        (0.0)\u001b[39m in single-trait analysis and \u001b[36mall markers have effects on all\n",
       "        traits\u001b[39m in multi-trait analysis. \u001b[1mPi\u001b[22m is estimated if \u001b[1mestimatePi\u001b[22m =\n",
       "        true\n",
       "\n",
       "    •    In multi-trait analysis, \u001b[1mmissing_phenotypes\u001b[22m, defaulting to \u001b[36mtrue\u001b[39m,\n",
       "        and \u001b[1mconstraint\u001b[22m variance components, defaulting to \u001b[36mfalse\u001b[39m, are\n",
       "        allowed. If \u001b[1mconstraint\u001b[22m=true, constrain residual covariances\n",
       "        between traits to be zeros.\n",
       "\n",
       "    •    Print out the model information in REPL if\n",
       "        \u001b[36mprintout_model_info=true\u001b[39m; print out the monte carlo mean in REPL\n",
       "        with \u001b[1mprintout_frequency\u001b[22m, defaulting to \u001b[36mfalse\u001b[39m.\n",
       "\n",
       "    •    Individual estimted breeding values (EBVs) are returned if\n",
       "        \u001b[1moutputEBV\u001b[22m=\u001b[36mtrue\u001b[39m, defaulting to \u001b[36mtrue\u001b[39m. Heritability and genetic\n",
       "        variances are returned if \u001b[1moutput_heritability\u001b[22m=\u001b[36mtrue\u001b[39m, defaulting to\n",
       "        \u001b[36mfalse\u001b[39m. Note that estimation of heritability is computaionally\n",
       "        intensive."
      ]
     },
     "execution_count": 10,
     "metadata": {},
     "output_type": "execute_result"
    }
   ],
   "source": [
    "?runMCMC"
   ]
  },
  {
   "cell_type": "code",
   "execution_count": 11,
   "metadata": {
    "scrolled": false
   },
   "outputs": [
    {
     "name": "stdout",
     "output_type": "stream",
     "text": [
      "\n",
      "The prior for marker effects variance is calculated from the genetic variance and π.\n",
      "The mean of the prior for the marker effects variance is: 0.168283\n",
      "\n",
      "\n",
      "\u001b[0m\u001b[1mA Linear Mixed Model was build using model equations:\u001b[22m\n",
      "\n",
      "y = intercept\n",
      "\n",
      "\u001b[0m\u001b[1mModel Information:\u001b[22m\n",
      "\n",
      "Term            C/F          F/R            nLevels\n",
      "intercept       factor       fixed                1\n",
      "\n",
      "\u001b[0m\u001b[1mMCMC Information:\u001b[22m\n",
      "\n",
      "methods                                      BayesC\n",
      "chain_length                                  60000\n",
      "burnin                                            0\n",
      "estimatePi                                     true\n",
      "estimateScale                                 false\n",
      "starting_value                                false\n",
      "printout_frequency                             5000\n",
      "output_samples_frequency                         20\n",
      "constraint                                    false\n",
      "missing_phenotypes                             true\n",
      "update_priors_frequency                           0\n",
      "\n",
      "\u001b[0m\u001b[1mHyper-parameters Information:\u001b[22m\n",
      "\n",
      "residual variances:                          12.835\n",
      "genetic variances (genomic):                 12.835\n",
      "marker effect variances:                      0.168\n",
      "π                                              0.99\n",
      "\n",
      "\u001b[0m\u001b[1mDegree of freedom for hyper-parameters:\u001b[22m\n",
      "\n",
      "residual variances:                           4.000\n",
      "iid random effect variances:                  4.000\n",
      "marker effect variances:                      4.000\n",
      "\n",
      "\n",
      "\n",
      "\u001b[31mThe file MCMCSamples_residual_variance.txt already exists!!! It is overwritten by the new output.\u001b[39m\n",
      "\u001b[31mThe file MCMCSamples_marker_effects_y.txt already exists!!! It is overwritten by the new output.\u001b[39m\n",
      "\u001b[31mThe file MCMCSamples_marker_effects_variances.txt already exists!!! It is overwritten by the new output.\u001b[39m\n",
      "\u001b[31mThe file MCMCSamples_pi.txt already exists!!! It is overwritten by the new output.\u001b[39m\n",
      "\u001b[31mThe file MCMCSamples_EBV_y.txt already exists!!! It is overwritten by the new output.\u001b[39m\n"
     ]
    },
    {
     "name": "stderr",
     "output_type": "stream",
     "text": [
      "\u001b[32mrunning MCMC for BayesC...  8%|██▏                      |  ETA: 0:28:25\u001b[39m"
     ]
    },
    {
     "name": "stdout",
     "output_type": "stream",
     "text": [
      "\n",
      "Posterior means at iteration: 5000\n",
      "Residual variance: 13.22054\n",
      "Marker effects variance: 0.685172\n",
      "π: 0.997\n"
     ]
    },
    {
     "name": "stderr",
     "output_type": "stream",
     "text": [
      "\u001b[32mrunning MCMC for BayesC... 17%|████▏                    |  ETA: 0:25:40\u001b[39m"
     ]
    },
    {
     "name": "stdout",
     "output_type": "stream",
     "text": [
      "\n",
      "Posterior means at iteration: 10000\n",
      "Residual variance: 13.251121\n",
      "Marker effects variance: 0.690046\n",
      "π: 0.997\n"
     ]
    },
    {
     "name": "stderr",
     "output_type": "stream",
     "text": [
      "\u001b[32mrunning MCMC for BayesC... 25%|██████▎                  |  ETA: 0:22:34\u001b[39m"
     ]
    },
    {
     "name": "stdout",
     "output_type": "stream",
     "text": [
      "\n",
      "Posterior means at iteration: 15000\n",
      "Residual variance: 13.220074\n",
      "Marker effects variance: 0.694234\n",
      "π: 0.997\n"
     ]
    },
    {
     "name": "stderr",
     "output_type": "stream",
     "text": [
      "\u001b[32mrunning MCMC for BayesC... 33%|████████▍                |  ETA: 0:19:56\u001b[39m"
     ]
    },
    {
     "name": "stdout",
     "output_type": "stream",
     "text": [
      "\n",
      "Posterior means at iteration: 20000\n",
      "Residual variance: 13.215685\n",
      "Marker effects variance: 0.696048\n",
      "π: 0.997\n"
     ]
    },
    {
     "name": "stderr",
     "output_type": "stream",
     "text": [
      "\u001b[32mrunning MCMC for BayesC... 42%|██████████▍              |  ETA: 0:17:21\u001b[39m"
     ]
    },
    {
     "name": "stdout",
     "output_type": "stream",
     "text": [
      "\n",
      "Posterior means at iteration: 25000\n",
      "Residual variance: 13.223776\n",
      "Marker effects variance: 0.699272\n",
      "π: 0.997\n"
     ]
    },
    {
     "name": "stderr",
     "output_type": "stream",
     "text": [
      "\u001b[32mrunning MCMC for BayesC... 50%|████████████▌            |  ETA: 0:14:29\u001b[39m"
     ]
    },
    {
     "name": "stdout",
     "output_type": "stream",
     "text": [
      "\n",
      "Posterior means at iteration: 30000\n",
      "Residual variance: 13.222664\n",
      "Marker effects variance: 0.697432\n",
      "π: 0.997\n"
     ]
    },
    {
     "name": "stderr",
     "output_type": "stream",
     "text": [
      "\u001b[32mrunning MCMC for BayesC... 58%|██████████████▋          |  ETA: 0:11:48\u001b[39m"
     ]
    },
    {
     "name": "stdout",
     "output_type": "stream",
     "text": [
      "\n",
      "Posterior means at iteration: 35000\n",
      "Residual variance: 13.234035\n",
      "Marker effects variance: 0.692311\n",
      "π: 0.997\n"
     ]
    },
    {
     "name": "stderr",
     "output_type": "stream",
     "text": [
      "\u001b[32mrunning MCMC for BayesC... 67%|████████████████▋        |  ETA: 0:09:18\u001b[39m"
     ]
    },
    {
     "name": "stdout",
     "output_type": "stream",
     "text": [
      "\n",
      "Posterior means at iteration: 40000\n",
      "Residual variance: 13.234131\n",
      "Marker effects variance: 0.694884\n",
      "π: 0.997\n"
     ]
    },
    {
     "name": "stderr",
     "output_type": "stream",
     "text": [
      "\u001b[32mrunning MCMC for BayesC... 75%|██████████████████▊      |  ETA: 0:06:54\u001b[39m"
     ]
    },
    {
     "name": "stdout",
     "output_type": "stream",
     "text": [
      "\n",
      "Posterior means at iteration: 45000\n",
      "Residual variance: 13.23448\n",
      "Marker effects variance: 0.694626\n",
      "π: 0.997\n"
     ]
    },
    {
     "name": "stderr",
     "output_type": "stream",
     "text": [
      "\u001b[32mrunning MCMC for BayesC... 83%|████████████████████▉    |  ETA: 0:04:33\u001b[39m"
     ]
    },
    {
     "name": "stdout",
     "output_type": "stream",
     "text": [
      "\n",
      "Posterior means at iteration: 50000\n",
      "Residual variance: 13.234941\n",
      "Marker effects variance: 0.695166\n",
      "π: 0.997\n"
     ]
    },
    {
     "name": "stderr",
     "output_type": "stream",
     "text": [
      "\u001b[32mrunning MCMC for BayesC... 92%|██████████████████████▉  |  ETA: 0:02:16\u001b[39m"
     ]
    },
    {
     "name": "stdout",
     "output_type": "stream",
     "text": [
      "\n",
      "Posterior means at iteration: 55000\n",
      "Residual variance: 13.23267\n",
      "Marker effects variance: 0.695809\n",
      "π: 0.997\n"
     ]
    },
    {
     "name": "stderr",
     "output_type": "stream",
     "text": [
      "\u001b[32mrunning MCMC for BayesC...100%|█████████████████████████|  ETA: 0:00:00\u001b[39m"
     ]
    },
    {
     "name": "stdout",
     "output_type": "stream",
     "text": [
      "\n",
      "Posterior means at iteration: 60000\n",
      "Residual variance: 13.232632\n",
      "Marker effects variance: 0.694925\n",
      "π: 0.997\n"
     ]
    },
    {
     "name": "stderr",
     "output_type": "stream",
     "text": [
      "\u001b[32mrunning MCMC for BayesC...100%|█████████████████████████| Time: 0:27:06\u001b[39m\n"
     ]
    }
   ],
   "source": [
    "MCMCFileNAME = \"MCMCSamples\"                  # place to put samples of marker effects\n",
    "                                              # marker effect is set to zero if that locus is not in model\n",
    "out=runMCMC(model, phenTrain,                 # tell JWAS to run analysis, for given model and data \n",
    "    Pi=0.99,                                  # intial value of π\n",
    "    estimatePi=true,\n",
    "    chain_length=60000,                       # length of chain\n",
    "    printout_frequency=5000,                  # how often to show progress of analysis \n",
    "    printout_model_info=true,                 # tell JWAS to show the options used in this analysis\n",
    "    methods=\"BayesC\",                         # tell JWAS to run a BayesC analysis\n",
    "    output_samples_frequency=20,              # how often to output sampled quantities\n",
    "    output_samples_file=MCMCFileNAME,         # file name to output sampled marker effects\n",
    "    output_PEV=true\n",
    ");"
   ]
  },
  {
   "cell_type": "code",
   "execution_count": 12,
   "metadata": {},
   "outputs": [
    {
     "data": {
      "text/plain": [
       "Base.KeySet for a Dict{Any,Any} with 6 entries. Keys:\n",
       "  \"Posterior mean of marker effects\"\n",
       "  \"EBV_y\"\n",
       "  \"Posterior mean of residual variance\"\n",
       "  \"Posterior mean of marker effects variance\"\n",
       "  \"Posterior mean of location parameters\"\n",
       "  \"Posterior mean of Pi\""
      ]
     },
     "execution_count": 12,
     "metadata": {},
     "output_type": "execute_result"
    }
   ],
   "source": [
    "keys(out)"
   ]
  },
  {
   "cell_type": "code",
   "execution_count": 13,
   "metadata": {},
   "outputs": [
    {
     "data": {
      "text/html": [
       "<table class=\"data-frame\"><thead><tr><th></th><th>ID</th><th>Estimate</th><th>PEV</th></tr><tr><th></th><th>Any</th><th>Any</th><th>Float64</th></tr></thead><tbody><p>2,000 rows × 3 columns</p><tr><th>1</th><td>1</td><td>0.483094</td><td>2.19283</td></tr><tr><th>2</th><td>2</td><td>2.4028</td><td>2.08013</td></tr><tr><th>3</th><td>3</td><td>-0.511776</td><td>2.55766</td></tr><tr><th>4</th><td>4</td><td>8.06149</td><td>2.39819</td></tr><tr><th>5</th><td>5</td><td>0.246964</td><td>3.00756</td></tr><tr><th>6</th><td>6</td><td>-0.143648</td><td>2.78795</td></tr><tr><th>7</th><td>7</td><td>3.59812</td><td>2.12147</td></tr><tr><th>8</th><td>8</td><td>0.613668</td><td>2.42555</td></tr><tr><th>9</th><td>9</td><td>0.144479</td><td>2.14744</td></tr><tr><th>10</th><td>10</td><td>-2.85675</td><td>2.47049</td></tr><tr><th>11</th><td>11</td><td>1.87547</td><td>2.07577</td></tr><tr><th>12</th><td>12</td><td>0.874307</td><td>2.31344</td></tr><tr><th>13</th><td>13</td><td>3.34096</td><td>2.16966</td></tr><tr><th>14</th><td>14</td><td>0.821742</td><td>2.55874</td></tr><tr><th>15</th><td>15</td><td>4.01592</td><td>2.71488</td></tr><tr><th>16</th><td>16</td><td>2.06686</td><td>2.94215</td></tr><tr><th>17</th><td>17</td><td>0.64861</td><td>2.81313</td></tr><tr><th>18</th><td>18</td><td>1.2024</td><td>2.28316</td></tr><tr><th>19</th><td>19</td><td>1.11869</td><td>2.25692</td></tr><tr><th>20</th><td>20</td><td>-4.64019</td><td>2.33161</td></tr><tr><th>21</th><td>21</td><td>-5.09146</td><td>2.49285</td></tr><tr><th>22</th><td>22</td><td>-0.506433</td><td>2.69007</td></tr><tr><th>23</th><td>23</td><td>1.81604</td><td>2.27456</td></tr><tr><th>24</th><td>24</td><td>-1.69498</td><td>2.16041</td></tr><tr><th>25</th><td>25</td><td>2.98775</td><td>2.22485</td></tr><tr><th>26</th><td>26</td><td>-3.3958</td><td>2.48518</td></tr><tr><th>27</th><td>27</td><td>-2.31452</td><td>2.82973</td></tr><tr><th>28</th><td>28</td><td>-1.96257</td><td>2.08027</td></tr><tr><th>29</th><td>29</td><td>-1.58328</td><td>2.43368</td></tr><tr><th>30</th><td>30</td><td>1.17807</td><td>2.67228</td></tr><tr><th>&vellip;</th><td>&vellip;</td><td>&vellip;</td><td>&vellip;</td></tr></tbody></table>"
      ],
      "text/latex": [
       "\\begin{tabular}{r|ccc}\n",
       "\t& ID & Estimate & PEV\\\\\n",
       "\t\\hline\n",
       "\t& Any & Any & Float64\\\\\n",
       "\t\\hline\n",
       "\t1 & 1 & 0.483094 & 2.19283 \\\\\n",
       "\t2 & 2 & 2.4028 & 2.08013 \\\\\n",
       "\t3 & 3 & -0.511776 & 2.55766 \\\\\n",
       "\t4 & 4 & 8.06149 & 2.39819 \\\\\n",
       "\t5 & 5 & 0.246964 & 3.00756 \\\\\n",
       "\t6 & 6 & -0.143648 & 2.78795 \\\\\n",
       "\t7 & 7 & 3.59812 & 2.12147 \\\\\n",
       "\t8 & 8 & 0.613668 & 2.42555 \\\\\n",
       "\t9 & 9 & 0.144479 & 2.14744 \\\\\n",
       "\t10 & 10 & -2.85675 & 2.47049 \\\\\n",
       "\t11 & 11 & 1.87547 & 2.07577 \\\\\n",
       "\t12 & 12 & 0.874307 & 2.31344 \\\\\n",
       "\t13 & 13 & 3.34096 & 2.16966 \\\\\n",
       "\t14 & 14 & 0.821742 & 2.55874 \\\\\n",
       "\t15 & 15 & 4.01592 & 2.71488 \\\\\n",
       "\t16 & 16 & 2.06686 & 2.94215 \\\\\n",
       "\t17 & 17 & 0.64861 & 2.81313 \\\\\n",
       "\t18 & 18 & 1.2024 & 2.28316 \\\\\n",
       "\t19 & 19 & 1.11869 & 2.25692 \\\\\n",
       "\t20 & 20 & -4.64019 & 2.33161 \\\\\n",
       "\t21 & 21 & -5.09146 & 2.49285 \\\\\n",
       "\t22 & 22 & -0.506433 & 2.69007 \\\\\n",
       "\t23 & 23 & 1.81604 & 2.27456 \\\\\n",
       "\t24 & 24 & -1.69498 & 2.16041 \\\\\n",
       "\t25 & 25 & 2.98775 & 2.22485 \\\\\n",
       "\t26 & 26 & -3.3958 & 2.48518 \\\\\n",
       "\t27 & 27 & -2.31452 & 2.82973 \\\\\n",
       "\t28 & 28 & -1.96257 & 2.08027 \\\\\n",
       "\t29 & 29 & -1.58328 & 2.43368 \\\\\n",
       "\t30 & 30 & 1.17807 & 2.67228 \\\\\n",
       "\t$\\dots$ & $\\dots$ & $\\dots$ & $\\dots$ \\\\\n",
       "\\end{tabular}\n"
      ],
      "text/plain": [
       "2000×3 DataFrame\n",
       "│ Row  │ ID   │ Estimate  │ PEV     │\n",
       "│      │ \u001b[90mAny\u001b[39m  │ \u001b[90mAny\u001b[39m       │ \u001b[90mFloat64\u001b[39m │\n",
       "├──────┼──────┼───────────┼─────────┤\n",
       "│ 1    │ 1    │ 0.483094  │ 2.19283 │\n",
       "│ 2    │ 2    │ 2.4028    │ 2.08013 │\n",
       "│ 3    │ 3    │ -0.511776 │ 2.55766 │\n",
       "│ 4    │ 4    │ 8.06149   │ 2.39819 │\n",
       "│ 5    │ 5    │ 0.246964  │ 3.00756 │\n",
       "│ 6    │ 6    │ -0.143648 │ 2.78795 │\n",
       "│ 7    │ 7    │ 3.59812   │ 2.12147 │\n",
       "│ 8    │ 8    │ 0.613668  │ 2.42555 │\n",
       "│ 9    │ 9    │ 0.144479  │ 2.14744 │\n",
       "│ 10   │ 10   │ -2.85675  │ 2.47049 │\n",
       "⋮\n",
       "│ 1990 │ 1990 │ 3.2061    │ 2.11191 │\n",
       "│ 1991 │ 1991 │ -4.97417  │ 1.89194 │\n",
       "│ 1992 │ 1992 │ 3.63581   │ 2.22525 │\n",
       "│ 1993 │ 1993 │ -1.53011  │ 2.05891 │\n",
       "│ 1994 │ 1994 │ 1.14978   │ 2.18386 │\n",
       "│ 1995 │ 1995 │ -5.86885  │ 2.20224 │\n",
       "│ 1996 │ 1996 │ -5.52442  │ 2.24245 │\n",
       "│ 1997 │ 1997 │ 2.44065   │ 1.92822 │\n",
       "│ 1998 │ 1998 │ -2.30847  │ 1.68456 │\n",
       "│ 1999 │ 1999 │ 3.22134   │ 2.26772 │\n",
       "│ 2000 │ 2000 │ -5.04357  │ 2.04881 │"
      ]
     },
     "execution_count": 13,
     "metadata": {},
     "output_type": "execute_result"
    }
   ],
   "source": [
    "out[\"EBV_y\"]"
   ]
  },
  {
   "cell_type": "code",
   "execution_count": 14,
   "metadata": {},
   "outputs": [
    {
     "data": {
      "text/plain": [
       "21834×2 Array{Any,2}:\n",
       " \"1\"      0.00333333 \n",
       " \"2\"      0.001      \n",
       " \"3\"      0.001      \n",
       " \"4\"      0.000666667\n",
       " \"5\"      0.000666667\n",
       " \"6\"      0.000666667\n",
       " \"7\"      0.00133333 \n",
       " \"8\"      0.00133333 \n",
       " \"9\"      0.0        \n",
       " \"10\"     0.000333333\n",
       " \"11\"     0.000333333\n",
       " \"12\"     0.001      \n",
       " \"13\"     0.000333333\n",
       " ⋮                   \n",
       " \"21823\"  0.00266667 \n",
       " \"21824\"  0.00166667 \n",
       " \"21825\"  0.0        \n",
       " \"21826\"  0.00133333 \n",
       " \"21827\"  0.000666667\n",
       " \"21828\"  0.001      \n",
       " \"21829\"  0.000666667\n",
       " \"21830\"  0.000666667\n",
       " \"21831\"  0.002      \n",
       " \"21832\"  0.000333333\n",
       " \"21833\"  0.0        \n",
       " \"21834\"  0.00166667 "
      ]
     },
     "execution_count": 14,
     "metadata": {},
     "output_type": "execute_result"
    }
   ],
   "source": [
    "res = GWAS(\"MCMCSamples_marker_effects_y.txt\";header=true)"
   ]
  },
  {
   "cell_type": "code",
   "execution_count": 15,
   "metadata": {},
   "outputs": [
    {
     "data": {
      "text/plain": [
       "40×4 Array{Any,2}:\n",
       " \"8729\"   0.341333      1.13899     0.381651   \n",
       " \"18201\"  0.372333      0.742589    0.350259   \n",
       " \"16771\"  0.000333333  -0.416029   -1.39222e-5 \n",
       " \"14237\"  0.006        -0.68567    -0.00404859 \n",
       " \"11291\"  0.0183333    -1.25694    -0.0234683  \n",
       " \"15837\"  0.001         0.060424    1.78569e-5 \n",
       " \"17008\"  0.00266667   -0.333503   -0.000549884\n",
       " \"16115\"  0.002         0.457435    0.000240114\n",
       " \"1681\"   0.000333333   0.0351858   1.2621e-5  \n",
       " \"15679\"  0.275         2.7329      0.613486   \n",
       " \"2790\"   0.00633333   -0.692791   -0.00436163 \n",
       " \"20843\"  0.00166667   -0.411793   -0.000869606\n",
       " \"19915\"  0.00133333   -0.146152   -0.000408079\n",
       " ⋮                                             \n",
       " \"11391\"  0.000666667  -0.132497   -0.000131677\n",
       " \"17889\"  0.0343333     0.426983    0.0210134  \n",
       " \"7815\"   0.258667     -1.64235    -0.360953   \n",
       " \"18247\"  0.215667     -1.10174    -0.245908   \n",
       " \"21776\"  0.00366667   -1.16958    -0.00204715 \n",
       " \"1206\"   0.00266667    0.15797     0.000668019\n",
       " \"6447\"   0.198        -0.978558   -0.202782   \n",
       " \"14881\"  0.00433333    0.334122    0.00169719 \n",
       " \"8043\"   0.0116667    -1.16384    -0.0113336  \n",
       " \"21226\"  0.00233333   -0.727422   -0.000607667\n",
       " \"14022\"  0.00133333   -0.463916   -0.000856381\n",
       " \"7705\"   0.009        -0.397445   -0.0053518  "
      ]
     },
     "execution_count": 15,
     "metadata": {},
     "output_type": "execute_result"
    }
   ],
   "source": [
    "[res[posQTL,:] beta  out[\"Posterior mean of marker effects\"][posQTL,2]]"
   ]
  },
  {
   "cell_type": "code",
   "execution_count": 16,
   "metadata": {},
   "outputs": [
    {
     "name": "stdout",
     "output_type": "stream",
     "text": [
      "Compute the posterior probability of association of the genomic window that explains more than 0.001 of the total genetic variance\n"
     ]
    },
    {
     "data": {
      "text/html": [
       "<table class=\"data-frame\"><thead><tr><th></th><th>wStart</th><th>wEnd</th><th>wSize</th><th>prGenVar</th><th>WPPA</th><th>PPA_t</th></tr><tr><th></th><th>Int64</th><th>Int64</th><th>Int64</th><th>Float64</th><th>Float64</th><th>Float64</th></tr></thead><tbody><p>219 rows × 6 columns</p><tr><th>1</th><td>7801</td><td>7900</td><td>100</td><td>5.61</td><td>1.0</td><td>1.0</td></tr><tr><th>2</th><td>15601</td><td>15700</td><td>100</td><td>19.48</td><td>1.0</td><td>1.0</td></tr><tr><th>3</th><td>20201</td><td>20300</td><td>100</td><td>6.6</td><td>1.0</td><td>1.0</td></tr><tr><th>4</th><td>20501</td><td>20600</td><td>100</td><td>7.57</td><td>0.999667</td><td>0.999917</td></tr><tr><th>5</th><td>8701</td><td>8800</td><td>100</td><td>4.71</td><td>0.995</td><td>0.998933</td></tr><tr><th>6</th><td>6401</td><td>6500</td><td>100</td><td>3.89</td><td>0.985</td><td>0.996611</td></tr><tr><th>7</th><td>3801</td><td>3900</td><td>100</td><td>4.08</td><td>0.979</td><td>0.994095</td></tr><tr><th>8</th><td>18201</td><td>18300</td><td>100</td><td>5.89</td><td>0.962333</td><td>0.990125</td></tr><tr><th>9</th><td>3101</td><td>3200</td><td>100</td><td>7.78</td><td>0.956333</td><td>0.98637</td></tr><tr><th>10</th><td>11201</td><td>11300</td><td>100</td><td>2.16</td><td>0.859333</td><td>0.973667</td></tr><tr><th>11</th><td>19901</td><td>20000</td><td>100</td><td>1.62</td><td>0.847667</td><td>0.962212</td></tr><tr><th>12</th><td>19301</td><td>19400</td><td>100</td><td>2.04</td><td>0.796667</td><td>0.948417</td></tr><tr><th>13</th><td>1101</td><td>1200</td><td>100</td><td>1.53</td><td>0.705</td><td>0.929692</td></tr><tr><th>14</th><td>14501</td><td>14600</td><td>100</td><td>1.1</td><td>0.703333</td><td>0.913524</td></tr><tr><th>15</th><td>12901</td><td>13000</td><td>100</td><td>2.49</td><td>0.699</td><td>0.899222</td></tr><tr><th>16</th><td>4201</td><td>4300</td><td>100</td><td>1.53</td><td>0.579333</td><td>0.879229</td></tr><tr><th>17</th><td>8301</td><td>8400</td><td>100</td><td>0.84</td><td>0.544667</td><td>0.859549</td></tr><tr><th>18</th><td>201</td><td>300</td><td>100</td><td>1.07</td><td>0.536333</td><td>0.841593</td></tr><tr><th>19</th><td>3501</td><td>3600</td><td>100</td><td>0.86</td><td>0.522667</td><td>0.824807</td></tr><tr><th>20</th><td>4101</td><td>4200</td><td>100</td><td>1.24</td><td>0.515333</td><td>0.809333</td></tr><tr><th>21</th><td>17801</td><td>17900</td><td>100</td><td>0.84</td><td>0.511</td><td>0.795127</td></tr><tr><th>22</th><td>11901</td><td>12000</td><td>100</td><td>0.85</td><td>0.478333</td><td>0.780727</td></tr><tr><th>23</th><td>9301</td><td>9400</td><td>100</td><td>0.76</td><td>0.455667</td><td>0.766594</td></tr><tr><th>24</th><td>13001</td><td>13100</td><td>100</td><td>1.3</td><td>0.414</td><td>0.751903</td></tr><tr><th>25</th><td>18701</td><td>18800</td><td>100</td><td>0.57</td><td>0.391667</td><td>0.737493</td></tr><tr><th>26</th><td>901</td><td>1000</td><td>100</td><td>0.72</td><td>0.374667</td><td>0.723538</td></tr><tr><th>27</th><td>2701</td><td>2800</td><td>100</td><td>0.56</td><td>0.353333</td><td>0.709827</td></tr><tr><th>28</th><td>12701</td><td>12800</td><td>100</td><td>0.37</td><td>0.304</td><td>0.695333</td></tr><tr><th>29</th><td>2801</td><td>2900</td><td>100</td><td>0.37</td><td>0.285333</td><td>0.681195</td></tr><tr><th>30</th><td>12601</td><td>12700</td><td>100</td><td>0.33</td><td>0.283</td><td>0.667922</td></tr><tr><th>&vellip;</th><td>&vellip;</td><td>&vellip;</td><td>&vellip;</td><td>&vellip;</td><td>&vellip;</td><td>&vellip;</td></tr></tbody></table>"
      ],
      "text/latex": [
       "\\begin{tabular}{r|cccccc}\n",
       "\t& wStart & wEnd & wSize & prGenVar & WPPA & PPA\\_t\\\\\n",
       "\t\\hline\n",
       "\t& Int64 & Int64 & Int64 & Float64 & Float64 & Float64\\\\\n",
       "\t\\hline\n",
       "\t1 & 7801 & 7900 & 100 & 5.61 & 1.0 & 1.0 \\\\\n",
       "\t2 & 15601 & 15700 & 100 & 19.48 & 1.0 & 1.0 \\\\\n",
       "\t3 & 20201 & 20300 & 100 & 6.6 & 1.0 & 1.0 \\\\\n",
       "\t4 & 20501 & 20600 & 100 & 7.57 & 0.999667 & 0.999917 \\\\\n",
       "\t5 & 8701 & 8800 & 100 & 4.71 & 0.995 & 0.998933 \\\\\n",
       "\t6 & 6401 & 6500 & 100 & 3.89 & 0.985 & 0.996611 \\\\\n",
       "\t7 & 3801 & 3900 & 100 & 4.08 & 0.979 & 0.994095 \\\\\n",
       "\t8 & 18201 & 18300 & 100 & 5.89 & 0.962333 & 0.990125 \\\\\n",
       "\t9 & 3101 & 3200 & 100 & 7.78 & 0.956333 & 0.98637 \\\\\n",
       "\t10 & 11201 & 11300 & 100 & 2.16 & 0.859333 & 0.973667 \\\\\n",
       "\t11 & 19901 & 20000 & 100 & 1.62 & 0.847667 & 0.962212 \\\\\n",
       "\t12 & 19301 & 19400 & 100 & 2.04 & 0.796667 & 0.948417 \\\\\n",
       "\t13 & 1101 & 1200 & 100 & 1.53 & 0.705 & 0.929692 \\\\\n",
       "\t14 & 14501 & 14600 & 100 & 1.1 & 0.703333 & 0.913524 \\\\\n",
       "\t15 & 12901 & 13000 & 100 & 2.49 & 0.699 & 0.899222 \\\\\n",
       "\t16 & 4201 & 4300 & 100 & 1.53 & 0.579333 & 0.879229 \\\\\n",
       "\t17 & 8301 & 8400 & 100 & 0.84 & 0.544667 & 0.859549 \\\\\n",
       "\t18 & 201 & 300 & 100 & 1.07 & 0.536333 & 0.841593 \\\\\n",
       "\t19 & 3501 & 3600 & 100 & 0.86 & 0.522667 & 0.824807 \\\\\n",
       "\t20 & 4101 & 4200 & 100 & 1.24 & 0.515333 & 0.809333 \\\\\n",
       "\t21 & 17801 & 17900 & 100 & 0.84 & 0.511 & 0.795127 \\\\\n",
       "\t22 & 11901 & 12000 & 100 & 0.85 & 0.478333 & 0.780727 \\\\\n",
       "\t23 & 9301 & 9400 & 100 & 0.76 & 0.455667 & 0.766594 \\\\\n",
       "\t24 & 13001 & 13100 & 100 & 1.3 & 0.414 & 0.751903 \\\\\n",
       "\t25 & 18701 & 18800 & 100 & 0.57 & 0.391667 & 0.737493 \\\\\n",
       "\t26 & 901 & 1000 & 100 & 0.72 & 0.374667 & 0.723538 \\\\\n",
       "\t27 & 2701 & 2800 & 100 & 0.56 & 0.353333 & 0.709827 \\\\\n",
       "\t28 & 12701 & 12800 & 100 & 0.37 & 0.304 & 0.695333 \\\\\n",
       "\t29 & 2801 & 2900 & 100 & 0.37 & 0.285333 & 0.681195 \\\\\n",
       "\t30 & 12601 & 12700 & 100 & 0.33 & 0.283 & 0.667922 \\\\\n",
       "\t$\\dots$ & $\\dots$ & $\\dots$ & $\\dots$ & $\\dots$ & $\\dots$ & $\\dots$ \\\\\n",
       "\\end{tabular}\n"
      ],
      "text/plain": [
       "219×6 DataFrame\n",
       "│ Row │ wStart │ wEnd  │ wSize │ prGenVar │ WPPA      │ PPA_t    │\n",
       "│     │ \u001b[90mInt64\u001b[39m  │ \u001b[90mInt64\u001b[39m │ \u001b[90mInt64\u001b[39m │ \u001b[90mFloat64\u001b[39m  │ \u001b[90mFloat64\u001b[39m   │ \u001b[90mFloat64\u001b[39m  │\n",
       "├─────┼────────┼───────┼───────┼──────────┼───────────┼──────────┤\n",
       "│ 1   │ 7801   │ 7900  │ 100   │ 5.61     │ 1.0       │ 1.0      │\n",
       "│ 2   │ 15601  │ 15700 │ 100   │ 19.48    │ 1.0       │ 1.0      │\n",
       "│ 3   │ 20201  │ 20300 │ 100   │ 6.6      │ 1.0       │ 1.0      │\n",
       "│ 4   │ 20501  │ 20600 │ 100   │ 7.57     │ 0.999667  │ 0.999917 │\n",
       "│ 5   │ 8701   │ 8800  │ 100   │ 4.71     │ 0.995     │ 0.998933 │\n",
       "│ 6   │ 6401   │ 6500  │ 100   │ 3.89     │ 0.985     │ 0.996611 │\n",
       "│ 7   │ 3801   │ 3900  │ 100   │ 4.08     │ 0.979     │ 0.994095 │\n",
       "│ 8   │ 18201  │ 18300 │ 100   │ 5.89     │ 0.962333  │ 0.990125 │\n",
       "│ 9   │ 3101   │ 3200  │ 100   │ 7.78     │ 0.956333  │ 0.98637  │\n",
       "│ 10  │ 11201  │ 11300 │ 100   │ 2.16     │ 0.859333  │ 0.973667 │\n",
       "⋮\n",
       "│ 209 │ 15101  │ 15200 │ 100   │ 0.02     │ 0.0523333 │ 0.187475 │\n",
       "│ 210 │ 16701  │ 16800 │ 100   │ 0.02     │ 0.0523333 │ 0.186832 │\n",
       "│ 211 │ 701    │ 800   │ 100   │ 0.02     │ 0.052     │ 0.186193 │\n",
       "│ 212 │ 10801  │ 10900 │ 100   │ 0.02     │ 0.052     │ 0.18556  │\n",
       "│ 213 │ 4801   │ 4900  │ 100   │ 0.02     │ 0.0513333 │ 0.18493  │\n",
       "│ 214 │ 2001   │ 2100  │ 100   │ 0.02     │ 0.0503333 │ 0.184301 │\n",
       "│ 215 │ 15901  │ 16000 │ 100   │ 0.03     │ 0.0503333 │ 0.183678 │\n",
       "│ 216 │ 17401  │ 17500 │ 100   │ 0.02     │ 0.0483333 │ 0.183051 │\n",
       "│ 217 │ 16801  │ 16900 │ 100   │ 0.02     │ 0.0446667 │ 0.182413 │\n",
       "│ 218 │ 10501  │ 10600 │ 100   │ 0.02     │ 0.043     │ 0.181774 │\n",
       "│ 219 │ 21801  │ 21834 │ 100   │ 0.01     │ 0.024     │ 0.181053 │"
      ]
     },
     "execution_count": 16,
     "metadata": {},
     "output_type": "execute_result"
    }
   ],
   "source": [
    "winVar = GWAS(\"MCMCSamples_marker_effects_y.txt\",model.output_genotypes;header=true,window_size=100,threshold=0.001)"
   ]
  },
  {
   "cell_type": "code",
   "execution_count": 17,
   "metadata": {},
   "outputs": [
    {
     "data": {
      "text/plain": [
       "104.65999999999997"
      ]
     },
     "execution_count": 17,
     "metadata": {},
     "output_type": "execute_result"
    }
   ],
   "source": [
    "sum(winVar[:prGenVar])"
   ]
  },
  {
   "cell_type": "code",
   "execution_count": 18,
   "metadata": {},
   "outputs": [],
   "source": [
    "sortPosQTL = sort(posQTL);"
   ]
  },
  {
   "cell_type": "code",
   "execution_count": 22,
   "metadata": {},
   "outputs": [
    {
     "data": {
      "text/html": [
       "<table class=\"data-frame\"><thead><tr><th></th><th>wStart</th><th>wEnd</th><th>wQTL</th><th>oQTL</th><th>prVar</th><th>WPPA</th><th>PPA_t</th></tr><tr><th></th><th>Int64</th><th>Int64</th><th>Int64</th><th>Int64</th><th>Float64</th><th>Float64</th><th>Float64</th></tr></thead><tbody><p>27 rows × 7 columns</p><tr><th>1</th><td>7801</td><td>7900</td><td>7815</td><td>96</td><td>5.61</td><td>1.0</td><td>1.0</td></tr><tr><th>2</th><td>15601</td><td>15700</td><td>15679</td><td>137</td><td>19.48</td><td>1.0</td><td>1.0</td></tr><tr><th>3</th><td>20201</td><td>20300</td><td>20210</td><td>252</td><td>6.6</td><td>1.0</td><td>1.0</td></tr><tr><th>4</th><td>20501</td><td>20600</td><td>20589</td><td>243</td><td>7.57</td><td>0.999667</td><td>0.999917</td></tr><tr><th>5</th><td>8701</td><td>8800</td><td>8729</td><td>228</td><td>4.71</td><td>0.995</td><td>0.998933</td></tr><tr><th>6</th><td>6401</td><td>6500</td><td>6447</td><td>1205</td><td>3.89</td><td>0.985</td><td>0.996611</td></tr><tr><th>7</th><td>3801</td><td>3900</td><td>3843</td><td>355</td><td>4.08</td><td>0.979</td><td>0.994095</td></tr><tr><th>8</th><td>18201</td><td>18300</td><td>18201</td><td>0</td><td>5.89</td><td>0.962333</td><td>0.990125</td></tr><tr><th>9</th><td>3101</td><td>3200</td><td>3139</td><td>311</td><td>7.78</td><td>0.956333</td><td>0.98637</td></tr><tr><th>10</th><td>11201</td><td>11300</td><td>11291</td><td>91</td><td>2.16</td><td>0.859333</td><td>0.973667</td></tr><tr><th>11</th><td>19901</td><td>20000</td><td>19915</td><td>210</td><td>1.62</td><td>0.847667</td><td>0.962212</td></tr><tr><th>12</th><td>19301</td><td>19400</td><td>0</td><td>277</td><td>2.04</td><td>0.796667</td><td>0.948417</td></tr><tr><th>13</th><td>1101</td><td>1200</td><td>0</td><td>6</td><td>1.53</td><td>0.705</td><td>0.929692</td></tr><tr><th>14</th><td>14501</td><td>14600</td><td>14577</td><td>264</td><td>1.1</td><td>0.703333</td><td>0.913524</td></tr><tr><th>15</th><td>12901</td><td>13000</td><td>12995</td><td>210</td><td>2.49</td><td>0.699</td><td>0.899222</td></tr><tr><th>16</th><td>4201</td><td>4300</td><td>4255</td><td>49</td><td>1.53</td><td>0.579333</td><td>0.879229</td></tr><tr><th>17</th><td>8301</td><td>8400</td><td>0</td><td>258</td><td>0.84</td><td>0.544667</td><td>0.859549</td></tr><tr><th>18</th><td>201</td><td>300</td><td>285</td><td>201</td><td>1.07</td><td>0.536333</td><td>0.841593</td></tr><tr><th>19</th><td>3501</td><td>3600</td><td>0</td><td>243</td><td>0.86</td><td>0.522667</td><td>0.824807</td></tr><tr><th>20</th><td>4101</td><td>4200</td><td>0</td><td>55</td><td>1.24</td><td>0.515333</td><td>0.809333</td></tr><tr><th>21</th><td>17801</td><td>17900</td><td>17889</td><td>301</td><td>0.84</td><td>0.511</td><td>0.795127</td></tr><tr><th>22</th><td>11901</td><td>12000</td><td>0</td><td>510</td><td>0.85</td><td>0.478333</td><td>0.780727</td></tr><tr><th>23</th><td>9301</td><td>9400</td><td>0</td><td>273</td><td>0.76</td><td>0.455667</td><td>0.766594</td></tr><tr><th>24</th><td>13001</td><td>13100</td><td>0</td><td>6</td><td>1.3</td><td>0.414</td><td>0.751903</td></tr><tr><th>25</th><td>18701</td><td>18800</td><td>0</td><td>454</td><td>0.57</td><td>0.391667</td><td>0.737493</td></tr><tr><th>26</th><td>901</td><td>1000</td><td>0</td><td>206</td><td>0.72</td><td>0.374667</td><td>0.723538</td></tr><tr><th>27</th><td>2701</td><td>2800</td><td>2790</td><td>339</td><td>0.56</td><td>0.353333</td><td>0.709827</td></tr></tbody></table>"
      ],
      "text/latex": [
       "\\begin{tabular}{r|ccccccc}\n",
       "\t& wStart & wEnd & wQTL & oQTL & prVar & WPPA & PPA\\_t\\\\\n",
       "\t\\hline\n",
       "\t& Int64 & Int64 & Int64 & Int64 & Float64 & Float64 & Float64\\\\\n",
       "\t\\hline\n",
       "\t1 & 7801 & 7900 & 7815 & 96 & 5.61 & 1.0 & 1.0 \\\\\n",
       "\t2 & 15601 & 15700 & 15679 & 137 & 19.48 & 1.0 & 1.0 \\\\\n",
       "\t3 & 20201 & 20300 & 20210 & 252 & 6.6 & 1.0 & 1.0 \\\\\n",
       "\t4 & 20501 & 20600 & 20589 & 243 & 7.57 & 0.999667 & 0.999917 \\\\\n",
       "\t5 & 8701 & 8800 & 8729 & 228 & 4.71 & 0.995 & 0.998933 \\\\\n",
       "\t6 & 6401 & 6500 & 6447 & 1205 & 3.89 & 0.985 & 0.996611 \\\\\n",
       "\t7 & 3801 & 3900 & 3843 & 355 & 4.08 & 0.979 & 0.994095 \\\\\n",
       "\t8 & 18201 & 18300 & 18201 & 0 & 5.89 & 0.962333 & 0.990125 \\\\\n",
       "\t9 & 3101 & 3200 & 3139 & 311 & 7.78 & 0.956333 & 0.98637 \\\\\n",
       "\t10 & 11201 & 11300 & 11291 & 91 & 2.16 & 0.859333 & 0.973667 \\\\\n",
       "\t11 & 19901 & 20000 & 19915 & 210 & 1.62 & 0.847667 & 0.962212 \\\\\n",
       "\t12 & 19301 & 19400 & 0 & 277 & 2.04 & 0.796667 & 0.948417 \\\\\n",
       "\t13 & 1101 & 1200 & 0 & 6 & 1.53 & 0.705 & 0.929692 \\\\\n",
       "\t14 & 14501 & 14600 & 14577 & 264 & 1.1 & 0.703333 & 0.913524 \\\\\n",
       "\t15 & 12901 & 13000 & 12995 & 210 & 2.49 & 0.699 & 0.899222 \\\\\n",
       "\t16 & 4201 & 4300 & 4255 & 49 & 1.53 & 0.579333 & 0.879229 \\\\\n",
       "\t17 & 8301 & 8400 & 0 & 258 & 0.84 & 0.544667 & 0.859549 \\\\\n",
       "\t18 & 201 & 300 & 285 & 201 & 1.07 & 0.536333 & 0.841593 \\\\\n",
       "\t19 & 3501 & 3600 & 0 & 243 & 0.86 & 0.522667 & 0.824807 \\\\\n",
       "\t20 & 4101 & 4200 & 0 & 55 & 1.24 & 0.515333 & 0.809333 \\\\\n",
       "\t21 & 17801 & 17900 & 17889 & 301 & 0.84 & 0.511 & 0.795127 \\\\\n",
       "\t22 & 11901 & 12000 & 0 & 510 & 0.85 & 0.478333 & 0.780727 \\\\\n",
       "\t23 & 9301 & 9400 & 0 & 273 & 0.76 & 0.455667 & 0.766594 \\\\\n",
       "\t24 & 13001 & 13100 & 0 & 6 & 1.3 & 0.414 & 0.751903 \\\\\n",
       "\t25 & 18701 & 18800 & 0 & 454 & 0.57 & 0.391667 & 0.737493 \\\\\n",
       "\t26 & 901 & 1000 & 0 & 206 & 0.72 & 0.374667 & 0.723538 \\\\\n",
       "\t27 & 2701 & 2800 & 2790 & 339 & 0.56 & 0.353333 & 0.709827 \\\\\n",
       "\\end{tabular}\n"
      ],
      "text/plain": [
       "27×7 DataFrame\n",
       "│ Row │ wStart │ wEnd  │ wQTL  │ oQTL  │ prVar   │ WPPA     │ PPA_t    │\n",
       "│     │ \u001b[90mInt64\u001b[39m  │ \u001b[90mInt64\u001b[39m │ \u001b[90mInt64\u001b[39m │ \u001b[90mInt64\u001b[39m │ \u001b[90mFloat64\u001b[39m │ \u001b[90mFloat64\u001b[39m  │ \u001b[90mFloat64\u001b[39m  │\n",
       "├─────┼────────┼───────┼───────┼───────┼─────────┼──────────┼──────────┤\n",
       "│ 1   │ 7801   │ 7900  │ 7815  │ 96    │ 5.61    │ 1.0      │ 1.0      │\n",
       "│ 2   │ 15601  │ 15700 │ 15679 │ 137   │ 19.48   │ 1.0      │ 1.0      │\n",
       "│ 3   │ 20201  │ 20300 │ 20210 │ 252   │ 6.6     │ 1.0      │ 1.0      │\n",
       "│ 4   │ 20501  │ 20600 │ 20589 │ 243   │ 7.57    │ 0.999667 │ 0.999917 │\n",
       "│ 5   │ 8701   │ 8800  │ 8729  │ 228   │ 4.71    │ 0.995    │ 0.998933 │\n",
       "│ 6   │ 6401   │ 6500  │ 6447  │ 1205  │ 3.89    │ 0.985    │ 0.996611 │\n",
       "│ 7   │ 3801   │ 3900  │ 3843  │ 355   │ 4.08    │ 0.979    │ 0.994095 │\n",
       "│ 8   │ 18201  │ 18300 │ 18201 │ 0     │ 5.89    │ 0.962333 │ 0.990125 │\n",
       "│ 9   │ 3101   │ 3200  │ 3139  │ 311   │ 7.78    │ 0.956333 │ 0.98637  │\n",
       "│ 10  │ 11201  │ 11300 │ 11291 │ 91    │ 2.16    │ 0.859333 │ 0.973667 │\n",
       "⋮\n",
       "│ 17  │ 8301   │ 8400  │ 0     │ 258   │ 0.84    │ 0.544667 │ 0.859549 │\n",
       "│ 18  │ 201    │ 300   │ 285   │ 201   │ 1.07    │ 0.536333 │ 0.841593 │\n",
       "│ 19  │ 3501   │ 3600  │ 0     │ 243   │ 0.86    │ 0.522667 │ 0.824807 │\n",
       "│ 20  │ 4101   │ 4200  │ 0     │ 55    │ 1.24    │ 0.515333 │ 0.809333 │\n",
       "│ 21  │ 17801  │ 17900 │ 17889 │ 301   │ 0.84    │ 0.511    │ 0.795127 │\n",
       "│ 22  │ 11901  │ 12000 │ 0     │ 510   │ 0.85    │ 0.478333 │ 0.780727 │\n",
       "│ 23  │ 9301   │ 9400  │ 0     │ 273   │ 0.76    │ 0.455667 │ 0.766594 │\n",
       "│ 24  │ 13001  │ 13100 │ 0     │ 6     │ 1.3     │ 0.414    │ 0.751903 │\n",
       "│ 25  │ 18701  │ 18800 │ 0     │ 454   │ 0.57    │ 0.391667 │ 0.737493 │\n",
       "│ 26  │ 901    │ 1000  │ 0     │ 206   │ 0.72    │ 0.374667 │ 0.723538 │\n",
       "│ 27  │ 2701   │ 2800  │ 2790  │ 339   │ 0.56    │ 0.353333 │ 0.709827 │"
      ]
     },
     "execution_count": 22,
     "metadata": {},
     "output_type": "execute_result"
    }
   ],
   "source": [
    "PPA = 0.34\n",
    "bigPPA = winVar[PPA .<= winVar[:WPPA],: ]\n",
    "\n",
    "lowPos  = [findlast(sortPosQTL .<= row[1]) for row in eachrow(bigPPA)] \n",
    "highPos = [findfirst(sortPosQTL .>= row[2]) for row in eachrow(bigPPA)]   \n",
    "wPos = [findfirst(bigPPA[i,1] .<= sortPosQTL .< bigPPA[i,2]) for i=1:size(bigPPA,1) ]\n",
    "\n",
    "lowQTL  = [i == nothing ? 0 : sortPosQTL[i] for i in lowPos]\n",
    "highQTL = [i == nothing ? 0 : sortPosQTL[i] for i in highPos]\n",
    "wQTL    = [i == nothing ? 0 : sortPosQTL[i] for i in wPos]\n",
    "\n",
    "res = DataFrame(\n",
    "    wStart = bigPPA[:wStart],\n",
    "    wEnd = bigPPA[:wEnd],\n",
    "    wQTL = wQTL,\n",
    "    oQTL = min.(bigPPA[:wStart]-lowQTL,highQTL-bigPPA[:wEnd]),\n",
    "    prVar  = bigPPA[:prGenVar],\n",
    "    WPPA   = bigPPA[:WPPA],\n",
    "    PPA_t = bigPPA[:PPA_t]\n",
    "    )"
   ]
  },
  {
   "cell_type": "code",
   "execution_count": 23,
   "metadata": {},
   "outputs": [
    {
     "data": {
      "text/plain": [
       "71.42857142857143"
      ]
     },
     "execution_count": 23,
     "metadata": {},
     "output_type": "execute_result"
    }
   ],
   "source": [
    "(1 - 8/28)*100"
   ]
  },
  {
   "cell_type": "code",
   "execution_count": 21,
   "metadata": {},
   "outputs": [
    {
     "data": {
      "text/plain": [
       "93.33333333333333"
      ]
     },
     "execution_count": 21,
     "metadata": {},
     "output_type": "execute_result"
    }
   ],
   "source": [
    "(1 - 1/15)*100"
   ]
  },
  {
   "cell_type": "code",
   "execution_count": 46,
   "metadata": {},
   "outputs": [
    {
     "data": {
      "text/plain": [
       "2000×21834 Array{Float64,2}:\n",
       "  0.323   1.404  -0.53   0.3835   0.383  …   0.898   0.497   0.4105   0.497\n",
       "  0.323  -0.596  -0.53   0.3835   0.383     -0.102  -0.503   0.4105  -0.503\n",
       "  0.323  -0.596  -0.53  -0.6165  -0.617      0.898   0.497   0.4105   0.497\n",
       " -0.677   0.404  -0.53   1.3835   1.383     -1.102  -1.503   0.4105  -1.503\n",
       " -0.677  -0.596   0.47   0.3835   0.383     -0.102   0.497  -0.5895   0.497\n",
       "  1.323   0.404  -0.53  -0.6165  -0.617  …   0.898   0.497   0.4105   0.497\n",
       "  0.323   1.404  -0.53   0.3835   0.383     -0.102   0.497  -0.5895   0.497\n",
       " -0.677   0.404  -0.53   1.3835   1.383     -1.102  -1.503   0.4105  -1.503\n",
       "  0.323   0.404   0.47  -0.6165  -0.617      0.898   0.497   0.4105   0.497\n",
       "  0.323  -0.596  -0.53  -0.6165  -0.617     -1.102  -0.503  -0.5895  -0.503\n",
       " -0.677  -0.596   0.47  -0.6165  -0.617  …  -0.102  -0.503   0.4105  -0.503\n",
       "  0.323   0.404   0.47   0.3835   0.383     -1.102  -1.503   0.4105  -1.503\n",
       "  0.323  -0.596   0.47  -0.6165  -0.617     -0.102  -0.503   0.4105  -0.503\n",
       "  ⋮                                      ⋱   ⋮                             \n",
       " -0.677   0.404  -0.53   1.3835   1.383     -0.102  -0.503   0.4105  -0.503\n",
       "  0.323  -0.596  -0.53  -0.6165  -0.617     -0.102  -0.503   0.4105  -0.503\n",
       "  0.323   0.404   0.47   0.3835   0.383  …  -0.102  -0.503   0.4105  -0.503\n",
       "  1.323   1.404   0.47  -0.6165  -0.617     -0.102   0.497  -0.5895   0.497\n",
       "  0.323   0.404   0.47   0.3835   0.383     -1.102   0.497  -1.5895   0.497\n",
       " -0.677  -0.596   0.47   0.3835   0.383     -0.102  -0.503   0.4105  -0.503\n",
       " -0.677   0.404  -0.53   0.3835   0.383     -0.102   0.497  -0.5895   0.497\n",
       " -0.677  -0.596   0.47  -0.6165  -0.617  …   0.898   0.497   0.4105   0.497\n",
       " -0.677  -0.596   0.47  -0.6165  -0.617     -0.102  -0.503   0.4105  -0.503\n",
       "  0.323   0.404   0.47  -0.6165  -0.617      0.898   0.497   0.4105   0.497\n",
       "  0.323   0.404   0.47  -0.6165  -0.617     -0.102  -0.503   0.4105  -0.503\n",
       "  0.323   0.404   0.47  -0.6165  -0.617     -0.102  -0.503   0.4105  -0.503"
      ]
     },
     "execution_count": 46,
     "metadata": {},
     "output_type": "execute_result"
    }
   ],
   "source": [
    "model.output_genotypes"
   ]
  },
  {
   "cell_type": "code",
   "execution_count": null,
   "metadata": {},
   "outputs": [],
   "source": [
    "function t_test(X)\n",
    "    \n",
    "    "
   ]
  }
 ],
 "metadata": {
  "kernelspec": {
   "display_name": "Julia 1.1.0",
   "language": "julia",
   "name": "julia-1.1"
  },
  "language_info": {
   "file_extension": ".jl",
   "mimetype": "application/julia",
   "name": "julia",
   "version": "1.1.0"
  }
 },
 "nbformat": 4,
 "nbformat_minor": 2
}
