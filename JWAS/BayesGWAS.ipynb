{
 "cells": [
  {
   "cell_type": "code",
   "execution_count": 1,
   "metadata": {},
   "outputs": [],
   "source": [
    "#using Pkg\n",
    "#Pkg.add(PackageSpec(name=\"JWAS\",rev=\"master\"))\n",
    "#Pkg.develop(PackageSpec(path=\"/home/jovyan/rohan/Box Sync/JWAS.jl\"))\n",
    "#Pkg.free(\"JWAS\")"
   ]
  },
  {
   "cell_type": "code",
   "execution_count": 2,
   "metadata": {
    "collapsed": true
   },
   "outputs": [
    {
     "name": "stderr",
     "output_type": "stream",
     "text": [
      "┌ Info: Recompiling stale cache file /opt/julia/compiled/v1.1/DataFrames/AR9oZ.ji for DataFrames [a93c6f00-e57d-5684-b7b6-d8193f3e46c0]\n",
      "└ @ Base loading.jl:1184\n",
      "┌ Info: Recompiling stale cache file /opt/julia/compiled/v1.1/JWAS/tbeXw.ji for JWAS [c9a035f4-d403-5e6b-8649-6be755bc4798]\n",
      "└ @ Base loading.jl:1184\n",
      "┌ Info: Recompiling stale cache file /opt/julia/compiled/v1.1/Plots/ld3vC.ji for Plots [91a5bcdd-55d7-5caf-9e0b-520d859cae80]\n",
      "└ @ Base loading.jl:1184\n"
     ]
    }
   ],
   "source": [
    "using DataFrames              # package for working with data sets\n",
    "using JWAS                    # package for Bayesian regression analyses, including BayesB and BayesCπ        \n",
    "using JWAS:misc               # utility functions\n",
    "using Distributions       \n",
    "using Plots   # package for plotting \n",
    "using LinearAlgebra,Statistics,Random,DelimitedFiles, DataFrames"
   ]
  },
  {
   "cell_type": "markdown",
   "metadata": {},
   "source": [
    "### Input marker and phenotype data"
   ]
  },
  {
   "cell_type": "code",
   "execution_count": 3,
   "metadata": {},
   "outputs": [
    {
     "data": {
      "text/plain": [
       "removeCols! (generic function with 1 method)"
      ]
     },
     "execution_count": 3,
     "metadata": {},
     "output_type": "execute_result"
    }
   ],
   "source": [
    "function readMatBin(fileName)\n",
    "    genStr = open(fileName)\n",
    "    n = read(genStr,Int64)\n",
    "    p = read(genStr,Int64)\n",
    "    M = zeros(n,p)\n",
    "    for j in 1:p\n",
    "        for i in 1:n\n",
    "            M[i,j] = read(genStr,Float64)\n",
    "        end\n",
    "    end\n",
    "    close(genStr)\n",
    "    return M\n",
    "end\n",
    "\n",
    "function removeCols!(M,cols)\n",
    "    return M[:, [!(i in cols) for i=1:size(M,2)]]\n",
    "end"
   ]
  },
  {
   "cell_type": "code",
   "execution_count": 4,
   "metadata": {
    "collapsed": true
   },
   "outputs": [],
   "source": [
    "posQTL  = Int64.(vec(readdlm(\"posQTL.csv\")))\n",
    "beta    = readdlm(\"beta.csv\")\n",
    "M = readMatBin(\"genotypes.bin\");"
   ]
  },
  {
   "cell_type": "code",
   "execution_count": 5,
   "metadata": {
    "collapsed": true
   },
   "outputs": [
    {
     "name": "stderr",
     "output_type": "stream",
     "text": [
      "┌ Warning: readtable is deprecated, use CSV.read from the CSV package instead\n",
      "│   caller = ip:0x0\n",
      "└ @ Core :-1\n"
     ]
    },
    {
     "data": {
      "text/html": [
       "<table class=\"data-frame\"><thead><tr><th></th><th>id</th><th>y</th></tr><tr><th></th><th>Int64</th><th>Float64⍰</th></tr></thead><tbody><p>5 rows × 2 columns</p><tr><th>1</th><td>1</td><td>-3.56863</td></tr><tr><th>2</th><td>2</td><td>1.73437</td></tr><tr><th>3</th><td>3</td><td>2.31795</td></tr><tr><th>4</th><td>4</td><td>-0.264018</td></tr><tr><th>5</th><td>5</td><td>-3.13096</td></tr></tbody></table>"
      ],
      "text/latex": [
       "\\begin{tabular}{r|cc}\n",
       "\t& id & y\\\\\n",
       "\t\\hline\n",
       "\t& Int64 & Float64⍰\\\\\n",
       "\t\\hline\n",
       "\t1 & 1 & -3.56863 \\\\\n",
       "\t2 & 2 & 1.73437 \\\\\n",
       "\t3 & 3 & 2.31795 \\\\\n",
       "\t4 & 4 & -0.264018 \\\\\n",
       "\t5 & 5 & -3.13096 \\\\\n",
       "\\end{tabular}\n"
      ],
      "text/plain": [
       "5×2 DataFrame\n",
       "│ Row │ id    │ y         │\n",
       "│     │ \u001b[90mInt64\u001b[39m │ \u001b[90mFloat64⍰\u001b[39m  │\n",
       "├─────┼───────┼───────────┤\n",
       "│ 1   │ 1     │ -3.56863  │\n",
       "│ 2   │ 2     │ 1.73437   │\n",
       "│ 3   │ 3     │ 2.31795   │\n",
       "│ 4   │ 4     │ -0.264018 │\n",
       "│ 5   │ 5     │ -3.13096  │"
      ]
     },
     "execution_count": 5,
     "metadata": {},
     "output_type": "execute_result"
    }
   ],
   "source": [
    "n,p = size(M)\n",
    "simData  = readtable(\"phenotypes.csv\",header=false,names=[:y])# reading in the simulated phenotypes into a data frame\n",
    "phenData = DataFrame(id=1:n, y=simData[:y])\n",
    "first(phenData,5)"
   ]
  },
  {
   "cell_type": "code",
   "execution_count": 6,
   "metadata": {},
   "outputs": [
    {
     "data": {
      "text/html": [
       "<table class=\"data-frame\"><thead><tr><th></th><th>id</th><th>y</th></tr><tr><th></th><th>Int64</th><th>Float64⍰</th></tr></thead><tbody><p>5 rows × 2 columns</p><tr><th>1</th><td>1001</td><td>-6.22029</td></tr><tr><th>2</th><td>1002</td><td>-0.952557</td></tr><tr><th>3</th><td>1003</td><td>-9.66847</td></tr><tr><th>4</th><td>1004</td><td>-0.959437</td></tr><tr><th>5</th><td>1005</td><td>1.48486</td></tr></tbody></table>"
      ],
      "text/latex": [
       "\\begin{tabular}{r|cc}\n",
       "\t& id & y\\\\\n",
       "\t\\hline\n",
       "\t& Int64 & Float64⍰\\\\\n",
       "\t\\hline\n",
       "\t1 & 1001 & -6.22029 \\\\\n",
       "\t2 & 1002 & -0.952557 \\\\\n",
       "\t3 & 1003 & -9.66847 \\\\\n",
       "\t4 & 1004 & -0.959437 \\\\\n",
       "\t5 & 1005 & 1.48486 \\\\\n",
       "\\end{tabular}\n"
      ],
      "text/plain": [
       "5×2 DataFrame\n",
       "│ Row │ id    │ y         │\n",
       "│     │ \u001b[90mInt64\u001b[39m │ \u001b[90mFloat64⍰\u001b[39m  │\n",
       "├─────┼───────┼───────────┤\n",
       "│ 1   │ 1001  │ -6.22029  │\n",
       "│ 2   │ 1002  │ -0.952557 │\n",
       "│ 3   │ 1003  │ -9.66847  │\n",
       "│ 4   │ 1004  │ -0.959437 │\n",
       "│ 5   │ 1005  │ 1.48486   │"
      ]
     },
     "execution_count": 6,
     "metadata": {},
     "output_type": "execute_result"
    }
   ],
   "source": [
    "phenTrain = phenData[1001:end,:]\n",
    "first(phenTrain,5)"
   ]
  },
  {
   "cell_type": "code",
   "execution_count": 7,
   "metadata": {},
   "outputs": [
    {
     "data": {
      "text/plain": [
       "12.835233241520479"
      ]
     },
     "execution_count": 7,
     "metadata": {},
     "output_type": "execute_result"
    }
   ],
   "source": [
    "resVar = var(simData[:y])/2\n",
    "genVar = resVar"
   ]
  },
  {
   "cell_type": "markdown",
   "metadata": {},
   "source": [
    "### Run BayesC$\\pi$ using JWAS"
   ]
  },
  {
   "cell_type": "code",
   "execution_count": 8,
   "metadata": {
    "scrolled": false
   },
   "outputs": [
    {
     "name": "stdout",
     "output_type": "stream",
     "text": [
      "21834 markers on 2000 individuals were added.\n"
     ]
    }
   ],
   "source": [
    "ids = string.(1:size(M,1))                     # ids in genotype file are sequential numbers 1...n\n",
    "model  = build_model(\"y = intercept\",resVar)   # give model (except for marker part)\n",
    "add_genotypes(model,M,genVar,header=false,rowID=ids,G_is_marker_variance=true);"
   ]
  },
  {
   "cell_type": "code",
   "execution_count": 9,
   "metadata": {},
   "outputs": [
    {
     "name": "stdout",
     "output_type": "stream",
     "text": [
      "search: \u001b[0m\u001b[1mr\u001b[22m\u001b[0m\u001b[1mu\u001b[22m\u001b[0m\u001b[1mn\u001b[22m\u001b[0m\u001b[1mM\u001b[22m\u001b[0m\u001b[1mC\u001b[22m\u001b[0m\u001b[1mM\u001b[22m\u001b[0m\u001b[1mC\u001b[22m Ze\u001b[0m\u001b[1mr\u001b[22moMeanF\u001b[0m\u001b[1mu\u001b[22mll\u001b[0m\u001b[1mN\u001b[22mor\u001b[0m\u001b[1mm\u001b[22mal\u001b[0m\u001b[1mC\u001b[22manon\n",
      "\n"
     ]
    },
    {
     "data": {
      "text/latex": [
       "\\begin{verbatim}\n",
       "runMCMC(model::MME,df::DataFrame;\n",
       "        chain_length=1000,starting_value=false,burnin = 0,\n",
       "        output_samples_frequency = 0,output_samples_file=\"MCMC_samples\",\n",
       "        printout_model_info=true,printout_frequency=100,\n",
       "        methods=\"conventional (no markers)\",Pi=0.0,estimatePi=false,\n",
       "        single_step_analysis= false,pedigree = false,\n",
       "        missing_phenotypes=false,constraint=false,\n",
       "        update_priors_frequency::Int64=0,\n",
       "        outputEBV=true,output_PEV=false,output_heritability=false)\n",
       "\\end{verbatim}\n",
       "\\textbf{Run MCMC for Bayesian Linear Mixed Models with or without estimation of variance components.}\n",
       "\n",
       "\\begin{itemize}\n",
       "\\item Available \\textbf{methods} include \"conventional (no markers)\", \"RR-BLUP\", \"BayesB\", \"BayesC\", \"Bayesian Lasso\", and \"GBLUP\".\n",
       "\n",
       "\n",
       "\\item Single step analysis is allowed if \\textbf{single\\emph{step}analysis} = \\texttt{true} and \\textbf{pedigree} is provided.\n",
       "\n",
       "\n",
       "\\item The \\textbf{starting\\_value} can be provided as a vector of numbers for all location parameteres and marker effects, defaulting to \\texttt{0.0}s.\n",
       "\n",
       "\n",
       "\\item The first \\textbf{burnin} iterations are discarded at the beginning of a MCMC chain of length \\textbf{chain\\_length}.\n",
       "\n",
       "\n",
       "\\item Save MCMC samples every \\textbf{output\\emph{samples}frequency} iterations, defaulting to \\texttt{false}, to files \\textbf{output\\emph{samples}file}, defaulting to \\texttt{MCMC\\_samples.txt}. MCMC samples for hyperparametes (variance componets) and marker effects are saved by default if \\textbf{output\\emph{samples}frequency} is provided. MCMC samples for location parametes can be saved using \\texttt{output\\_MCMC\\_samples()}. Note that saving MCMC samples too frequently slows down the computation.\n",
       "\n",
       "\n",
       "\\item In Bayesian variable selection methods, \\textbf{Pi} for single-trait analyses is a number; \\textbf{Pi} for multi-trait analyses is a dictionary such as \\texttt{Pi=Dict([1.0; 1.0]=>0.7,[1.0; 0.0]=>0.1,[0.0; 1.0]=>0.1,[0.0; 0.0]=>0.1)}, defaulting to \\texttt{all markers have effects (0.0)} in single-trait analysis and \\texttt{all markers have effects on all traits} in multi-trait analysis. \\textbf{Pi} is estimated if \\textbf{estimatePi} = true\n",
       "\n",
       "\n",
       "\\item In multi-trait analysis, \\textbf{missing\\_phenotypes}, defaulting to \\texttt{true}, and \\textbf{constraint} variance components, defaulting to \\texttt{false}, are allowed. If \\textbf{constraint}=true, constrain residual covariances between traits to be zeros.\n",
       "\n",
       "\n",
       "\\item Print out the model information in REPL if \\texttt{printout\\_model\\_info=true}; print out the monte carlo mean in REPL with \\textbf{printout\\_frequency}, defaulting to \\texttt{false}.\n",
       "\n",
       "\n",
       "\\item Individual estimted breeding values (EBVs) are returned if \\textbf{outputEBV}=\\texttt{true}, defaulting to \\texttt{true}. Heritability and genetic variances are returned if \\textbf{output\\_heritability}=\\texttt{true}, defaulting to \\texttt{false}. Note that estimation of heritability is computaionally intensive.\n",
       "\n",
       "\\end{itemize}\n"
      ],
      "text/markdown": [
       "```\n",
       "runMCMC(model::MME,df::DataFrame;\n",
       "        chain_length=1000,starting_value=false,burnin = 0,\n",
       "        output_samples_frequency = 0,output_samples_file=\"MCMC_samples\",\n",
       "        printout_model_info=true,printout_frequency=100,\n",
       "        methods=\"conventional (no markers)\",Pi=0.0,estimatePi=false,\n",
       "        single_step_analysis= false,pedigree = false,\n",
       "        missing_phenotypes=false,constraint=false,\n",
       "        update_priors_frequency::Int64=0,\n",
       "        outputEBV=true,output_PEV=false,output_heritability=false)\n",
       "```\n",
       "\n",
       "**Run MCMC for Bayesian Linear Mixed Models with or without estimation of variance components.**\n",
       "\n",
       "  * Available **methods** include \"conventional (no markers)\", \"RR-BLUP\", \"BayesB\", \"BayesC\", \"Bayesian Lasso\", and \"GBLUP\".\n",
       "  * Single step analysis is allowed if **single*step*analysis** = `true` and **pedigree** is provided.\n",
       "  * The **starting_value** can be provided as a vector of numbers for all location parameteres and marker effects, defaulting to `0.0`s.\n",
       "  * The first **burnin** iterations are discarded at the beginning of a MCMC chain of length **chain_length**.\n",
       "  * Save MCMC samples every **output*samples*frequency** iterations, defaulting to `false`, to files **output*samples*file**, defaulting to `MCMC_samples.txt`. MCMC samples for hyperparametes (variance componets) and marker effects are saved by default if **output*samples*frequency** is provided. MCMC samples for location parametes can be saved using `output_MCMC_samples()`. Note that saving MCMC samples too frequently slows down the computation.\n",
       "  * In Bayesian variable selection methods, **Pi** for single-trait analyses is a number; **Pi** for multi-trait analyses is a dictionary such as `Pi=Dict([1.0; 1.0]=>0.7,[1.0; 0.0]=>0.1,[0.0; 1.0]=>0.1,[0.0; 0.0]=>0.1)`, defaulting to `all markers have effects (0.0)` in single-trait analysis and `all markers have effects on all traits` in multi-trait analysis. **Pi** is estimated if **estimatePi** = true\n",
       "  * In multi-trait analysis, **missing_phenotypes**, defaulting to `true`, and **constraint** variance components, defaulting to `false`, are allowed. If **constraint**=true, constrain residual covariances between traits to be zeros.\n",
       "  * Print out the model information in REPL if `printout_model_info=true`; print out the monte carlo mean in REPL with **printout_frequency**, defaulting to `false`.\n",
       "  * Individual estimted breeding values (EBVs) are returned if **outputEBV**=`true`, defaulting to `true`. Heritability and genetic variances are returned if **output_heritability**=`true`, defaulting to `false`. Note that estimation of heritability is computaionally intensive.\n"
      ],
      "text/plain": [
       "\u001b[36m  runMCMC(model::MME,df::DataFrame;\u001b[39m\n",
       "\u001b[36m          chain_length=1000,starting_value=false,burnin = 0,\u001b[39m\n",
       "\u001b[36m          output_samples_frequency = 0,output_samples_file=\"MCMC_samples\",\u001b[39m\n",
       "\u001b[36m          printout_model_info=true,printout_frequency=100,\u001b[39m\n",
       "\u001b[36m          methods=\"conventional (no markers)\",Pi=0.0,estimatePi=false,\u001b[39m\n",
       "\u001b[36m          single_step_analysis= false,pedigree = false,\u001b[39m\n",
       "\u001b[36m          missing_phenotypes=false,constraint=false,\u001b[39m\n",
       "\u001b[36m          update_priors_frequency::Int64=0,\u001b[39m\n",
       "\u001b[36m          outputEBV=true,output_PEV=false,output_heritability=false)\u001b[39m\n",
       "\n",
       "  \u001b[1mRun MCMC for Bayesian Linear Mixed Models with or without estimation of\n",
       "  variance components.\u001b[22m\n",
       "\n",
       "    •    Available \u001b[1mmethods\u001b[22m include \"conventional (no markers)\", \"RR-BLUP\",\n",
       "        \"BayesB\", \"BayesC\", \"Bayesian Lasso\", and \"GBLUP\".\n",
       "\n",
       "    •    Single step analysis is allowed if \u001b[1msingle\u001b[4mstep\u001b[24manalysis\u001b[22m = \u001b[36mtrue\u001b[39m and\n",
       "        \u001b[1mpedigree\u001b[22m is provided.\n",
       "\n",
       "    •    The \u001b[1mstarting_value\u001b[22m can be provided as a vector of numbers for all\n",
       "        location parameteres and marker effects, defaulting to \u001b[36m0.0\u001b[39ms.\n",
       "\n",
       "    •    The first \u001b[1mburnin\u001b[22m iterations are discarded at the beginning of a\n",
       "        MCMC chain of length \u001b[1mchain_length\u001b[22m.\n",
       "\n",
       "    •    Save MCMC samples every \u001b[1moutput\u001b[4msamples\u001b[24mfrequency\u001b[22m iterations,\n",
       "        defaulting to \u001b[36mfalse\u001b[39m, to files \u001b[1moutput\u001b[4msamples\u001b[24mfile\u001b[22m, defaulting to\n",
       "        \u001b[36mMCMC_samples.txt\u001b[39m. MCMC samples for hyperparametes (variance\n",
       "        componets) and marker effects are saved by default if\n",
       "        \u001b[1moutput\u001b[4msamples\u001b[24mfrequency\u001b[22m is provided. MCMC samples for location\n",
       "        parametes can be saved using \u001b[36moutput_MCMC_samples()\u001b[39m. Note that\n",
       "        saving MCMC samples too frequently slows down the computation.\n",
       "\n",
       "    •    In Bayesian variable selection methods, \u001b[1mPi\u001b[22m for single-trait\n",
       "        analyses is a number; \u001b[1mPi\u001b[22m for multi-trait analyses is a dictionary\n",
       "        such as \u001b[36mPi=Dict([1.0; 1.0]=>0.7,[1.0; 0.0]=>0.1,[0.0;\n",
       "        1.0]=>0.1,[0.0; 0.0]=>0.1)\u001b[39m, defaulting to \u001b[36mall markers have effects\n",
       "        (0.0)\u001b[39m in single-trait analysis and \u001b[36mall markers have effects on all\n",
       "        traits\u001b[39m in multi-trait analysis. \u001b[1mPi\u001b[22m is estimated if \u001b[1mestimatePi\u001b[22m =\n",
       "        true\n",
       "\n",
       "    •    In multi-trait analysis, \u001b[1mmissing_phenotypes\u001b[22m, defaulting to \u001b[36mtrue\u001b[39m,\n",
       "        and \u001b[1mconstraint\u001b[22m variance components, defaulting to \u001b[36mfalse\u001b[39m, are\n",
       "        allowed. If \u001b[1mconstraint\u001b[22m=true, constrain residual covariances\n",
       "        between traits to be zeros.\n",
       "\n",
       "    •    Print out the model information in REPL if\n",
       "        \u001b[36mprintout_model_info=true\u001b[39m; print out the monte carlo mean in REPL\n",
       "        with \u001b[1mprintout_frequency\u001b[22m, defaulting to \u001b[36mfalse\u001b[39m.\n",
       "\n",
       "    •    Individual estimted breeding values (EBVs) are returned if\n",
       "        \u001b[1moutputEBV\u001b[22m=\u001b[36mtrue\u001b[39m, defaulting to \u001b[36mtrue\u001b[39m. Heritability and genetic\n",
       "        variances are returned if \u001b[1moutput_heritability\u001b[22m=\u001b[36mtrue\u001b[39m, defaulting to\n",
       "        \u001b[36mfalse\u001b[39m. Note that estimation of heritability is computaionally\n",
       "        intensive."
      ]
     },
     "execution_count": 9,
     "metadata": {},
     "output_type": "execute_result"
    }
   ],
   "source": [
    "?runMCMC"
   ]
  },
  {
   "cell_type": "code",
   "execution_count": 10,
   "metadata": {
    "scrolled": false
   },
   "outputs": [
    {
     "name": "stdout",
     "output_type": "stream",
     "text": [
      "\u001b[0m\u001b[1mA Linear Mixed Model was build using model equations:\u001b[22m\n",
      "\n",
      "y = intercept\n",
      "\n",
      "\u001b[0m\u001b[1mModel Information:\u001b[22m\n",
      "\n",
      "Term            C/F          F/R            nLevels\n",
      "intercept       factor       fixed                1\n",
      "\n",
      "\u001b[0m\u001b[1mMCMC Information:\u001b[22m\n",
      "\n",
      "methods                                      BayesC\n",
      "chain_length                                    600\n",
      "burnin                                            0\n",
      "estimatePi                                     true\n",
      "estimateScale                                 false\n",
      "starting_value                                false\n",
      "printout_frequency                             5000\n",
      "output_samples_frequency                         20\n",
      "constraint                                    false\n",
      "missing_phenotypes                             true\n",
      "update_priors_frequency                           0\n",
      "\n",
      "\u001b[0m\u001b[1mHyper-parameters Information:\u001b[22m\n",
      "\n",
      "residual variances:                          12.835\n",
      "genetic variances (genomic):                  0.000\n",
      "marker effect variances:                     12.835\n",
      "π                                              0.99\n",
      "\n",
      "\u001b[0m\u001b[1mDegree of freedom for hyper-parameters:\u001b[22m\n",
      "\n",
      "residual variances:                           4.000\n",
      "iid random effect variances:                  4.000\n",
      "marker effect variances:                      4.000\n",
      "\n",
      "\n",
      "\n",
      "\u001b[31mThe file MCMCSamples_residual_variance.txt already exists!!! It is overwritten by the new output.\u001b[39m\n",
      "\u001b[31mThe file MCMCSamples_marker_effects_y.txt already exists!!! It is overwritten by the new output.\u001b[39m\n",
      "\u001b[31mThe file MCMCSamples_marker_effects_variances.txt already exists!!! It is overwritten by the new output.\u001b[39m\n",
      "\u001b[31mThe file MCMCSamples_pi.txt already exists!!! It is overwritten by the new output.\u001b[39m\n",
      "\u001b[31mThe file MCMCSamples_EBV_y.txt already exists!!! It is overwritten by the new output.\u001b[39m\n"
     ]
    },
    {
     "name": "stderr",
     "output_type": "stream",
     "text": [
      "\u001b[32mrunning MCMC for BayesC...100%|█████████████████████████| Time: 0:00:31\u001b[39m\n"
     ]
    }
   ],
   "source": [
    "MCMCFileNAME = \"MCMCSamples\"                  # place to put samples of marker effects\n",
    "                                              # marker effect is set to zero if that locus is not in model\n",
    "out=runMCMC(model, phenTrain,                  # tell JWAS to run analysis, for given model and data \n",
    "    Pi=0.99,                                  # intial value of π\n",
    "    estimatePi=true,\n",
    "    chain_length=600,                         # length of chain\n",
    "    printout_frequency=5000,                  # how often to show progress of analysis \n",
    "    printout_model_info=true,                 # tell JWAS to show the options used in this analysis\n",
    "    methods=\"BayesC\",                         # tell JWAS to run a BayesC analysis\n",
    "    output_samples_frequency=20,              # how often to output sampled quantities\n",
    "    output_samples_file=MCMCFileNAME,         # file name to output sampled marker effects\n",
    "    output_PEV=true\n",
    ");"
   ]
  },
  {
   "cell_type": "code",
   "execution_count": 11,
   "metadata": {},
   "outputs": [
    {
     "data": {
      "text/plain": [
       "Base.KeySet for a Dict{Any,Any} with 6 entries. Keys:\n",
       "  \"Posterior mean of marker effects\"\n",
       "  \"EBV_y\"\n",
       "  \"Posterior mean of residual variance\"\n",
       "  \"Posterior mean of marker effects variance\"\n",
       "  \"Posterior mean of location parameters\"\n",
       "  \"Posterior mean of Pi\""
      ]
     },
     "execution_count": 11,
     "metadata": {},
     "output_type": "execute_result"
    }
   ],
   "source": [
    "keys(out)"
   ]
  },
  {
   "cell_type": "code",
   "execution_count": 12,
   "metadata": {},
   "outputs": [
    {
     "data": {
      "text/html": [
       "<table class=\"data-frame\"><thead><tr><th></th><th>ID</th><th>Estimate</th><th>PEV</th></tr><tr><th></th><th>Any</th><th>Any</th><th>Float64</th></tr></thead><tbody><p>2,000 rows × 3 columns</p><tr><th>1</th><td>1</td><td>-0.202897</td><td>1.85227</td></tr><tr><th>2</th><td>2</td><td>2.91164</td><td>1.88301</td></tr><tr><th>3</th><td>3</td><td>-0.612686</td><td>3.16087</td></tr><tr><th>4</th><td>4</td><td>8.33118</td><td>2.78611</td></tr><tr><th>5</th><td>5</td><td>0.776793</td><td>2.27356</td></tr><tr><th>6</th><td>6</td><td>-1.11141</td><td>1.6728</td></tr><tr><th>7</th><td>7</td><td>4.18797</td><td>1.17498</td></tr><tr><th>8</th><td>8</td><td>0.29975</td><td>1.55328</td></tr><tr><th>9</th><td>9</td><td>0.433276</td><td>2.12371</td></tr><tr><th>10</th><td>10</td><td>-2.68478</td><td>4.13616</td></tr><tr><th>11</th><td>11</td><td>2.349</td><td>2.85893</td></tr><tr><th>12</th><td>12</td><td>0.978673</td><td>3.09507</td></tr><tr><th>13</th><td>13</td><td>2.78217</td><td>1.27602</td></tr><tr><th>14</th><td>14</td><td>1.11936</td><td>3.16906</td></tr><tr><th>15</th><td>15</td><td>3.84871</td><td>3.6269</td></tr><tr><th>16</th><td>16</td><td>2.82095</td><td>2.82008</td></tr><tr><th>17</th><td>17</td><td>1.60265</td><td>1.66723</td></tr><tr><th>18</th><td>18</td><td>1.07188</td><td>1.90895</td></tr><tr><th>19</th><td>19</td><td>0.891097</td><td>2.6945</td></tr><tr><th>20</th><td>20</td><td>-5.14923</td><td>2.58053</td></tr><tr><th>21</th><td>21</td><td>-4.83679</td><td>1.88666</td></tr><tr><th>22</th><td>22</td><td>-0.766722</td><td>1.42642</td></tr><tr><th>23</th><td>23</td><td>2.07019</td><td>1.5731</td></tr><tr><th>24</th><td>24</td><td>-1.90728</td><td>1.75819</td></tr><tr><th>25</th><td>25</td><td>3.27872</td><td>1.42554</td></tr><tr><th>26</th><td>26</td><td>-3.5866</td><td>1.5717</td></tr><tr><th>27</th><td>27</td><td>-1.94569</td><td>2.64197</td></tr><tr><th>28</th><td>28</td><td>-1.82549</td><td>0.917982</td></tr><tr><th>29</th><td>29</td><td>-1.40988</td><td>2.36703</td></tr><tr><th>30</th><td>30</td><td>1.47733</td><td>4.55631</td></tr><tr><th>&vellip;</th><td>&vellip;</td><td>&vellip;</td><td>&vellip;</td></tr></tbody></table>"
      ],
      "text/latex": [
       "\\begin{tabular}{r|ccc}\n",
       "\t& ID & Estimate & PEV\\\\\n",
       "\t\\hline\n",
       "\t& Any & Any & Float64\\\\\n",
       "\t\\hline\n",
       "\t1 & 1 & -0.202897 & 1.85227 \\\\\n",
       "\t2 & 2 & 2.91164 & 1.88301 \\\\\n",
       "\t3 & 3 & -0.612686 & 3.16087 \\\\\n",
       "\t4 & 4 & 8.33118 & 2.78611 \\\\\n",
       "\t5 & 5 & 0.776793 & 2.27356 \\\\\n",
       "\t6 & 6 & -1.11141 & 1.6728 \\\\\n",
       "\t7 & 7 & 4.18797 & 1.17498 \\\\\n",
       "\t8 & 8 & 0.29975 & 1.55328 \\\\\n",
       "\t9 & 9 & 0.433276 & 2.12371 \\\\\n",
       "\t10 & 10 & -2.68478 & 4.13616 \\\\\n",
       "\t11 & 11 & 2.349 & 2.85893 \\\\\n",
       "\t12 & 12 & 0.978673 & 3.09507 \\\\\n",
       "\t13 & 13 & 2.78217 & 1.27602 \\\\\n",
       "\t14 & 14 & 1.11936 & 3.16906 \\\\\n",
       "\t15 & 15 & 3.84871 & 3.6269 \\\\\n",
       "\t16 & 16 & 2.82095 & 2.82008 \\\\\n",
       "\t17 & 17 & 1.60265 & 1.66723 \\\\\n",
       "\t18 & 18 & 1.07188 & 1.90895 \\\\\n",
       "\t19 & 19 & 0.891097 & 2.6945 \\\\\n",
       "\t20 & 20 & -5.14923 & 2.58053 \\\\\n",
       "\t21 & 21 & -4.83679 & 1.88666 \\\\\n",
       "\t22 & 22 & -0.766722 & 1.42642 \\\\\n",
       "\t23 & 23 & 2.07019 & 1.5731 \\\\\n",
       "\t24 & 24 & -1.90728 & 1.75819 \\\\\n",
       "\t25 & 25 & 3.27872 & 1.42554 \\\\\n",
       "\t26 & 26 & -3.5866 & 1.5717 \\\\\n",
       "\t27 & 27 & -1.94569 & 2.64197 \\\\\n",
       "\t28 & 28 & -1.82549 & 0.917982 \\\\\n",
       "\t29 & 29 & -1.40988 & 2.36703 \\\\\n",
       "\t30 & 30 & 1.47733 & 4.55631 \\\\\n",
       "\t$\\dots$ & $\\dots$ & $\\dots$ & $\\dots$ \\\\\n",
       "\\end{tabular}\n"
      ],
      "text/plain": [
       "2000×3 DataFrame\n",
       "│ Row  │ ID   │ Estimate  │ PEV     │\n",
       "│      │ \u001b[90mAny\u001b[39m  │ \u001b[90mAny\u001b[39m       │ \u001b[90mFloat64\u001b[39m │\n",
       "├──────┼──────┼───────────┼─────────┤\n",
       "│ 1    │ 1    │ -0.202897 │ 1.85227 │\n",
       "│ 2    │ 2    │ 2.91164   │ 1.88301 │\n",
       "│ 3    │ 3    │ -0.612686 │ 3.16087 │\n",
       "│ 4    │ 4    │ 8.33118   │ 2.78611 │\n",
       "│ 5    │ 5    │ 0.776793  │ 2.27356 │\n",
       "│ 6    │ 6    │ -1.11141  │ 1.6728  │\n",
       "│ 7    │ 7    │ 4.18797   │ 1.17498 │\n",
       "│ 8    │ 8    │ 0.29975   │ 1.55328 │\n",
       "│ 9    │ 9    │ 0.433276  │ 2.12371 │\n",
       "│ 10   │ 10   │ -2.68478  │ 4.13616 │\n",
       "⋮\n",
       "│ 1990 │ 1990 │ 3.25207   │ 2.08468 │\n",
       "│ 1991 │ 1991 │ -4.92228  │ 2.3646  │\n",
       "│ 1992 │ 1992 │ 3.75715   │ 2.18581 │\n",
       "│ 1993 │ 1993 │ -1.74609  │ 2.3938  │\n",
       "│ 1994 │ 1994 │ 1.04464   │ 2.73677 │\n",
       "│ 1995 │ 1995 │ -6.16081  │ 2.3722  │\n",
       "│ 1996 │ 1996 │ -5.77419  │ 2.20506 │\n",
       "│ 1997 │ 1997 │ 2.71349   │ 2.18269 │\n",
       "│ 1998 │ 1998 │ -1.8775   │ 2.23496 │\n",
       "│ 1999 │ 1999 │ 3.04998   │ 1.86261 │\n",
       "│ 2000 │ 2000 │ -4.86344  │ 1.96127 │"
      ]
     },
     "execution_count": 12,
     "metadata": {},
     "output_type": "execute_result"
    }
   ],
   "source": [
    "out[\"EBV_y\"]"
   ]
  },
  {
   "cell_type": "code",
   "execution_count": 13,
   "metadata": {},
   "outputs": [
    {
     "data": {
      "text/plain": [
       "21834×2 Array{Any,2}:\n",
       " \"1\"      0.0\n",
       " \"2\"      0.0\n",
       " \"3\"      0.0\n",
       " \"4\"      0.0\n",
       " \"5\"      0.0\n",
       " \"6\"      0.0\n",
       " \"7\"      0.0\n",
       " \"8\"      0.0\n",
       " \"9\"      0.0\n",
       " \"10\"     0.0\n",
       " \"11\"     0.0\n",
       " \"12\"     0.0\n",
       " \"13\"     0.0\n",
       " ⋮           \n",
       " \"21823\"  0.0\n",
       " \"21824\"  0.0\n",
       " \"21825\"  0.0\n",
       " \"21826\"  0.0\n",
       " \"21827\"  0.0\n",
       " \"21828\"  0.0\n",
       " \"21829\"  0.0\n",
       " \"21830\"  0.0\n",
       " \"21831\"  0.0\n",
       " \"21832\"  0.0\n",
       " \"21833\"  0.0\n",
       " \"21834\"  0.0"
      ]
     },
     "execution_count": 13,
     "metadata": {},
     "output_type": "execute_result"
    }
   ],
   "source": [
    "res = GWAS(\"MCMCSamples_marker_effects_y.txt\";header=true)"
   ]
  },
  {
   "cell_type": "code",
   "execution_count": 14,
   "metadata": {},
   "outputs": [
    {
     "data": {
      "text/plain": [
       "40×4 Array{Any,2}:\n",
       " \"8729\"   0.9         1.13899     1.022      \n",
       " \"18201\"  0.4         0.742589    0.331738   \n",
       " \"16771\"  0.0        -0.416029    0.0        \n",
       " \"14237\"  0.0        -0.68567    -0.00126742 \n",
       " \"11291\"  0.0        -1.25694    -0.00415137 \n",
       " \"15837\"  0.0         0.060424    0.0        \n",
       " \"17008\"  0.0        -0.333503    0.0        \n",
       " \"16115\"  0.0         0.457435    0.0        \n",
       " \"1681\"   0.0         0.0351858   0.0        \n",
       " \"15679\"  0.0         2.7329      0.00850048 \n",
       " \"2790\"   0.0333333  -0.692791   -0.00183932 \n",
       " \"20843\"  0.0        -0.411793   -0.000687754\n",
       " \"19915\"  0.0        -0.146152   -0.000698686\n",
       " ⋮                                           \n",
       " \"11391\"  0.0        -0.132497   -0.000312758\n",
       " \"17889\"  0.0         0.426983    0.00355595 \n",
       " \"7815\"   0.466667   -1.64235    -0.673411   \n",
       " \"18247\"  0.0        -1.10174    -0.0110182  \n",
       " \"21776\"  0.0        -1.16958    -0.00286356 \n",
       " \"1206\"   0.0         0.15797     0.0        \n",
       " \"6447\"   0.366667   -0.978558   -0.380544   \n",
       " \"14881\"  0.0         0.334122    0.00236416 \n",
       " \"8043\"   0.0        -1.16384    -0.0221928  \n",
       " \"21226\"  0.0333333  -0.727422   -0.00151941 \n",
       " \"14022\"  0.0        -0.463916   -0.000125741\n",
       " \"7705\"   0.0        -0.397445   -0.00228341 "
      ]
     },
     "execution_count": 14,
     "metadata": {},
     "output_type": "execute_result"
    }
   ],
   "source": [
    "[res[posQTL,:] beta  out[\"Posterior mean of marker effects\"][posQTL,2]]"
   ]
  },
  {
   "cell_type": "code",
   "execution_count": 15,
   "metadata": {},
   "outputs": [
    {
     "name": "stdout",
     "output_type": "stream",
     "text": [
      "Compute the posterior probability of association of the genomic window that explains more than 0.001 of the total genetic variance\n"
     ]
    },
    {
     "name": "stderr",
     "output_type": "stream",
     "text": [
      "\u001b[32mProgress: 100%|█████████████████████████████████████████| Time: 0:00:00\u001b[39m\n"
     ]
    },
    {
     "data": {
      "text/html": [
       "<table class=\"data-frame\"><thead><tr><th></th><th>win</th><th>wStart</th><th>wEnd</th><th>wSize</th><th>prGenVar</th><th>WPPA</th></tr><tr><th></th><th>Int64</th><th>Int64</th><th>Int64</th><th>Int64</th><th>Float64</th><th>Float64</th></tr></thead><tbody><p>219 rows × 6 columns</p><tr><th>1</th><td>1</td><td>1</td><td>100</td><td>100</td><td>0.01</td><td>0.0333333</td></tr><tr><th>2</th><td>2</td><td>101</td><td>200</td><td>100</td><td>0.07</td><td>0.0666667</td></tr><tr><th>3</th><td>3</td><td>201</td><td>300</td><td>100</td><td>0.71</td><td>0.366667</td></tr><tr><th>4</th><td>4</td><td>301</td><td>400</td><td>100</td><td>0.02</td><td>0.0666667</td></tr><tr><th>5</th><td>5</td><td>401</td><td>500</td><td>100</td><td>0.05</td><td>0.1</td></tr><tr><th>6</th><td>6</td><td>501</td><td>600</td><td>100</td><td>0.28</td><td>0.166667</td></tr><tr><th>7</th><td>7</td><td>601</td><td>700</td><td>100</td><td>0.12</td><td>0.166667</td></tr><tr><th>8</th><td>8</td><td>701</td><td>800</td><td>100</td><td>0.0</td><td>0.0</td></tr><tr><th>9</th><td>9</td><td>801</td><td>900</td><td>100</td><td>0.07</td><td>0.0333333</td></tr><tr><th>10</th><td>10</td><td>901</td><td>1000</td><td>100</td><td>0.67</td><td>0.266667</td></tr><tr><th>11</th><td>11</td><td>1001</td><td>1100</td><td>100</td><td>0.05</td><td>0.0666667</td></tr><tr><th>12</th><td>12</td><td>1101</td><td>1200</td><td>100</td><td>0.95</td><td>0.466667</td></tr><tr><th>13</th><td>13</td><td>1201</td><td>1300</td><td>100</td><td>0.05</td><td>0.1</td></tr><tr><th>14</th><td>14</td><td>1301</td><td>1400</td><td>100</td><td>0.02</td><td>0.0666667</td></tr><tr><th>15</th><td>15</td><td>1401</td><td>1500</td><td>100</td><td>0.0</td><td>0.0</td></tr><tr><th>16</th><td>16</td><td>1501</td><td>1600</td><td>100</td><td>0.05</td><td>0.0333333</td></tr><tr><th>17</th><td>17</td><td>1601</td><td>1700</td><td>100</td><td>0.1</td><td>0.1</td></tr><tr><th>18</th><td>18</td><td>1701</td><td>1800</td><td>100</td><td>0.03</td><td>0.1</td></tr><tr><th>19</th><td>19</td><td>1801</td><td>1900</td><td>100</td><td>0.02</td><td>0.0333333</td></tr><tr><th>20</th><td>20</td><td>1901</td><td>2000</td><td>100</td><td>0.12</td><td>0.1</td></tr><tr><th>21</th><td>21</td><td>2001</td><td>2100</td><td>100</td><td>0.02</td><td>0.0666667</td></tr><tr><th>22</th><td>22</td><td>2101</td><td>2200</td><td>100</td><td>0.04</td><td>0.0666667</td></tr><tr><th>23</th><td>23</td><td>2201</td><td>2300</td><td>100</td><td>0.08</td><td>0.133333</td></tr><tr><th>24</th><td>24</td><td>2301</td><td>2400</td><td>100</td><td>0.0</td><td>0.0</td></tr><tr><th>25</th><td>25</td><td>2401</td><td>2500</td><td>100</td><td>0.03</td><td>0.0333333</td></tr><tr><th>26</th><td>26</td><td>2501</td><td>2600</td><td>100</td><td>0.06</td><td>0.1</td></tr><tr><th>27</th><td>27</td><td>2601</td><td>2700</td><td>100</td><td>0.04</td><td>0.133333</td></tr><tr><th>28</th><td>28</td><td>2701</td><td>2800</td><td>100</td><td>0.78</td><td>0.3</td></tr><tr><th>29</th><td>29</td><td>2801</td><td>2900</td><td>100</td><td>0.1</td><td>0.166667</td></tr><tr><th>30</th><td>30</td><td>2901</td><td>3000</td><td>100</td><td>0.23</td><td>0.166667</td></tr><tr><th>&vellip;</th><td>&vellip;</td><td>&vellip;</td><td>&vellip;</td><td>&vellip;</td><td>&vellip;</td><td>&vellip;</td></tr></tbody></table>"
      ],
      "text/latex": [
       "\\begin{tabular}{r|cccccc}\n",
       "\t& win & wStart & wEnd & wSize & prGenVar & WPPA\\\\\n",
       "\t\\hline\n",
       "\t& Int64 & Int64 & Int64 & Int64 & Float64 & Float64\\\\\n",
       "\t\\hline\n",
       "\t1 & 1 & 1 & 100 & 100 & 0.01 & 0.0333333 \\\\\n",
       "\t2 & 2 & 101 & 200 & 100 & 0.07 & 0.0666667 \\\\\n",
       "\t3 & 3 & 201 & 300 & 100 & 0.71 & 0.366667 \\\\\n",
       "\t4 & 4 & 301 & 400 & 100 & 0.02 & 0.0666667 \\\\\n",
       "\t5 & 5 & 401 & 500 & 100 & 0.05 & 0.1 \\\\\n",
       "\t6 & 6 & 501 & 600 & 100 & 0.28 & 0.166667 \\\\\n",
       "\t7 & 7 & 601 & 700 & 100 & 0.12 & 0.166667 \\\\\n",
       "\t8 & 8 & 701 & 800 & 100 & 0.0 & 0.0 \\\\\n",
       "\t9 & 9 & 801 & 900 & 100 & 0.07 & 0.0333333 \\\\\n",
       "\t10 & 10 & 901 & 1000 & 100 & 0.67 & 0.266667 \\\\\n",
       "\t11 & 11 & 1001 & 1100 & 100 & 0.05 & 0.0666667 \\\\\n",
       "\t12 & 12 & 1101 & 1200 & 100 & 0.95 & 0.466667 \\\\\n",
       "\t13 & 13 & 1201 & 1300 & 100 & 0.05 & 0.1 \\\\\n",
       "\t14 & 14 & 1301 & 1400 & 100 & 0.02 & 0.0666667 \\\\\n",
       "\t15 & 15 & 1401 & 1500 & 100 & 0.0 & 0.0 \\\\\n",
       "\t16 & 16 & 1501 & 1600 & 100 & 0.05 & 0.0333333 \\\\\n",
       "\t17 & 17 & 1601 & 1700 & 100 & 0.1 & 0.1 \\\\\n",
       "\t18 & 18 & 1701 & 1800 & 100 & 0.03 & 0.1 \\\\\n",
       "\t19 & 19 & 1801 & 1900 & 100 & 0.02 & 0.0333333 \\\\\n",
       "\t20 & 20 & 1901 & 2000 & 100 & 0.12 & 0.1 \\\\\n",
       "\t21 & 21 & 2001 & 2100 & 100 & 0.02 & 0.0666667 \\\\\n",
       "\t22 & 22 & 2101 & 2200 & 100 & 0.04 & 0.0666667 \\\\\n",
       "\t23 & 23 & 2201 & 2300 & 100 & 0.08 & 0.133333 \\\\\n",
       "\t24 & 24 & 2301 & 2400 & 100 & 0.0 & 0.0 \\\\\n",
       "\t25 & 25 & 2401 & 2500 & 100 & 0.03 & 0.0333333 \\\\\n",
       "\t26 & 26 & 2501 & 2600 & 100 & 0.06 & 0.1 \\\\\n",
       "\t27 & 27 & 2601 & 2700 & 100 & 0.04 & 0.133333 \\\\\n",
       "\t28 & 28 & 2701 & 2800 & 100 & 0.78 & 0.3 \\\\\n",
       "\t29 & 29 & 2801 & 2900 & 100 & 0.1 & 0.166667 \\\\\n",
       "\t30 & 30 & 2901 & 3000 & 100 & 0.23 & 0.166667 \\\\\n",
       "\t$\\dots$ & $\\dots$ & $\\dots$ & $\\dots$ & $\\dots$ & $\\dots$ & $\\dots$ \\\\\n",
       "\\end{tabular}\n"
      ],
      "text/plain": [
       "219×6 DataFrame\n",
       "│ Row │ win   │ wStart │ wEnd  │ wSize │ prGenVar │ WPPA      │\n",
       "│     │ \u001b[90mInt64\u001b[39m │ \u001b[90mInt64\u001b[39m  │ \u001b[90mInt64\u001b[39m │ \u001b[90mInt64\u001b[39m │ \u001b[90mFloat64\u001b[39m  │ \u001b[90mFloat64\u001b[39m   │\n",
       "├─────┼───────┼────────┼───────┼───────┼──────────┼───────────┤\n",
       "│ 1   │ 1     │ 1      │ 100   │ 100   │ 0.01     │ 0.0333333 │\n",
       "│ 2   │ 2     │ 101    │ 200   │ 100   │ 0.07     │ 0.0666667 │\n",
       "│ 3   │ 3     │ 201    │ 300   │ 100   │ 0.71     │ 0.366667  │\n",
       "│ 4   │ 4     │ 301    │ 400   │ 100   │ 0.02     │ 0.0666667 │\n",
       "│ 5   │ 5     │ 401    │ 500   │ 100   │ 0.05     │ 0.1       │\n",
       "│ 6   │ 6     │ 501    │ 600   │ 100   │ 0.28     │ 0.166667  │\n",
       "│ 7   │ 7     │ 601    │ 700   │ 100   │ 0.12     │ 0.166667  │\n",
       "│ 8   │ 8     │ 701    │ 800   │ 100   │ 0.0      │ 0.0       │\n",
       "│ 9   │ 9     │ 801    │ 900   │ 100   │ 0.07     │ 0.0333333 │\n",
       "│ 10  │ 10    │ 901    │ 1000  │ 100   │ 0.67     │ 0.266667  │\n",
       "⋮\n",
       "│ 209 │ 209   │ 20801  │ 20900 │ 100   │ 0.26     │ 0.166667  │\n",
       "│ 210 │ 210   │ 20901  │ 21000 │ 100   │ 0.05     │ 0.133333  │\n",
       "│ 211 │ 211   │ 21001  │ 21100 │ 100   │ 0.05     │ 0.0333333 │\n",
       "│ 212 │ 212   │ 21101  │ 21200 │ 100   │ 0.02     │ 0.0666667 │\n",
       "│ 213 │ 213   │ 21201  │ 21300 │ 100   │ 0.04     │ 0.0666667 │\n",
       "│ 214 │ 214   │ 21301  │ 21400 │ 100   │ 0.03     │ 0.0333333 │\n",
       "│ 215 │ 215   │ 21401  │ 21500 │ 100   │ 0.11     │ 0.1       │\n",
       "│ 216 │ 216   │ 21501  │ 21600 │ 100   │ 0.39     │ 0.266667  │\n",
       "│ 217 │ 217   │ 21601  │ 21700 │ 100   │ 0.11     │ 0.166667  │\n",
       "│ 218 │ 218   │ 21701  │ 21800 │ 100   │ 0.0      │ 0.0       │\n",
       "│ 219 │ 219   │ 21801  │ 21834 │ 100   │ 0.03     │ 0.0333333 │"
      ]
     },
     "execution_count": 15,
     "metadata": {},
     "output_type": "execute_result"
    }
   ],
   "source": [
    "winVar = GWAS(\"MCMCSamples_marker_effects_y.txt\",model.output_genotypes;header=true,window_size=100,threshold=0.001)"
   ]
  },
  {
   "cell_type": "code",
   "execution_count": 16,
   "metadata": {},
   "outputs": [],
   "source": [
    "sortPosQTL = sort(posQTL);"
   ]
  },
  {
   "cell_type": "code",
   "execution_count": 17,
   "metadata": {},
   "outputs": [
    {
     "data": {
      "text/html": [
       "<table class=\"data-frame\"><thead><tr><th></th><th>wStart</th><th>wEnd</th><th>wQTL</th><th>oQTL</th><th>prVar</th><th>WPPA</th></tr><tr><th></th><th>Int64</th><th>Int64</th><th>Int64</th><th>Int64</th><th>Float64</th><th>Float64</th></tr></thead><tbody><p>26 rows × 6 columns</p><tr><th>1</th><td>201</td><td>300</td><td>285</td><td>201</td><td>0.71</td><td>0.366667</td></tr><tr><th>2</th><td>1101</td><td>1200</td><td>0</td><td>6</td><td>0.95</td><td>0.466667</td></tr><tr><th>3</th><td>2701</td><td>2800</td><td>2790</td><td>339</td><td>0.78</td><td>0.3</td></tr><tr><th>4</th><td>3101</td><td>3200</td><td>3139</td><td>311</td><td>9.1</td><td>1.0</td></tr><tr><th>5</th><td>3501</td><td>3600</td><td>0</td><td>243</td><td>0.85</td><td>0.533333</td></tr><tr><th>6</th><td>3801</td><td>3900</td><td>3843</td><td>355</td><td>4.6</td><td>1.0</td></tr><tr><th>7</th><td>4201</td><td>4300</td><td>4255</td><td>49</td><td>2.85</td><td>0.766667</td></tr><tr><th>8</th><td>6401</td><td>6500</td><td>6447</td><td>1205</td><td>4.61</td><td>1.0</td></tr><tr><th>9</th><td>7801</td><td>7900</td><td>7815</td><td>96</td><td>5.87</td><td>1.0</td></tr><tr><th>10</th><td>8301</td><td>8400</td><td>0</td><td>258</td><td>1.1</td><td>0.666667</td></tr><tr><th>11</th><td>8701</td><td>8800</td><td>8729</td><td>228</td><td>4.44</td><td>0.933333</td></tr><tr><th>12</th><td>9301</td><td>9400</td><td>0</td><td>273</td><td>1.24</td><td>0.5</td></tr><tr><th>13</th><td>11201</td><td>11300</td><td>11291</td><td>91</td><td>1.67</td><td>0.733333</td></tr><tr><th>14</th><td>11901</td><td>12000</td><td>0</td><td>510</td><td>0.65</td><td>0.366667</td></tr><tr><th>15</th><td>12601</td><td>12700</td><td>12691</td><td>295</td><td>0.48</td><td>0.3</td></tr><tr><th>16</th><td>12701</td><td>12800</td><td>0</td><td>10</td><td>0.55</td><td>0.333333</td></tr><tr><th>17</th><td>12901</td><td>13000</td><td>12995</td><td>210</td><td>3.46</td><td>0.866667</td></tr><tr><th>18</th><td>14501</td><td>14600</td><td>14577</td><td>264</td><td>1.48</td><td>0.8</td></tr><tr><th>19</th><td>15601</td><td>15700</td><td>15679</td><td>137</td><td>18.97</td><td>1.0</td></tr><tr><th>20</th><td>17801</td><td>17900</td><td>17889</td><td>301</td><td>0.51</td><td>0.3</td></tr><tr><th>21</th><td>18201</td><td>18300</td><td>18201</td><td>0</td><td>6.55</td><td>0.966667</td></tr><tr><th>22</th><td>19301</td><td>19400</td><td>0</td><td>277</td><td>2.99</td><td>0.9</td></tr><tr><th>23</th><td>19901</td><td>20000</td><td>19915</td><td>210</td><td>1.75</td><td>0.833333</td></tr><tr><th>24</th><td>20201</td><td>20300</td><td>20210</td><td>252</td><td>7.41</td><td>1.0</td></tr><tr><th>25</th><td>20501</td><td>20600</td><td>20589</td><td>243</td><td>5.55</td><td>1.0</td></tr><tr><th>26</th><td>20601</td><td>20700</td><td>0</td><td>12</td><td>2.94</td><td>0.633333</td></tr></tbody></table>"
      ],
      "text/latex": [
       "\\begin{tabular}{r|cccccc}\n",
       "\t& wStart & wEnd & wQTL & oQTL & prVar & WPPA\\\\\n",
       "\t\\hline\n",
       "\t& Int64 & Int64 & Int64 & Int64 & Float64 & Float64\\\\\n",
       "\t\\hline\n",
       "\t1 & 201 & 300 & 285 & 201 & 0.71 & 0.366667 \\\\\n",
       "\t2 & 1101 & 1200 & 0 & 6 & 0.95 & 0.466667 \\\\\n",
       "\t3 & 2701 & 2800 & 2790 & 339 & 0.78 & 0.3 \\\\\n",
       "\t4 & 3101 & 3200 & 3139 & 311 & 9.1 & 1.0 \\\\\n",
       "\t5 & 3501 & 3600 & 0 & 243 & 0.85 & 0.533333 \\\\\n",
       "\t6 & 3801 & 3900 & 3843 & 355 & 4.6 & 1.0 \\\\\n",
       "\t7 & 4201 & 4300 & 4255 & 49 & 2.85 & 0.766667 \\\\\n",
       "\t8 & 6401 & 6500 & 6447 & 1205 & 4.61 & 1.0 \\\\\n",
       "\t9 & 7801 & 7900 & 7815 & 96 & 5.87 & 1.0 \\\\\n",
       "\t10 & 8301 & 8400 & 0 & 258 & 1.1 & 0.666667 \\\\\n",
       "\t11 & 8701 & 8800 & 8729 & 228 & 4.44 & 0.933333 \\\\\n",
       "\t12 & 9301 & 9400 & 0 & 273 & 1.24 & 0.5 \\\\\n",
       "\t13 & 11201 & 11300 & 11291 & 91 & 1.67 & 0.733333 \\\\\n",
       "\t14 & 11901 & 12000 & 0 & 510 & 0.65 & 0.366667 \\\\\n",
       "\t15 & 12601 & 12700 & 12691 & 295 & 0.48 & 0.3 \\\\\n",
       "\t16 & 12701 & 12800 & 0 & 10 & 0.55 & 0.333333 \\\\\n",
       "\t17 & 12901 & 13000 & 12995 & 210 & 3.46 & 0.866667 \\\\\n",
       "\t18 & 14501 & 14600 & 14577 & 264 & 1.48 & 0.8 \\\\\n",
       "\t19 & 15601 & 15700 & 15679 & 137 & 18.97 & 1.0 \\\\\n",
       "\t20 & 17801 & 17900 & 17889 & 301 & 0.51 & 0.3 \\\\\n",
       "\t21 & 18201 & 18300 & 18201 & 0 & 6.55 & 0.966667 \\\\\n",
       "\t22 & 19301 & 19400 & 0 & 277 & 2.99 & 0.9 \\\\\n",
       "\t23 & 19901 & 20000 & 19915 & 210 & 1.75 & 0.833333 \\\\\n",
       "\t24 & 20201 & 20300 & 20210 & 252 & 7.41 & 1.0 \\\\\n",
       "\t25 & 20501 & 20600 & 20589 & 243 & 5.55 & 1.0 \\\\\n",
       "\t26 & 20601 & 20700 & 0 & 12 & 2.94 & 0.633333 \\\\\n",
       "\\end{tabular}\n"
      ],
      "text/plain": [
       "26×6 DataFrame\n",
       "│ Row │ wStart │ wEnd  │ wQTL  │ oQTL  │ prVar   │ WPPA     │\n",
       "│     │ \u001b[90mInt64\u001b[39m  │ \u001b[90mInt64\u001b[39m │ \u001b[90mInt64\u001b[39m │ \u001b[90mInt64\u001b[39m │ \u001b[90mFloat64\u001b[39m │ \u001b[90mFloat64\u001b[39m  │\n",
       "├─────┼────────┼───────┼───────┼───────┼─────────┼──────────┤\n",
       "│ 1   │ 201    │ 300   │ 285   │ 201   │ 0.71    │ 0.366667 │\n",
       "│ 2   │ 1101   │ 1200  │ 0     │ 6     │ 0.95    │ 0.466667 │\n",
       "│ 3   │ 2701   │ 2800  │ 2790  │ 339   │ 0.78    │ 0.3      │\n",
       "│ 4   │ 3101   │ 3200  │ 3139  │ 311   │ 9.1     │ 1.0      │\n",
       "│ 5   │ 3501   │ 3600  │ 0     │ 243   │ 0.85    │ 0.533333 │\n",
       "│ 6   │ 3801   │ 3900  │ 3843  │ 355   │ 4.6     │ 1.0      │\n",
       "│ 7   │ 4201   │ 4300  │ 4255  │ 49    │ 2.85    │ 0.766667 │\n",
       "│ 8   │ 6401   │ 6500  │ 6447  │ 1205  │ 4.61    │ 1.0      │\n",
       "│ 9   │ 7801   │ 7900  │ 7815  │ 96    │ 5.87    │ 1.0      │\n",
       "│ 10  │ 8301   │ 8400  │ 0     │ 258   │ 1.1     │ 0.666667 │\n",
       "⋮\n",
       "│ 16  │ 12701  │ 12800 │ 0     │ 10    │ 0.55    │ 0.333333 │\n",
       "│ 17  │ 12901  │ 13000 │ 12995 │ 210   │ 3.46    │ 0.866667 │\n",
       "│ 18  │ 14501  │ 14600 │ 14577 │ 264   │ 1.48    │ 0.8      │\n",
       "│ 19  │ 15601  │ 15700 │ 15679 │ 137   │ 18.97   │ 1.0      │\n",
       "│ 20  │ 17801  │ 17900 │ 17889 │ 301   │ 0.51    │ 0.3      │\n",
       "│ 21  │ 18201  │ 18300 │ 18201 │ 0     │ 6.55    │ 0.966667 │\n",
       "│ 22  │ 19301  │ 19400 │ 0     │ 277   │ 2.99    │ 0.9      │\n",
       "│ 23  │ 19901  │ 20000 │ 19915 │ 210   │ 1.75    │ 0.833333 │\n",
       "│ 24  │ 20201  │ 20300 │ 20210 │ 252   │ 7.41    │ 1.0      │\n",
       "│ 25  │ 20501  │ 20600 │ 20589 │ 243   │ 5.55    │ 1.0      │\n",
       "│ 26  │ 20601  │ 20700 │ 0     │ 12    │ 2.94    │ 0.633333 │"
      ]
     },
     "execution_count": 17,
     "metadata": {},
     "output_type": "execute_result"
    }
   ],
   "source": [
    "PPA = 0.3\n",
    "bigPPA = winVar[PPA .<= winVar[:WPPA],: ]\n",
    "lowPos  = [findlast(sortPosQTL .<= row[2]) for row in eachrow(bigPPA)] \n",
    "highPos = [findfirst(sortPosQTL .>= row[3]) for row in eachrow(bigPPA)]   \n",
    "wPos = [findfirst(bigPPA[i,2] .<= sortPosQTL .< bigPPA[i,3]) for i=1:size(bigPPA,1) ]\n",
    "\n",
    "lowQTL  = [i == nothing ? 0 : sortPosQTL[i] for i in lowPos]\n",
    "highQTL = [i == nothing ? 0 : sortPosQTL[i] for i in highPos]\n",
    "wQTL    = [i == nothing ? 0 : sortPosQTL[i] for i in wPos]\n",
    "\n",
    "res = DataFrame(\n",
    "    wStart = bigPPA[:wStart],\n",
    "    wEnd = bigPPA[:wEnd],\n",
    "    wQTL = wQTL,\n",
    "    oQTL = min.(bigPPA[:wStart]-lowQTL,highQTL-bigPPA[:wEnd]),\n",
    "    prVar  = bigPPA[:prGenVar],\n",
    "    WPPA   = bigPPA[:WPPA]\n",
    "    )"
   ]
  },
  {
   "cell_type": "code",
   "execution_count": 19,
   "metadata": {},
   "outputs": [
    {
     "data": {
      "text/html": [
       "<table class=\"data-frame\"><thead><tr><th></th><th>wStart</th><th>wEnd</th><th>wQTL</th><th>oQTL</th><th>prVar</th><th>WPPA</th></tr><tr><th></th><th>Int64</th><th>Int64</th><th>Int64</th><th>Int64</th><th>Float64</th><th>Float64</th></tr></thead><tbody><p>26 rows × 6 columns</p><tr><th>1</th><td>2701</td><td>2800</td><td>2790</td><td>339</td><td>0.78</td><td>0.3</td></tr><tr><th>2</th><td>12601</td><td>12700</td><td>12691</td><td>295</td><td>0.48</td><td>0.3</td></tr><tr><th>3</th><td>17801</td><td>17900</td><td>17889</td><td>301</td><td>0.51</td><td>0.3</td></tr><tr><th>4</th><td>12701</td><td>12800</td><td>0</td><td>10</td><td>0.55</td><td>0.333333</td></tr><tr><th>5</th><td>201</td><td>300</td><td>285</td><td>201</td><td>0.71</td><td>0.366667</td></tr><tr><th>6</th><td>11901</td><td>12000</td><td>0</td><td>510</td><td>0.65</td><td>0.366667</td></tr><tr><th>7</th><td>1101</td><td>1200</td><td>0</td><td>6</td><td>0.95</td><td>0.466667</td></tr><tr><th>8</th><td>9301</td><td>9400</td><td>0</td><td>273</td><td>1.24</td><td>0.5</td></tr><tr><th>9</th><td>3501</td><td>3600</td><td>0</td><td>243</td><td>0.85</td><td>0.533333</td></tr><tr><th>10</th><td>20601</td><td>20700</td><td>0</td><td>12</td><td>2.94</td><td>0.633333</td></tr><tr><th>11</th><td>8301</td><td>8400</td><td>0</td><td>258</td><td>1.1</td><td>0.666667</td></tr><tr><th>12</th><td>11201</td><td>11300</td><td>11291</td><td>91</td><td>1.67</td><td>0.733333</td></tr><tr><th>13</th><td>4201</td><td>4300</td><td>4255</td><td>49</td><td>2.85</td><td>0.766667</td></tr><tr><th>14</th><td>14501</td><td>14600</td><td>14577</td><td>264</td><td>1.48</td><td>0.8</td></tr><tr><th>15</th><td>19901</td><td>20000</td><td>19915</td><td>210</td><td>1.75</td><td>0.833333</td></tr><tr><th>16</th><td>12901</td><td>13000</td><td>12995</td><td>210</td><td>3.46</td><td>0.866667</td></tr><tr><th>17</th><td>19301</td><td>19400</td><td>0</td><td>277</td><td>2.99</td><td>0.9</td></tr><tr><th>18</th><td>8701</td><td>8800</td><td>8729</td><td>228</td><td>4.44</td><td>0.933333</td></tr><tr><th>19</th><td>18201</td><td>18300</td><td>18201</td><td>0</td><td>6.55</td><td>0.966667</td></tr><tr><th>20</th><td>3101</td><td>3200</td><td>3139</td><td>311</td><td>9.1</td><td>1.0</td></tr><tr><th>21</th><td>3801</td><td>3900</td><td>3843</td><td>355</td><td>4.6</td><td>1.0</td></tr><tr><th>22</th><td>6401</td><td>6500</td><td>6447</td><td>1205</td><td>4.61</td><td>1.0</td></tr><tr><th>23</th><td>7801</td><td>7900</td><td>7815</td><td>96</td><td>5.87</td><td>1.0</td></tr><tr><th>24</th><td>15601</td><td>15700</td><td>15679</td><td>137</td><td>18.97</td><td>1.0</td></tr><tr><th>25</th><td>20201</td><td>20300</td><td>20210</td><td>252</td><td>7.41</td><td>1.0</td></tr><tr><th>26</th><td>20501</td><td>20600</td><td>20589</td><td>243</td><td>5.55</td><td>1.0</td></tr></tbody></table>"
      ],
      "text/latex": [
       "\\begin{tabular}{r|cccccc}\n",
       "\t& wStart & wEnd & wQTL & oQTL & prVar & WPPA\\\\\n",
       "\t\\hline\n",
       "\t& Int64 & Int64 & Int64 & Int64 & Float64 & Float64\\\\\n",
       "\t\\hline\n",
       "\t1 & 2701 & 2800 & 2790 & 339 & 0.78 & 0.3 \\\\\n",
       "\t2 & 12601 & 12700 & 12691 & 295 & 0.48 & 0.3 \\\\\n",
       "\t3 & 17801 & 17900 & 17889 & 301 & 0.51 & 0.3 \\\\\n",
       "\t4 & 12701 & 12800 & 0 & 10 & 0.55 & 0.333333 \\\\\n",
       "\t5 & 201 & 300 & 285 & 201 & 0.71 & 0.366667 \\\\\n",
       "\t6 & 11901 & 12000 & 0 & 510 & 0.65 & 0.366667 \\\\\n",
       "\t7 & 1101 & 1200 & 0 & 6 & 0.95 & 0.466667 \\\\\n",
       "\t8 & 9301 & 9400 & 0 & 273 & 1.24 & 0.5 \\\\\n",
       "\t9 & 3501 & 3600 & 0 & 243 & 0.85 & 0.533333 \\\\\n",
       "\t10 & 20601 & 20700 & 0 & 12 & 2.94 & 0.633333 \\\\\n",
       "\t11 & 8301 & 8400 & 0 & 258 & 1.1 & 0.666667 \\\\\n",
       "\t12 & 11201 & 11300 & 11291 & 91 & 1.67 & 0.733333 \\\\\n",
       "\t13 & 4201 & 4300 & 4255 & 49 & 2.85 & 0.766667 \\\\\n",
       "\t14 & 14501 & 14600 & 14577 & 264 & 1.48 & 0.8 \\\\\n",
       "\t15 & 19901 & 20000 & 19915 & 210 & 1.75 & 0.833333 \\\\\n",
       "\t16 & 12901 & 13000 & 12995 & 210 & 3.46 & 0.866667 \\\\\n",
       "\t17 & 19301 & 19400 & 0 & 277 & 2.99 & 0.9 \\\\\n",
       "\t18 & 8701 & 8800 & 8729 & 228 & 4.44 & 0.933333 \\\\\n",
       "\t19 & 18201 & 18300 & 18201 & 0 & 6.55 & 0.966667 \\\\\n",
       "\t20 & 3101 & 3200 & 3139 & 311 & 9.1 & 1.0 \\\\\n",
       "\t21 & 3801 & 3900 & 3843 & 355 & 4.6 & 1.0 \\\\\n",
       "\t22 & 6401 & 6500 & 6447 & 1205 & 4.61 & 1.0 \\\\\n",
       "\t23 & 7801 & 7900 & 7815 & 96 & 5.87 & 1.0 \\\\\n",
       "\t24 & 15601 & 15700 & 15679 & 137 & 18.97 & 1.0 \\\\\n",
       "\t25 & 20201 & 20300 & 20210 & 252 & 7.41 & 1.0 \\\\\n",
       "\t26 & 20501 & 20600 & 20589 & 243 & 5.55 & 1.0 \\\\\n",
       "\\end{tabular}\n"
      ],
      "text/plain": [
       "26×6 DataFrame\n",
       "│ Row │ wStart │ wEnd  │ wQTL  │ oQTL  │ prVar   │ WPPA     │\n",
       "│     │ \u001b[90mInt64\u001b[39m  │ \u001b[90mInt64\u001b[39m │ \u001b[90mInt64\u001b[39m │ \u001b[90mInt64\u001b[39m │ \u001b[90mFloat64\u001b[39m │ \u001b[90mFloat64\u001b[39m  │\n",
       "├─────┼────────┼───────┼───────┼───────┼─────────┼──────────┤\n",
       "│ 1   │ 2701   │ 2800  │ 2790  │ 339   │ 0.78    │ 0.3      │\n",
       "│ 2   │ 12601  │ 12700 │ 12691 │ 295   │ 0.48    │ 0.3      │\n",
       "│ 3   │ 17801  │ 17900 │ 17889 │ 301   │ 0.51    │ 0.3      │\n",
       "│ 4   │ 12701  │ 12800 │ 0     │ 10    │ 0.55    │ 0.333333 │\n",
       "│ 5   │ 201    │ 300   │ 285   │ 201   │ 0.71    │ 0.366667 │\n",
       "│ 6   │ 11901  │ 12000 │ 0     │ 510   │ 0.65    │ 0.366667 │\n",
       "│ 7   │ 1101   │ 1200  │ 0     │ 6     │ 0.95    │ 0.466667 │\n",
       "│ 8   │ 9301   │ 9400  │ 0     │ 273   │ 1.24    │ 0.5      │\n",
       "│ 9   │ 3501   │ 3600  │ 0     │ 243   │ 0.85    │ 0.533333 │\n",
       "│ 10  │ 20601  │ 20700 │ 0     │ 12    │ 2.94    │ 0.633333 │\n",
       "⋮\n",
       "│ 16  │ 12901  │ 13000 │ 12995 │ 210   │ 3.46    │ 0.866667 │\n",
       "│ 17  │ 19301  │ 19400 │ 0     │ 277   │ 2.99    │ 0.9      │\n",
       "│ 18  │ 8701   │ 8800  │ 8729  │ 228   │ 4.44    │ 0.933333 │\n",
       "│ 19  │ 18201  │ 18300 │ 18201 │ 0     │ 6.55    │ 0.966667 │\n",
       "│ 20  │ 3101   │ 3200  │ 3139  │ 311   │ 9.1     │ 1.0      │\n",
       "│ 21  │ 3801   │ 3900  │ 3843  │ 355   │ 4.6     │ 1.0      │\n",
       "│ 22  │ 6401   │ 6500  │ 6447  │ 1205  │ 4.61    │ 1.0      │\n",
       "│ 23  │ 7801   │ 7900  │ 7815  │ 96    │ 5.87    │ 1.0      │\n",
       "│ 24  │ 15601  │ 15700 │ 15679 │ 137   │ 18.97   │ 1.0      │\n",
       "│ 25  │ 20201  │ 20300 │ 20210 │ 252   │ 7.41    │ 1.0      │\n",
       "│ 26  │ 20501  │ 20600 │ 20589 │ 243   │ 5.55    │ 1.0      │"
      ]
     },
     "execution_count": 19,
     "metadata": {},
     "output_type": "execute_result"
    }
   ],
   "source": [
    "res[sortperm(res[:WPPA]),:]\n"
   ]
  }
 ],
 "metadata": {
  "kernelspec": {
   "display_name": "Julia 1.1.0",
   "language": "julia",
   "name": "julia-1.1"
  },
  "language_info": {
   "file_extension": ".jl",
   "mimetype": "application/julia",
   "name": "julia",
   "version": "1.1.0"
  }
 },
 "nbformat": 4,
 "nbformat_minor": 2
}
