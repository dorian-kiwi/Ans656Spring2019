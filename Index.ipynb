{
 "cells": [
  {
   "cell_type": "markdown",
   "metadata": {},
   "source": [
    "# AN S 656  \n",
    "## Statistical Methods for Mapping Quantitative Trait Loci"
   ]
  },
  {
   "cell_type": "markdown",
   "metadata": {},
   "source": [
    "### Instructor: \n",
    "\n",
    "* Rohan Fernando (rohan@iastate.edu)\n"
   ]
  },
  {
   "cell_type": "markdown",
   "metadata": {},
   "source": [
    "<div style=\"float:right; \\\">\n",
    "<img src=\"QTL.jpg\" \n",
    " align=right style=\"float:right; margin-left: 5px; margin-top: -10px\" \n",
    " />\n",
    "</div>\n",
    "\n",
    "### Contents\n",
    "\n",
    "* Section 1:\n",
    "  &nbsp; **Basic**\n",
    " \n",
    "    * [1.1](basic/MapFunction.ipynb) &nbsp; Map Funtions\n",
    "    * [1.2](basic/RecProb.ipynb) &nbsp; Computation of Recombination Probabilities\n",
    "    * [1.3](basic/LD.ipynb) &nbsp; Linkage Disequilibrium\n",
    "    * [1.4](basic/EvolGenEval.pdf) &nbsp; Evolution of Genetic Evaluation\n",
    "<br><br>\n",
    "\n",
    "* Section 2:\n",
    "  &nbsp; **Bayesian Methods**\n",
    "\n",
    "    * [2.1](Bayes/BayesTheorem.ipynb) &nbsp; Bayes' Theorem\n",
    "    * [2.2](Bayes/BayesInference.ipynb) &nbsp; Bayesian Inference\n",
    "    * [2.3](Bayes/MCMC.ipynb) &nbsp; Markov Chain Monte-Carlo Methods\n",
    "    * [2.4](Bayes/BayesSimpleLinear.ipynb) &nbsp; Bayesian Inference by Application to Simple Linear Regression \n",
    "    * [2.5](Bayes/BayesMultipleRegression.ipynb) &nbsp; Extension to Multiple Linear Regression \n",
    "    * [2.6](Bayes/BayesGWAS.ipynb) &nbsp; Bayesian Regression Models for Whole-Genome Analyses \n",
    "<br><br>\n",
    "\n",
    "* Section 3:\n",
    "  &nbsp; **Single Step**\n",
    "\n",
    "    * [3.1](singleStep/ssGBLUP.ipynb) &nbsp; Single-Step GBLUP \n",
    "    * [3.2](singleStep/ssBayes.ipynb) &nbsp; Single-Step Bayesian Regression\n",
    "<br><br>\n",
    "\n",
    "* Section 4:\n",
    "  &nbsp; Some Papers\n",
    "      \n",
    "    * [Fernando, WCGALP 1998](papers/FernandoWCGALP98.pdf) \n",
    "    * [](ss.ipynb) \n",
    "<br><br>\n",
    "\n"
   ]
  }
 ],
 "metadata": {
  "kernelspec": {
   "display_name": "Python 3",
   "language": "python",
   "name": "python3"
  },
  "language": "Julia",
  "language_info": {
   "codemirror_mode": {
    "name": "ipython",
    "version": 3
   },
   "file_extension": ".py",
   "mimetype": "text/x-python",
   "name": "python",
   "nbconvert_exporter": "python",
   "pygments_lexer": "ipython3",
   "version": "3.6.6"
  }
 },
 "nbformat": 4,
 "nbformat_minor": 2
}
