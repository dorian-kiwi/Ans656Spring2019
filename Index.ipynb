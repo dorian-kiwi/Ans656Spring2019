{
 "cells": [
  {
   "cell_type": "markdown",
   "metadata": {},
   "source": [
    "# AN S 656  \n",
    "## Statistical Methods for Mapping Quantitative Trait Loci"
   ]
  },
  {
   "cell_type": "markdown",
   "metadata": {},
   "source": [
    "### Instructor: \n",
    "\n",
    "* Rohan Fernando (rohan@iastate.edu)\n"
   ]
  },
  {
   "cell_type": "markdown",
   "metadata": {},
   "source": [
    "\n",
    "\n",
    " ### Contents\n",
    "\n",
    "* Section 1:\n",
    "  **Basics**\n",
    " \n",
    "    * [1.1](basic/MapFunction.ipynb) &nbsp; Map Funtions\n",
    "    * [1.2](basic/RecProb.ipynb) &nbsp; Computation of Recombination Probabilities\n",
    "    * [1.3](basic/LD.ipynb) &nbsp; Linkage Disequilibrium\n",
    "    * [1.4](basic/EvolGenEval.pdf) &nbsp; Evolution of Genetic Evaluation\n",
    "<br><br>\n",
    "\n",
    "* Section 2:\n",
    "  **Bayesian Methods**\n",
    "\n",
    "    * [2.1](Bayes/BayesTheorem.ipynb) &nbsp; Bayes' Theorem\n",
    "    * [2.2](Bayes/BayesInference.ipynb) &nbsp; Bayesian Inference\n",
    "    * [2.3](Bayes/MCMC.ipynb) &nbsp; Markov Chain Monte-Carlo Methods\n",
    "    * [2.4](Bayes/BayesSimpleLinear.ipynb) &nbsp; Bayesian Inference by Application to Simple Linear Regression \n",
    "    * [2.5](Bayes/BayesMultipleRegression.ipynb) &nbsp; Extension to Multiple Linear Regression \n",
    "    * [2.6](Bayes/BayesGWAS.ipynb) &nbsp; Bayesian Regression Models for Whole-Genome Analyses \n",
    "<br><br>\n",
    "\n",
    "* Section 3:\n",
    "  **JWAS**\n",
    "   \n",
    "   * [3.1](JWAS/JWASInro.ipynb) Introduction to JWAS \n",
    "   \n",
    "\n",
    "* Section 4:\n",
    "  **SingleStep**\n",
    "\n",
    "    * [4.1](singleStep/ssGBLUP.ipynb) &nbsp; Single-Step GBLUP \n",
    "    * [4.2](singleStep/ssBayes.ipynb) &nbsp; Single-Step Bayesian Regression\n"
   ]
  },
  {
   "cell_type": "markdown",
   "metadata": {},
   "source": [
    "* Section 4:\n",
    "  **Some Papers**\n",
    "    * Equivance of marker-effects (RR-BLUP) and breeding-value (GBLUP) models  \n",
    "        * [Fernando, WCGALP 1998](papers/FernandoWCGALP98.pdf) \n",
    "        * [Habier et al., 2007](papers/Habier2007.pdf)\n",
    "        * [Stranden and Garrick, 2008](papers/StrandenGarrick.pdf)\n",
    "    * Linkage anlysis\n",
    "        * [Chevalet, 1984](papers/Chevalet1984.pdf)\n",
    "        * [Fernando and Grossman, 1989](papers/FernandoGrossman1989.pdf)\n",
    "        * [Sun et al., 2016](papers/Sun2016.pdf)\n",
    "    * Linkage disequilibrium in finite populations\n",
    "        * [Sved, 2009](papers/sved2009.pdf)\n"
   ]
  },
  {
   "cell_type": "markdown",
   "metadata": {},
   "source": [
    "* Older version of [notes in pdf](papers/notes.pdf)"
   ]
  }
 ],
 "metadata": {
  "kernelspec": {
   "display_name": "Python 3",
   "language": "python",
   "name": "python3"
  },
  "language": "Julia",
  "language_info": {
   "codemirror_mode": {
    "name": "ipython",
    "version": 3
   },
   "file_extension": ".py",
   "mimetype": "text/x-python",
   "name": "python",
   "nbconvert_exporter": "python",
   "pygments_lexer": "ipython3",
   "version": "3.6.6"
  }
 },
 "nbformat": 4,
 "nbformat_minor": 2
}
