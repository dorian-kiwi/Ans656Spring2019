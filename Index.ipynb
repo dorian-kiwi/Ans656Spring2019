{
 "metadata": {
  "kernelspec": {
   "codemirror_mode": {
    "name": "ipython",
    "version": 2
   },
   "display_name": "IPython (Python 2)",
   "language": "python",
   "name": "python2"
  },
  "language": "Julia",
  "name": "",
  "signature": "sha256:6d51ed993c24a55adaa41de9e85555ccc8b2bd4bd302f0e04c7c77f6b81e3071"
 },
 "nbformat": 3,
 "nbformat_minor": 0,
 "worksheets": [
  {
   "cells": [
    {
     "cell_type": "markdown",
     "metadata": {},
     "source": [
      "#ANS656  \n",
      "##Statistical Methods for Mapping Quantitative Trait Loci"
     ]
    },
    {
     "cell_type": "markdown",
     "metadata": {},
     "source": [
      "Welcome to ANS656.\n",
      "\n",
      "The note is entirely written inside <a href=\"http://ipython.org/notebook.html\" target=\"_blank\">IJulia notebooks</a>. <br>\n",
      "\n",
      "> [Juliabox](https://www.juliabox.org) is used in ANS656.\n",
      "\n",
      "Why [notebook](http://www.nature.com/news/interactive-notebooks-sharing-the-code-1.16261)?"
     ]
    },
    {
     "cell_type": "markdown",
     "metadata": {},
     "source": [
      "####About ANS656\n",
      "\n",
      "Instructor: \n",
      "\n",
      "* Rohan Fernando (rohan@iastate.edu)\n",
      "\n",
      "TA:        \n",
      "\n",
      "* Hao Cheng (haocheng@iastate.edu)\n",
      "                           "
     ]
    },
    {
     "cell_type": "markdown",
     "metadata": {},
     "source": [
      "<div style=\"float:right; \\\">\n",
      "<img src=\"QTL.jpg\" \n",
      " align=right style=\"float:right; margin-left: 5px; margin-top: -10px\" \n",
      " />\n",
      "</div>\n",
      "\n",
      "###Content\n",
      "\n",
      "* Section 1:\n",
      "  &nbsp; **Basic**\n",
      " \n",
      "    * [1.1](basic/MapFunction.ipynb) &nbsp; Map Funtions\n",
      "    * [1.2](basic/RecProb.ipynb) &nbsp; Computation of Recombination Probabilities\n",
      "    * [1.3](basic/LD.ipynb) &nbsp; Linkage Disequilibrium\n",
      "<br><br>\n",
      "\n",
      "* Section 2:\n",
      "  &nbsp; **Bayesian Methods**\n",
      "\n",
      "    * [2.1](Bayes/BayesTheorem.ipynb) &nbsp; Bayesian Theorem\n",
      "    * [2.2](Bayes/BayesInference.ipynb) &nbsp; Bayesian Inference\n",
      "    * [2.3](Bayes/MCMC.ipynb) &nbsp; Markov Chain Monte-Carlo Methods\n",
      "    * [2.4](Bayes/BayesSimpleLinear.ipynb) &nbsp; Bayesian Inference by Application to Simple Linear Regression \n",
      "    * [2.5](Bayes/BayesMultipleRegression.ipynb) &nbsp; Extension to Multiple Linear Regression \n",
      "    * [2.6](Bayes/BayesGWAS.ipynb) &nbsp; Bayesian Regression Models for Whole-Genome Analyses \n",
      "<br><br>\n",
      "\n",
      "* Section 3:\n",
      "  &nbsp; **Single Step**\n",
      "\n",
      "    * [3.1](singleStep/ssGBLUP.ipynb) &nbsp; Single-Step GBLUP \n",
      "    * [3.2](singleStep/ssBayes.ipynb) &nbsp; Single-Step Bayesian Regression\n",
      "<br><br>\n",
      "\n",
      "* Section 4:\n",
      "  &nbsp; Other\n",
      "      \n",
      "    * [4.1](ssGBLUP.ipynb) \n",
      "    * [4.2](ss.ipynb) \n",
      "<br><br>\n",
      "\n"
     ]
    }
   ],
   "metadata": {}
  }
 ]
}