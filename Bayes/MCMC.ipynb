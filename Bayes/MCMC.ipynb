{
 "metadata": {
  "kernelspec": {
   "codemirror_mode": {
    "name": "ipython",
    "version": 2
   },
   "display_name": "IPython (Python 2)",
   "language": "python",
   "name": "python2"
  },
  "language": "Julia",
  "name": "",
  "signature": "sha256:d0d08efcbee78457090ea2582bfc673e14f8be705c3c8af2426f96bb4cae355c"
 },
 "nbformat": 3,
 "nbformat_minor": 0,
 "worksheets": [
  {
   "cells": [
    {
     "cell_type": "markdown",
     "metadata": {},
     "source": [
      "Markov Chain Monte-Carlo Methods\n",
      "================================\n",
      "\n",
      "-   Often no closed form for\n",
      "    $f({\\boldsymbol \\theta}|{\\boldsymbol y})$\n",
      "\n",
      "-   Further, even if computing\n",
      "    $f({\\boldsymbol \\theta}|{\\boldsymbol y})$\n",
      "    is feasible, obtaining\n",
      "    $f(\\theta_{i}|{\\boldsymbol y})$ would require\n",
      "    integrating over many dimensions\n",
      "\n",
      "-   Thus, in many situations, inferences are made using the empirical\n",
      "    posterior constructed by drawing samples from\n",
      "    $f({\\boldsymbol \\theta}|{\\boldsymbol y})$\n",
      "\n",
      "-   Gibbs sampler is widely used for drawing samples from posteriors\n",
      "\n",
      "Gibbs Sampler\n",
      "-------------\n",
      "\n",
      "-   Want to draw samples from $f(x_{1},x_{2},\\ldots,x_{n})$\n",
      "\n",
      "-   Even though it may be possible to compute\n",
      "    $f(x_{1},x_{2},\\ldots,x_{n})$, it is difficult to draw samples\n",
      "    directly from $f(x_{1},x_{2},\\ldots,x_{n})$\n",
      "\n",
      "-   Gibbs:\n",
      "\n",
      "    -   Get valid a starting point $\\mathbf{x}^{0}$\n",
      "\n",
      "    -   Draw sample $\\mathbf{x}^{t}$ as:\n",
      "        $$\\begin{matrix}x_{1}^{t} & \\text{from} & f(x_{1}|x_{2}^{t-1},x_{3}^{t-1},\\ldots,x_{n}^{t-1})\\\\\n",
      "        x_{2}^{t} & \\text{from} & f(x_{2}|x_{1}^{t},x_{3}^{t-1},\\ldots,x_{n}^{t-1})\\\\\n",
      "        x_{3}^{t} & \\text{from} & f(x_{3}|x_{1}^{t},x_{2}^{t},\\ldots,x_{n}^{t-1})\\\\\n",
      "        \\vdots &  & \\vdots\\\\\n",
      "        x_{n}^{t} & \\text{from} & f(x_{n}|x_{1}^{t},x_{2}^{t},\\ldots,x_{n-1}^{t})\n",
      "        \\end{matrix}$$\n",
      "\n",
      "-   The sequence\n",
      "    ${\\boldsymbol x}^{1},{\\boldsymbol x}^{2},\\ldots,{\\boldsymbol x}^{n}$\n",
      "    is a Markov chain with stationary distribution\n",
      "    $f(x_{1},x_{2},\\ldots,x_{n})$\n",
      "\n",
      "Making Inferences from Markov Chain\n",
      "-----------------------------------\n",
      "\n",
      "Can show that samples obtained from a <font color='red'>Markov chain</font> can be\n",
      "used to draw inferences from $f(x_{1},x_{2},\\ldots,x_{n})$ provided the\n",
      "chain is:\n",
      "\n",
      "-   <font color='red'>Irreducible</font>: can move from any state $i$ to any other\n",
      "    state $j$\n",
      "\n",
      "-   <font color='red'>Positive recurrent</font>: return time to any state has finite\n",
      "    expectation\n",
      "\n",
      "-   *Markov Chains*, J. R. Norris (1997)"
     ]
    }
   ],
   "metadata": {}
  }
 ]
}