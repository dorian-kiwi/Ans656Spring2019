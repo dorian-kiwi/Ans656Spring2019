{
 "cells": [
  {
   "cell_type": "markdown",
   "metadata": {},
   "source": [
    "1. (30 points) Examine the Julia program for BayesC0 given [here](BayesC0.ipynb) and correct any errors. You may want to compare results with those from JWAS. Modify this program to obtain results for BayesA. Compare results   with those from BayesC0:\n",
    "\n",
    "   a. when the scale parameter is treated as known\n",
    "   \n",
    "   b. when the scale parameter is treated as unknown with a Gamma(1,1) prior. \n",
    "\n",
    "2. (30 points) Examine the Julia program for BayesC$\\pi$ given [here](BayesCPi.ipynb) and corect any errors. You may want to compare results with those from JWAS. Modify this program to obtain results for BayesB. Compare results with those from BayesC0:\n",
    "\n",
    "   a. when the scale parameter is treated as known\n",
    "   \n",
    "   b. when the scale parameter is treated as unknown with a Gamma(1,1) prior. \n",
    "   \n",
    "3. (20 points) What is the difference between controlling the genomewise type I error rate and controlling the posterior type I error rate. Which do you recommend using and why?\n",
    "\n",
    "4. (20 points) Explain the difference between single-step using a breeding-value model (SSGBLUP) and a marker-effects model. What are the advantages and disadvantages of each approach."
   ]
  }
 ],
 "metadata": {
  "kernelspec": {
   "display_name": "Julia 1.1.0",
   "language": "julia",
   "name": "julia-1.1"
  },
  "language_info": {
   "file_extension": ".jl",
   "mimetype": "application/julia",
   "name": "julia",
   "version": "1.1.0"
  }
 },
 "nbformat": 4,
 "nbformat_minor": 2
}
