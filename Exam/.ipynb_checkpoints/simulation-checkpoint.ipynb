{
 "cells": [
  {
   "cell_type": "code",
   "execution_count": 11,
   "metadata": {},
   "outputs": [],
   "source": [
    "using XSim\n",
    "using Distributions, Random, Statistics, DelimitedFiles"
   ]
  },
  {
   "cell_type": "code",
   "execution_count": 12,
   "metadata": {},
   "outputs": [],
   "source": [
    "Random.seed!(31415926)\n",
    "mutRate    = 0.0\n",
    "nChr       = 1\n",
    "nLoci      = 2500\n",
    "nQTL       = 0\n",
    "chrLength  = 1.0\n",
    "intvl      = chrLength/nLoci\n",
    "build_genome(nChr, chrLength, nLoci, nQTL);"
   ]
  },
  {
   "cell_type": "code",
   "execution_count": 13,
   "metadata": {},
   "outputs": [
    {
     "name": "stdout",
     "output_type": "stream",
     "text": [
      "Sampling 50 animals into base population.\n",
      "Sampling 50 animals into base population.\n",
      "Generation     2: sampling    50 males and    50 females\n",
      "Generation     3: sampling    50 males and    50 females\n",
      "Generation     4: sampling    50 males and    50 females\n",
      "Generation     5: sampling    50 males and    50 females\n",
      "Generation     6: sampling    50 males and    50 females\n",
      "Generation     7: sampling    50 males and    50 females\n",
      "Generation     8: sampling    50 males and    50 females\n",
      "Generation     9: sampling    50 males and    50 females\n",
      "Generation    10: sampling    50 males and    50 females\n",
      "Generation    11: sampling    50 males and    50 females\n",
      "Generation    12: sampling    50 males and    50 females\n",
      "Generation    13: sampling    50 males and    50 females\n",
      "Generation    14: sampling    50 males and    50 females\n",
      "Generation    15: sampling    50 males and    50 females\n",
      "Generation    16: sampling    50 males and    50 females\n",
      "Generation    17: sampling    50 males and    50 females\n",
      "Generation    18: sampling    50 males and    50 females\n",
      "Generation    19: sampling    50 males and    50 females\n",
      "Generation    20: sampling    50 males and    50 females\n",
      "Generation    21: sampling    50 males and    50 females\n",
      "Generation    22: sampling    50 males and    50 females\n",
      "Generation    23: sampling    50 males and    50 females\n",
      "Generation    24: sampling    50 males and    50 females\n",
      "Generation    25: sampling    50 males and    50 females\n",
      "Generation    26: sampling    50 males and    50 females\n",
      "Generation    27: sampling    50 males and    50 females\n",
      "Generation    28: sampling    50 males and    50 females\n",
      "Generation    29: sampling    50 males and    50 females\n",
      "Generation    30: sampling    50 males and    50 females\n",
      "Generation    31: sampling    50 males and    50 females\n",
      "Generation    32: sampling    50 males and    50 females\n",
      "Generation    33: sampling    50 males and    50 females\n",
      "Generation    34: sampling    50 males and    50 females\n",
      "Generation    35: sampling    50 males and    50 females\n",
      "Generation    36: sampling    50 males and    50 females\n",
      "Generation    37: sampling    50 males and    50 females\n",
      "Generation    38: sampling    50 males and    50 females\n",
      "Generation    39: sampling    50 males and    50 females\n",
      "Generation    40: sampling    50 males and    50 females\n",
      "Generation    41: sampling    50 males and    50 females\n",
      "Generation    42: sampling    50 males and    50 females\n",
      "Generation    43: sampling    50 males and    50 females\n",
      "Generation    44: sampling    50 males and    50 females\n",
      "Generation    45: sampling    50 males and    50 females\n",
      "Generation    46: sampling    50 males and    50 females\n",
      "Generation    47: sampling    50 males and    50 females\n",
      "Generation    48: sampling    50 males and    50 females\n",
      "Generation    49: sampling    50 males and    50 females\n",
      "Generation    50: sampling    50 males and    50 females\n",
      "Generation    51: sampling    50 males and    50 females\n",
      "Generation    52: sampling    50 males and    50 females\n",
      "Generation    53: sampling    50 males and    50 females\n",
      "Generation    54: sampling    50 males and    50 females\n",
      "Generation    55: sampling    50 males and    50 females\n",
      "Generation    56: sampling    50 males and    50 females\n",
      "Generation    57: sampling    50 males and    50 females\n",
      "Generation    58: sampling    50 males and    50 females\n",
      "Generation    59: sampling    50 males and    50 females\n",
      "Generation    60: sampling    50 males and    50 females\n",
      "Generation    61: sampling    50 males and    50 females\n",
      "Generation    62: sampling    50 males and    50 females\n",
      "Generation    63: sampling    50 males and    50 females\n",
      "Generation    64: sampling    50 males and    50 females\n",
      "Generation    65: sampling    50 males and    50 females\n",
      "Generation    66: sampling    50 males and    50 females\n",
      "Generation    67: sampling    50 males and    50 females\n",
      "Generation    68: sampling    50 males and    50 females\n",
      "Generation    69: sampling    50 males and    50 females\n",
      "Generation    70: sampling    50 males and    50 females\n",
      "Generation    71: sampling    50 males and    50 females\n",
      "Generation    72: sampling    50 males and    50 females\n",
      "Generation    73: sampling    50 males and    50 females\n",
      "Generation    74: sampling    50 males and    50 females\n",
      "Generation    75: sampling    50 males and    50 females\n",
      "Generation    76: sampling    50 males and    50 females\n",
      "Generation    77: sampling    50 males and    50 females\n",
      "Generation    78: sampling    50 males and    50 females\n",
      "Generation    79: sampling    50 males and    50 females\n",
      "Generation    80: sampling    50 males and    50 females\n",
      "Generation    81: sampling    50 males and    50 females\n",
      "Generation    82: sampling    50 males and    50 females\n",
      "Generation    83: sampling    50 males and    50 females\n",
      "Generation    84: sampling    50 males and    50 females\n",
      "Generation    85: sampling    50 males and    50 females\n",
      "Generation    86: sampling    50 males and    50 females\n",
      "Generation    87: sampling    50 males and    50 females\n",
      "Generation    88: sampling    50 males and    50 females\n",
      "Generation    89: sampling    50 males and    50 females\n",
      "Generation    90: sampling    50 males and    50 females\n",
      "Generation    91: sampling    50 males and    50 females\n",
      "Generation    92: sampling    50 males and    50 females\n",
      "Generation    93: sampling    50 males and    50 females\n",
      "Generation    94: sampling    50 males and    50 females\n",
      "Generation    95: sampling    50 males and    50 females\n",
      "Generation    96: sampling    50 males and    50 females\n",
      "Generation    97: sampling    50 males and    50 females\n",
      "Generation    98: sampling    50 males and    50 females\n",
      "Generation    99: sampling    50 males and    50 females\n",
      "Generation   100: sampling    50 males and    50 females\n",
      "Generation   101: sampling    50 males and    50 females\n"
     ]
    }
   ],
   "source": [
    "popSizeFounder = 50\n",
    "sires = sampleFounders(popSizeFounder)\n",
    "dams  = sampleFounders(popSizeFounder)\n",
    "ngen,popSize = 100,100\n",
    "sires1,dams1,gen1 = sampleRan(popSize, ngen, sires, dams);"
   ]
  },
  {
   "cell_type": "code",
   "execution_count": 14,
   "metadata": {},
   "outputs": [
    {
     "name": "stdout",
     "output_type": "stream",
     "text": [
      "Generation   102: sampling  1000 males and  1000 females\n"
     ]
    }
   ],
   "source": [
    "ngen,popSize = 1,2000\n",
    "sires2,dams2,gen2 = sampleRan(popSize, ngen, sires1, dams1,gen=gen1);"
   ]
  },
  {
   "cell_type": "code",
   "execution_count": 19,
   "metadata": {},
   "outputs": [
    {
     "data": {
      "text/plain": [
       "(2000, 2241)"
      ]
     },
     "execution_count": 19,
     "metadata": {},
     "output_type": "execute_result"
    }
   ],
   "source": [
    "animals = concatCohorts(sires2,dams2)\n",
    "M = getOurGenotypes(animals)\n",
    "M = float(M)\n",
    "varM = var(M,dims=1)\n",
    "sel = vec(varM .> 0)\n",
    "Mark   = M[:,sel]\n",
    "size(Mark)"
   ]
  },
  {
   "cell_type": "code",
   "execution_count": 20,
   "metadata": {},
   "outputs": [
    {
     "data": {
      "text/plain": [
       "22.41"
      ]
     },
     "execution_count": 20,
     "metadata": {},
     "output_type": "execute_result"
    }
   ],
   "source": [
    "2241/100"
   ]
  },
  {
   "cell_type": "code",
   "execution_count": 21,
   "metadata": {},
   "outputs": [
    {
     "data": {
      "text/plain": [
       "0.5197725508082987"
      ]
     },
     "execution_count": 21,
     "metadata": {},
     "output_type": "execute_result"
    }
   ],
   "source": [
    "n,p    = size(Mark)\n",
    "nQTL   = 5\n",
    "posQTL = [10,30,50,70,90]\n",
    "QTL    = Mark[:,posQTL]\n",
    "beta   = randn(nQTL)\n",
    "a      = QTL*beta\n",
    "va     = var(a)\n",
    "y      = a + randn(n)*sqrt(va)\n",
    "vy     = var(y)\n",
    "va/vy"
   ]
  },
  {
   "cell_type": "code",
   "execution_count": 22,
   "metadata": {},
   "outputs": [
    {
     "data": {
      "text/plain": [
       "5-element Array{Float64,1}:\n",
       " -2.2049499713716147\n",
       "  0.3350653322552632\n",
       " -0.4773827905328082\n",
       "  0.6012586858491088\n",
       "  0.5389807035419119"
      ]
     },
     "execution_count": 22,
     "metadata": {},
     "output_type": "execute_result"
    }
   ],
   "source": [
    "beta"
   ]
  },
  {
   "cell_type": "code",
   "execution_count": 23,
   "metadata": {
    "collapsed": true
   },
   "outputs": [],
   "source": [
    "write(\"genotypes.bin\",n,p,Mark)\n",
    "writedlm(\"phenotypes.csv\",y)\n",
    "writedlm(\"genotypes.csv\",Mark)\n",
    "writedlm(\"posQTL.csv\",posQTL)\n",
    "writedlm(\"beta.csv\", beta)"
   ]
  }
 ],
 "metadata": {
  "kernelspec": {
   "display_name": "Julia 1.1.0",
   "language": "julia",
   "name": "julia-1.1"
  },
  "language_info": {
   "file_extension": ".jl",
   "mimetype": "application/julia",
   "name": "julia",
   "version": "1.1.0"
  }
 },
 "nbformat": 4,
 "nbformat_minor": 2
}
