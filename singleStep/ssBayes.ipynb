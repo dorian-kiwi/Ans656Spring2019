{
 "cells": [
  {
   "cell_type": "markdown",
   "metadata": {},
   "source": [
    "Single-Step Bayesian Regression\n",
    "===============================\n",
    "\n",
    "Theory\n",
    "------\n",
    "\n",
    "The mixed linear model for the phenotypic values can be expressed in\n",
    "terms of a breeding value model (1) or a marker effects model (2) as\n",
    "\n",
    "$$\\begin{aligned}\n",
    "\\mathbf{y} \n",
    "& = \\mathbf{X}\\boldsymbol{\\beta}+\\mathbf{Zg}+\\mathbf{e} \\hspace{5ex} (1)\\\\\n",
    "& = \\mathbf{X}\\boldsymbol{\\beta}+\\mathbf{ZM}\\boldsymbol{\\alpha}+\\mathbf{e} \\hspace{3ex} (2),\n",
    "\\end{aligned}$$"
   ]
  },
  {
   "cell_type": "markdown",
   "metadata": {},
   "source": [
    "where we have introduced the incidence matrix $\\mathbf{Z}$ to\n",
    "accommodate animals with repeated records or animals without records. As\n",
    "in SSBV-BLUP, suppose $\\mathbf{M}_{1}$ is not observed. Then it is not\n",
    "possible to use (2) as the basis for the MEM. Note that\n",
    "$\\mathbf{M}_{1}\\boldsymbol{\\alpha}$ is equal to $\\mathbf{g}_{1}$. So,\n",
    "using (eq:g$_1$) for $\\mathbf{g}_{1}$ and writing\n",
    "$\\mathbf{g}_{2}=\\mathbf{M}_{2}\\boldsymbol{\\alpha}$, the model for the\n",
    "phenotypic values becomes"
   ]
  },
  {
   "cell_type": "markdown",
   "metadata": {},
   "source": [
    "$$\\begin{aligned}\n",
    "\\mathbf{\\left[\\begin{array}{c}\n",
    "\\mathbf{y}_{1}\\\\\n",
    "\\mathbf{y}_{2}\n",
    "\\end{array}\\right]} \n",
    "& = \\left[\\begin{array}{c}\n",
    "\\mathbf{X}_{1}\\\\\n",
    "\\mathbf{X}_{2}\n",
    "\\end{array}\\right]\\boldsymbol{\\beta}+\\left[\\begin{array}{cc}\n",
    "\\mathbf{Z}_{1} & \\mathbf{0}\\\\\n",
    "\\mathbf{0} & \\mathbf{Z}_{2}\n",
    "\\end{array}\\right]\\left[\\begin{array}{c}\n",
    "\\mathbf{g}_{1}\\\\\n",
    "\\mathbf{g}_{2}\n",
    "\\end{array}\\right]+\\mathbf{e} \\hspace{14ex} (3)\\\\\n",
    "&= \\left[\\begin{array}{c}\n",
    "\\mathbf{X}_{1}\\\\\n",
    "\\mathbf{X}_{2}\n",
    "\\end{array}\\right]\\boldsymbol{\\beta}+\\left[\\begin{array}{cc}\n",
    "\\mathbf{Z}_{1} & \\mathbf{0}\\\\\n",
    "\\mathbf{0} & \\mathbf{Z}_{2}\n",
    "\\end{array}\\right]\\left[\\begin{array}{l}\n",
    "\\mathbf{A}_{12}\\mathbf{A}_{22}^{-1}\\mathbf{M}_{2}\\boldsymbol{\\alpha}+\\boldsymbol{\\epsilon}\\\\\n",
    "\\mathbf{M}_{2}\\boldsymbol{\\alpha}\n",
    "\\end{array}\\right]+\\mathbf{e}\\\\\n",
    "& = \\left[\\begin{array}{c}\n",
    "\\mathbf{X}_{1}\\\\\n",
    "\\mathbf{X}_{2}\n",
    "\\end{array}\\right]\\boldsymbol{\\beta}+\\left[\\begin{array}{cc}\n",
    "\\mathbf{Z}_{1} & \\mathbf{0}\\\\\n",
    "\\mathbf{0} & \\mathbf{Z}_{2}\n",
    "\\end{array}\\right]\\left[\\begin{array}{l}\n",
    "\\hat{\\mathbf{M}}_{1}\\boldsymbol{\\alpha}+\\boldsymbol{\\epsilon}\\\\\n",
    "\\mathbf{M}_{2}\\boldsymbol{\\alpha}\n",
    "\\end{array}\\right]+\\mathbf{e} \\hspace{9ex} (4)\\\\\n",
    "&=\\mathbf{X}\\boldsymbol{\\beta}+\\mathbf{W}\\boldsymbol{\\alpha}+\\mathbf{U}\\boldsymbol{\\epsilon}+\\mathbf{e}\n",
    "\\end{aligned}$$"
   ]
  },
  {
   "cell_type": "markdown",
   "metadata": {},
   "source": [
    "where \n",
    "\n",
    "$$\\mathbf{U=\\left[\\begin{array}{c}\n",
    "\\mathbf{Z}_{1}\\\\\n",
    "0\n",
    "\\end{array}\\right],}\\,\\,\n",
    "\\mathbf{X}=\\left[\\begin{array}{c}\n",
    "\\mathbf{X}_{1}\\\\\n",
    "\\mathbf{X}_{2}\n",
    "\\end{array}\\right]\\;\n",
    "\\text{and }\n",
    "\\mathbf{W}=\\left[\\begin{array}{c}\n",
    "\\mathbf{W}_{1}\\\\\n",
    "\\mathbf{W}_{2} \n",
    "\\end{array}\\right]\\\n",
    "=\\left[\\begin{array}{c}\n",
    "\\mathbf{Z}_{1}\\hat{\\mathbf{M}}_{1}\\\\\n",
    "\\mathbf{Z}_{2}\\mathbf{M}_{2} \n",
    "\\end{array}\\right]\n",
    "$$"
   ]
  },
  {
   "cell_type": "markdown",
   "metadata": {},
   "source": [
    "The matrix\n",
    "$\\hat{\\mathbf{M}}_{1}=\\mathbf{A}_{12}\\mathbf{A}_{22}^{-1}\\mathbf{M}_{2}$\n",
    "of imputed SNP covariates can be obtained efficiently, using partitioned\n",
    "inverse results, by solving the easily formed very sparse system:\n",
    "\n",
    "$$\\mathbf{A}^{11}\\hat{\\mathbf{M}}_{1}=-\\mathbf{A}^{12}\\mathbf{M}_{2},$$"
   ]
  },
  {
   "cell_type": "markdown",
   "metadata": {},
   "source": [
    "where $\\mathbf{A}^{ij}$ are partitions of $\\mathbf{A}^{-1}$ that\n",
    "correspond to partitioning $\\mathbf{g}$ into $\\mathbf{g}_{1}$ and\n",
    "$\\mathbf{g}_{2}$.\n",
    "\n",
    "The differences between the MEM (4) and the model that is\n",
    "currently used for Bayesian regression (BR) are: 1) that some of the\n",
    "covariates in (4) are imputed, and 2) a residual term\n",
    "$\\boldsymbol{\\epsilon}$ has been introduced to account for the\n",
    "deviations of the imputed genotype $ $covariates from their unobserved,\n",
    "actual values. Regardless of the prior used for $\\boldsymbol{\\alpha}$,\n",
    "the distribution of the vector $\\boldsymbol{\\epsilon}$ of imputation\n",
    "residuals will be approximated by a multivariate normal vector with null\n",
    "mean and covariance matrix\n",
    "$(\\mathbf{A}_{11}-\\mathbf{A}_{12}\\mathbf{A}_{22}^{-1}\\mathbf{A}_{21})\\sigma_{g}^{2}$, \n",
    "where $\\sigma_{g}^{2}$ is assigned a scaled\n",
    "inverse chi-square distribution with scale parameter $S_{g}^{2}$ and\n",
    "degrees of freedom $\\nu_{g}$. Imputing the covariates needs to be done\n",
    "only once, and it can be done efficiently in parallel. Imputation of\n",
    "unobserved SNP covariates will not add significantly to overall\n",
    "computing time.\n",
    "\n",
    "The MME that correspond to (4) for BayesC with $\\pi=0$ are\n",
    "\n",
    "$$\\left[\\begin{array}{lll}\n",
    "\\mathbf{X}'\\mathbf{X} & \\mathbf{X}'\\mathbf{W} & \\mathbf{X}_{1}'\\mathbf{Z}_{1}\\\\\n",
    "\\mathbf{W}'\\mathbf{X} & \\mathbf{W}'\\mathbf{W}+\\mathbf{I\\dfrac{\\sigma_{e}^{2}}{\\sigma_{\\alpha}^{2}}} & \\mathbf{W}'_{1}\\mathbf{Z}_{1}\\\\\n",
    "\\mathbf{Z}'_{1}\\mathbf{X}_{1} & \\mathbf{Z}'_{1}\\mathbf{W}_{1} & \\mathbf{Z}_{1}'\\mathbf{Z}_{1}+\\mathbf{A}^{11}\\dfrac{\\sigma_{e}^{2}}{\\sigma_{g}^{2}}\n",
    "\\end{array}\\right]\\left[\\begin{array}{c}\n",
    "\\hat{\\boldsymbol{\\beta}}\\\\\n",
    "\\hat{\\boldsymbol{\\alpha}}\\\\\n",
    "\\hat{\\boldsymbol{\\epsilon}}\n",
    "\\end{array}\\right]=\\left[\\begin{array}{c}\n",
    "\\mathbf{X}'\\mathbf{y}\\\\\n",
    "\\mathbf{W}'\\mathbf{y}\\\\\n",
    "\\mathbf{Z}_{1}'\\mathbf{y}_{1}\n",
    "\\end{array}\\right]. \\hspace{3ex} (5)$$"
   ]
  },
  {
   "cell_type": "markdown",
   "metadata": {},
   "source": [
    "The submatrix of these MME that correspond to $\\boldsymbol{\\epsilon}$\n",
    "are identical to those for $\\mathbf{g}_{1}$ from a pedigree-based\n",
    "analysis and are very sparse. Thus as explained in the next section,\n",
    "conditional on $\\boldsymbol{\\beta}$ and $\\boldsymbol{\\alpha}$,\n",
    "$\\boldsymbol{\\epsilon}$ can sampled efficiently by using either a\n",
    "blocking-Gibbs sampler @garcia-cortes96:_gibbs [@sorensenGianolaBook] or\n",
    "a single-site, Gibbs sampler used in pedigree-based analyses\n",
    "@sorensenGianolaBook. Note that these MME, which do not have\n",
    "$\\mathbf{G}$ or its inverse, may be used to overcome the computational\n",
    "problems facing SSBV-BLUP. The predicted BVs can be written as\n",
    "\n",
    "$$\\tilde{\\mathbf{g}}=\\left[\\begin{array}{l}\n",
    "\\hat{\\mathbf{M}}_{1}\\\\\n",
    "\\mathbf{M}_{2}\n",
    "\\end{array}\\right]\\hat{\\boldsymbol{\\alpha}}+\\mathbf{U}\\hat{\\boldsymbol{\\epsilon}}=\\left[\\begin{array}{l}\n",
    "\\hat{\\mathbf{M}}_{1}\\\\\n",
    "\\mathbf{M}_{2}\n",
    "\\end{array}\\right]\\hat{\\boldsymbol{\\alpha}}+\\mathbf{\\left[\\begin{array}{c}\n",
    "\\mathbf{Z}_{1}\\\\\n",
    "0\n",
    "\\end{array}\\right]}\\hat{\\boldsymbol{\\epsilon}}.$$\n",
    "\n",
    "A similar system of MME without $\\boldsymbol{\\epsilon}$ was solved by\n",
    "iteration for a MEM @VanRaden:2008:J-Dairy-Sci:18946147 but using only\n",
    "genotyped animals. The MME given by (5) has the advantage that\n",
    "it will not grow in size as more animals are genotyped, in contrast to\n",
    "the MME corresponding to (5) that is given by Aguilar et\n",
    "al. @Aguilar:2010:J-Dairy-Sci:20105546, but assuming $\\sigma_{\\alpha}^{2}=\\frac{\\sigma_{g}^{2}}{\\sum_{j}2p_{j}(1-p_{j})}$,\n",
    "they give identical EBV."
   ]
  },
  {
   "cell_type": "markdown",
   "metadata": {},
   "source": [
    "Single-step Bayesian regression using [JWAS](https://nbviewer.jupyter.org/github/reworkhow/JWAS.jl/blob/master/docs/notebooks/4_SSBR.ipynb). "
   ]
  }
 ],
 "metadata": {
  "kernelspec": {
   "display_name": "Julia 1.1.0",
   "language": "julia",
   "name": "julia-1.1"
  },
  "language": "Julia",
  "language_info": {
   "file_extension": ".jl",
   "mimetype": "application/julia",
   "name": "julia",
   "version": "1.1.0"
  }
 },
 "nbformat": 4,
 "nbformat_minor": 2
}
