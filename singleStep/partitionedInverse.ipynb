{
 "cells": [
  {
   "cell_type": "code",
   "execution_count": 4,
   "metadata": {},
   "outputs": [
    {
     "data": {
      "application/javascript": [
       "    MathJax.Hub.Config({\n",
       "      TeX: { equationNumbers: { autoNumber: \"AMS\" } }\n",
       "    });\n",
       "    MathJax.Hub.Queue( \n",
       "        [\"resetEquationNumbers\",MathJax.InputJax.TeX], \n",
       "        [\"PreProcess\",MathJax.Hub], \n",
       "        [\"Reprocess\",MathJax.Hub] \n",
       "    );\n"
      ]
     },
     "metadata": {},
     "output_type": "display_data"
    }
   ],
   "source": [
    "macro javascript_str(s) display(\"text/javascript\", s); end\n",
    "javascript\"\"\"\n",
    "    MathJax.Hub.Config({\n",
    "      TeX: { equationNumbers: { autoNumber: \"AMS\" } }\n",
    "    });\n",
    "    MathJax.Hub.Queue( \n",
    "        [\"resetEquationNumbers\",MathJax.InputJax.TeX], \n",
    "        [\"PreProcess\",MathJax.Hub], \n",
    "        [\"Reprocess\",MathJax.Hub] \n",
    "    );\n",
    "\"\"\""
   ]
  },
  {
   "cell_type": "markdown",
   "metadata": {},
   "source": [
    "# Partitioned Inverse of Covariance Matrix"
   ]
  },
  {
   "cell_type": "markdown",
   "metadata": {},
   "source": [
    "$$\n",
    "\\newcommand{\\E}{\\text{E}}\n",
    "\\newcommand{\\mbf}{\\mathbf}\n",
    "\\newcommand{\\bs}{\\boldsymbol}\n",
    "\\newcommand{\\Var}{\\text{Var}}\n",
    "\\newcommand{\\Cov}{\\text{Cov}}\n",
    "\\newcommand{\\e}{\\frac{1}{\\sigma^2_e}}\n",
    "\\newcommand{\\f}{\\frac{1}{\\sigma^2_{\\alpha}}}\n",
    "$$"
   ]
  },
  {
   "cell_type": "markdown",
   "metadata": {},
   "source": [
    "Let the covariance matrix, $\\mbf{A}$, of the vector $\\mbf{u}$ with null means be partioned as "
   ]
  },
  {
   "cell_type": "markdown",
   "metadata": {},
   "source": [
    "$$ \\Var(\n",
    "\\left[ \n",
    "\\begin{array}{l}\n",
    "\\mbf{u_{1}} \\\\ \n",
    "\\mbf{u_{2}}\n",
    "\\end{array}\n",
    "\\right])\n",
    "=\n",
    "\\left[ \n",
    "\\begin{array}{ll}\n",
    "    \\mbf{A}_{11} & \\mbf{A}_{12} \\\\ \n",
    "    \\mbf{A}_{21} & \\mbf{A}_{22}\n",
    "\\end{array}\n",
    "\\right]. \n",
    "$$"
   ]
  },
  {
   "cell_type": "markdown",
   "metadata": {},
   "source": [
    "Then, $\\mbf{u}$ can be expressed as"
   ]
  },
  {
   "cell_type": "markdown",
   "metadata": {},
   "source": [
    "$$\n",
    "\\left[ \n",
    "\\begin{array}{l}\n",
    "\\mbf{u_{1}} \\\\ \n",
    "\\mbf{u_{2}}\n",
    "\\end{array}\n",
    "\\right]\n",
    "=\n",
    "\\left[ \n",
    "\\begin{array}{ll}\n",
    "    \\mbf{I} & \\mbf{0} \\\\ \n",
    "    \\mbf{L}' & \\mbf{I}\n",
    "\\end{array}\n",
    "\\right] \n",
    "\\left[ \n",
    "\\begin{array}{l}\n",
    "\\mbf{u_{1}} \\\\ \n",
    "\\bs{\\epsilon}\n",
    "\\end{array}\n",
    "\\right],\n",
    "$$"
   ]
  },
  {
   "cell_type": "markdown",
   "metadata": {},
   "source": [
    "where $\\mbf{L}' = \\mbf{A}_{21}\\mbf{A}_{11}^{-1}$ and $\\bs{\\epsilon} = \\mbf{u}_2 - \\mbf{L}'\\mbf{u}_1$. Note that $\\mbf{u}_1$ is uncorrelated with $\\bs{\\epsilon}$, and thus, the matrix $\\mbf{A}$ can also be written as"
   ]
  },
  {
   "cell_type": "markdown",
   "metadata": {},
   "source": [
    "\\begin{align}\n",
    "\\Var(\n",
    "\\left[ \n",
    "\\begin{array}{l}\n",
    "\\mbf{u_{1}} \\\\ \n",
    "\\mbf{u_{2}}\n",
    "\\end{array}\n",
    "\\right])\n",
    "&=\n",
    "\\left[ \n",
    "\\begin{array}{ll}\n",
    "    \\mbf{A}_{11} & \\mbf{A}_{12} \\\\ \n",
    "    \\mbf{A}_{21} & \\mbf{A}_{22}\n",
    "\\end{array}\n",
    "\\right]\\\\\n",
    "&= \n",
    "\\left[ \n",
    "\\begin{array}{ll}\n",
    "    \\mbf{I} & \\mbf{0} \\\\ \n",
    "    \\mbf{L}' & \\mbf{I}\n",
    "\\end{array}\n",
    "\\right] \n",
    "\\Var(\n",
    "\\left[ \n",
    "\\begin{array}{l}\n",
    "\\mbf{u_{1}} \\\\ \n",
    "\\bs{\\epsilon}\n",
    "\\end{array}\n",
    "\\right]\n",
    ")\n",
    "\\left[ \n",
    "\\begin{array}{ll}\n",
    "    \\mbf{I} & \\mbf{L} \\\\ \n",
    "    \\mbf{0} & \\mbf{I}\n",
    "\\end{array}\n",
    "\\right] \\\\\n",
    "&= \n",
    "\\left[ \n",
    "\\begin{array}{ll}\n",
    "    \\mbf{I} & \\mbf{0} \\\\ \n",
    "    \\mbf{L}' & \\mbf{I}\n",
    "\\end{array}\n",
    "\\right] \n",
    "\\left[ \n",
    "\\begin{array}{ll}\n",
    "    \\mbf{A}_{11} & \\mbf{0} \\\\ \n",
    "    \\mbf{0}      & \\mbf{A}_{22} - \\mbf{L}'\\mbf{A}_{11}\\mbf{L}\n",
    "\\end{array}\n",
    "\\right] \n",
    "\\left[ \n",
    "\\begin{array}{ll}\n",
    "    \\mbf{I} & \\mbf{L} \\\\ \n",
    "    \\mbf{0} & \\mbf{I}\n",
    "\\end{array}\n",
    "\\right] \\\\\n",
    "&= \n",
    "\\mbf{P}'\\left[ \n",
    "\\begin{array}{ll}\n",
    "    \\mbf{A}_{11} & \\mbf{0} \\\\ \n",
    "    \\mbf{0} & \\mbf{A}_{22} - \\mbf{L}'\\mbf{A}_{11}\\mbf{L}\n",
    "\\end{array}\n",
    "\\right]\n",
    "\\mbf{P},\n",
    "\\end{align}"
   ]
  },
  {
   "cell_type": "markdown",
   "metadata": {},
   "source": [
    "where "
   ]
  },
  {
   "cell_type": "markdown",
   "metadata": {},
   "source": [
    "$\n",
    "\\mbf{P}' = \n",
    "\\left[ \n",
    "\\begin{array}{ll}\n",
    "    \\mbf{I} & \\mbf{0} \\\\ \n",
    "    \\mbf{L}' & \\mbf{I}\n",
    "\\end{array}\n",
    "\\right]\n",
    "$ and \n",
    "$\\mbf{P} = \n",
    "\\left[ \n",
    "\\begin{array}{ll}\n",
    "    \\mbf{I} & \\mbf{L} \\\\ \n",
    "    \\mbf{0} & \\mbf{I}\n",
    "\\end{array}\n",
    "\\right]$. "
   ]
  },
  {
   "cell_type": "markdown",
   "metadata": {},
   "source": [
    "## Partitioned Inverse of $\\mbf{A}$:"
   ]
  },
  {
   "cell_type": "markdown",
   "metadata": {},
   "source": [
    "Now, the inverse of $\\mbf{A}$ can be written as "
   ]
  },
  {
   "cell_type": "markdown",
   "metadata": {},
   "source": [
    "\\begin{align}\n",
    "\\mbf{A}^{-1} \n",
    "&=\n",
    "\\left[ \n",
    "\\begin{array}{ll}\n",
    "    \\mbf{A}^{11} & \\mbf{A}^{12} \\\\ \n",
    "    \\mbf{A}^{21} & \\mbf{A}^{22}\n",
    "\\end{array}\n",
    "\\right]\\\\\n",
    "&=\n",
    "\\mbf{P}^{-1}\n",
    "\\left[ \n",
    "\\begin{array}{ll}\n",
    "    \\mbf{A}_{11}^{-1} & \\mbf{0} \\\\ \n",
    "    \\mbf{0} & (\\mbf{A}_{22} - \\mbf{L}'\\mbf{A}_{11}\\mbf{L})^{-1}\n",
    "\\end{array}\n",
    "\\right]\n",
    "(\\mbf{P}')^{-1}\\\\\n",
    "&= \n",
    "\\left[ \n",
    "\\begin{array}{ll}\n",
    "    \\mbf{I} & -\\mbf{L} \\\\ \n",
    "    \\mbf{0} & \\mbf{I}\n",
    "\\end{array}\n",
    "\\right]\n",
    "\\left[ \n",
    "\\begin{array}{ll}\n",
    "    \\mbf{A}_{11}^{-1} & \\mbf{0} \\\\ \n",
    "    \\mbf{0} & (\\mbf{A}_{22} - \\mbf{L}'\\mbf{A}_{11}\\mbf{L})^{-1}\n",
    "\\end{array}\n",
    "\\right]\n",
    "\\left[ \n",
    "\\begin{array}{ll}\n",
    "    \\mbf{I} & \\mbf{0} \\\\ \n",
    "    -\\mbf{L}' & \\mbf{I}\n",
    "\\end{array}\n",
    "\\right]\\\\\n",
    "&= \n",
    "\\left[ \n",
    "\\begin{array}{l}\n",
    "    \\mbf{I} \\\\ \n",
    "    \\mbf{0}\n",
    "\\end{array}\n",
    "\\right]\n",
    "\\mbf{A}_{11}^{-1}\n",
    "\\left[ \n",
    "\\begin{array}{ll}\n",
    "    \\mbf{I} & \\mbf{0} \n",
    "\\end{array}\n",
    "\\right] \n",
    "+\n",
    "\\left[ \n",
    "\\begin{array}{l}\n",
    "    -\\mbf{L} \\\\ \n",
    "    \\mbf{I}\n",
    "\\end{array}\n",
    "\\right]\n",
    "(\\mbf{A}_{22} - \\mbf{L}'\\mbf{A}_{11}\\mbf{L})^{-1}\n",
    "\\left[ \n",
    "\\begin{array}{ll}\n",
    "    -\\mbf{L'} & \\mbf{I} \n",
    "\\end{array}\n",
    "\\right] \\\\\n",
    "&=\n",
    "\\left[ \n",
    "\\begin{array}{ll}\n",
    "    \\mbf{A}_{11}^{-1} & \\mbf{0} \\\\ \n",
    "    \\mbf{0} & \\mbf{0}\n",
    "\\end{array}\n",
    "\\right]\n",
    "+\n",
    "\\left[ \n",
    "\\begin{array}{ll}\n",
    "    \\mbf{L}(\\mbf{A}_{22} - \\mbf{L}'\\mbf{A}_{11}\\mbf{L})^{-1}\\mbf{L}' & \n",
    "    -\\mbf{L}(\\mbf{A}_{22} - \\mbf{L}'\\mbf{A}_{11}\\mbf{L})^{-1} \\\\ \n",
    "    -(\\mbf{A}_{22} - \\mbf{L}'\\mbf{A}_{11}\\mbf{L})^{-1}\\mbf{L}' & \n",
    "    (\\mbf{A}_{22} - \\mbf{L}'\\mbf{A}_{11}\\mbf{L})^{-1}\n",
    "\\end{array}\n",
    "\\right] \n",
    "\\label{eqAi}\n",
    "\\end{align}"
   ]
  },
  {
   "cell_type": "markdown",
   "metadata": {},
   "source": [
    "## Algorithm for Inverting Additive Relationship Matrix"
   ]
  },
  {
   "cell_type": "markdown",
   "metadata": {},
   "source": [
    "Suppose the pedigree is partitioned into two sets of individual corresponding to $\\mbf{A}_{11}$ and $\\mbf{A}_{22}$ with only one individual in the second set and this individual's parents in the first set. Expanding equation (3), the additive relationship matrix can be written as"
   ]
  },
  {
   "cell_type": "markdown",
   "metadata": {},
   "source": [
    "\\begin{align}\n",
    "\\mbf{A} &=\n",
    "\\left[ \n",
    "\\begin{array}{ll}\n",
    "    \\mbf{A}_{11} & \\mbf{A}_{12} \\\\ \n",
    "    \\mbf{A}_{21} & \\mbf{A}_{22}\n",
    "\\end{array}\n",
    "\\right]\\\\\n",
    "&= \n",
    "\\left[ \n",
    "\\begin{array}{ll}\n",
    "    \\mbf{A}_{11}         & \\mbf{A}_{11}\\mbf{L} \\\\ \n",
    "    \\mbf{L}'\\mbf{A}_{11} & \\mbf{L}'\\mbf{A}_{11}\\mbf{L}\n",
    "\\end{array}\n",
    "\\right] + \n",
    "\\left[ \n",
    "\\begin{array}{ll}\n",
    "    \\mbf{0} & \\mbf{0} \\\\ \n",
    "    \\mbf{0} & \\mbf{A}_{22} - \\mbf{L}'\\mbf{A}_{11}\\mbf{L}\n",
    "\\end{array}\n",
    "\\right], \n",
    "\\end{align}"
   ]
  },
  {
   "cell_type": "markdown",
   "metadata": {},
   "source": [
    "where $\\mbf{L}'$ is a row vector with 0.5 in the columns corresponding to the two parents of the individual in the second set and all zero in all the other positions. Then, the second matrix in (\\ref{eqAi}) has only nine non-zero elements.   "
   ]
  }
 ],
 "metadata": {
  "kernelspec": {
   "display_name": "Julia 1.1.0",
   "language": "julia",
   "name": "julia-1.1"
  },
  "language_info": {
   "file_extension": ".jl",
   "mimetype": "application/julia",
   "name": "julia",
   "version": "1.1.0"
  }
 },
 "nbformat": 4,
 "nbformat_minor": 2
}
