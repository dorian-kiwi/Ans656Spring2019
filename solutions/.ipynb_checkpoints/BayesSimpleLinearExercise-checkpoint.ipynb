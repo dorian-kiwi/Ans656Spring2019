{
 "metadata": {
  "kernelspec": {
   "codemirror_mode": "julia",
   "display_name": "Julia",
   "language": "julia",
   "name": "julia"
  },
  "language": "Julia",
  "name": "",
  "signature": "sha256:0abb6cfa72be052541c51f6a4ccdd99836f1421949c856c37eac7d0004365d12"
 },
 "nbformat": 3,
 "nbformat_minor": 0,
 "worksheets": [
  {
   "cells": [
    {
     "cell_type": "markdown",
     "metadata": {},
     "source": [
      "Bayesian Inference by Application to Simple Linear Regression\n",
      "=============================================================\n",
      "\n",
      "The Model\n",
      "---------\n",
      "\n",
      "Consider the linear model:\n",
      "\n",
      "$$y_{i}=a+bx_{i}+e_{i}. $$\n",
      "\n",
      "where for observation $i$, $y_{i}$ is the value of the dependent\n",
      "variable, $a$ is the intercept, $b$ is the value of the\n",
      "independent variable and $e_{i}$ is a residual. Flat priors are used for\n",
      "the intercept and slope, and the residuals are assumed to be identically\n",
      "and independently distributed normal random variables with mean zero and\n",
      "variance $\\sigma_{e}^{2}.$ A flat prior is used\n",
      "for $\\sigma_{e}^{2}.$"
     ]
    },
    {
     "cell_type": "markdown",
     "metadata": {},
     "source": [
      "Simulation of Data\n",
      "------------------"
     ]
    },
    {
     "cell_type": "code",
     "collapsed": false,
     "input": [
      "using Distributions\n",
      "using StatsBase"
     ],
     "language": "python",
     "metadata": {},
     "outputs": [],
     "prompt_number": 1
    },
    {
     "cell_type": "code",
     "collapsed": false,
     "input": [
      "n = 1000 #number of observations\n",
      "k = 1  #number of covariates\n",
      "\n",
      "x = sample([0,1,2],(n,k))\n",
      "X = hcat(ones(Int64,n),x)\n",
      "\n",
      "a = 1\n",
      "b = 3\n",
      "y = X*[a,b]+ randn(n);"
     ],
     "language": "python",
     "metadata": {},
     "outputs": [],
     "prompt_number": 2
    },
    {
     "cell_type": "markdown",
     "metadata": {},
     "source": [
      "### Calculations in Julia for Least Squares Estimation:"
     ]
    },
    {
     "cell_type": "code",
     "collapsed": false,
     "input": [
      "lhs=X'X\n",
      "rhs=X'y\n",
      "a,b=lhs\\rhs\n",
      "\n",
      "res=y-X*[a,b]\n",
      "sigma2=res'res/(n-2)\n"
     ],
     "language": "python",
     "metadata": {},
     "outputs": [
      {
       "metadata": {},
       "output_type": "pyout",
       "prompt_number": 3,
       "text": [
        "1-element Array{Float64,1}:\n",
        " 1.07585"
       ]
      }
     ],
     "prompt_number": 3
    },
    {
     "cell_type": "code",
     "collapsed": false,
     "input": [
      "println(\"a is \",a)\n",
      "println(\"b is \",b)\n",
      "println(\"sigma2 is \",sigma2[1,1])"
     ],
     "language": "python",
     "metadata": {},
     "outputs": [
      {
       "output_type": "stream",
       "stream": "stdout",
       "text": [
        "a is 1"
       ]
      },
      {
       "output_type": "stream",
       "stream": "stdout",
       "text": [
        ".0263433766966623\n",
        "b is 2.996785959264847\n",
        "sigma2 is 1.0758472058780548\n"
       ]
      }
     ],
     "prompt_number": 4
    },
    {
     "cell_type": "markdown",
     "metadata": {},
     "source": [
      "### Calculations in Julia for Gibbs Sampler:\n",
      "The simple regression model can be written as\n",
      "$$\\mathbf{y=}\\mathbf{1}a+\\mathbf{x}b+\\mathbf{e}.$$"
     ]
    },
    {
     "cell_type": "markdown",
     "metadata": {},
     "source": [
      "jth iteration in Gibbs sampler,"
     ]
    },
    {
     "cell_type": "markdown",
     "metadata": {},
     "source": [
      "$$a^{(j)} {\\sim} N(\\frac{\\mathbf{1}'(\\mathbf{y}-\\mathbf{x}b)}{\\mathbf{1}'\\mathbf{1}},\\frac{\\sigma_{e}^{2}}{\\mathbf{1}'\\mathbf{1}})$$"
     ]
    },
    {
     "cell_type": "markdown",
     "metadata": {},
     "source": [
      "$$b^{(j)} {\\sim} N(\\frac{\\mathbf{x}'(\\mathbf{y}-\\mathbf{1}a)}{\\mathbf{x}'\\mathbf{x}},\\frac{\\sigma_{e}^{2}}{\\mathbf{x}'\\mathbf{x}})$$"
     ]
    },
    {
     "cell_type": "markdown",
     "metadata": {},
     "source": [
      "$$\n",
      "{\\sigma_e^{2}}^{( j)} \\sim \\frac{(\\mathbf{y}-\\mathbf{1}a-\\mathbf{x}b)'(\\mathbf{y}-\\mathbf{1}a-\\mathbf{x}b)}{\\chi^2_{n-2}}\n",
      "$$"
     ]
    },
    {
     "cell_type": "markdown",
     "metadata": {},
     "source": [
      "### Calculations in Julia for Gibbs Sampler:"
     ]
    },
    {
     "cell_type": "code",
     "collapsed": false,
     "input": [
      "a=0\n",
      "b=0\n",
      "sigma2=2\n",
      "niter=5000\n",
      "\n",
      "ones=X[:,1] #column of 1\n",
      "x=X[:,2] #column of covariate\n",
      "n=length(y)\n",
      "\n",
      "mean_a=0\n",
      "mean_b=0\n",
      "mean_sigma2=0\n",
      "\n",
      "chain=Float64[]\n",
      "\n",
      "for iter=1:niter\n",
      "    #sample a\n",
      "    rhs=ones'*(y-x*b)\n",
      "    lhs=ones'ones\n",
      "    mean=(lhs\\rhs)[1,1]    \n",
      "    var=sigma2/lhs[1,1]\n",
      "    \n",
      "    a=rand(Normal(mean,sqrt(var)))\n",
      "    \n",
      "    #sample b\n",
      "    rhs=x'*(y-ones*a)\n",
      "    lhs=x'x\n",
      "    mean=(lhs\\rhs)[1,1]    \n",
      "    var=sigma2/lhs[1,1]  \n",
      "    b=rand(Normal(mean,sqrt(var)))\n",
      "    \n",
      "    #sample sigma2\n",
      "    res=y-ones*a-x*b\n",
      "    SSE=(res'res)[1,1]\n",
      "    sigma2=SSE/rand(Chisq(n-2))\n",
      "    \n",
      "    mean_a=mean_a+a\n",
      "    mean_b=mean_b+b\n",
      "    mean_sigma2=mean_sigma2+sigma2\n",
      "    \n",
      "    push!(chain,mean_a/iter)\n",
      "    \n",
      "    #printf\n",
      "    if(iter%200==0)\n",
      "        @printf(\"a= %6.3f \\n\",mean_a/iter)\n",
      "        @printf(\"b= %6.3f \\n\",mean_b/iter)\n",
      "        @printf(\"sigma2= %6.3f \\n\",mean_sigma2/iter)\n",
      "    end      \n",
      "end\n"
     ],
     "language": "python",
     "metadata": {},
     "outputs": [
      {
       "output_type": "stream",
       "stream": "stdout",
       "text": [
        "a= "
       ]
      },
      {
       "output_type": "stream",
       "stream": "stderr",
       "text": [
        "Warning: imported binding for ones overwritten in module Main\n"
       ]
      },
      {
       "output_type": "stream",
       "stream": "stdout",
       "text": [
        " 1.029 \n",
        "b=  2.996 \n",
        "sigma2=  1.081 \n"
       ]
      }
     ],
     "prompt_number": 5
    },
    {
     "cell_type": "code",
     "collapsed": false,
     "input": [
      "using Gadfly"
     ],
     "language": "python",
     "metadata": {},
     "outputs": [
      {
       "ename": "LoadError",
       "evalue": "Gadfly not found\nwhile loading In[6], in expression starting on line 1",
       "output_type": "pyerr",
       "traceback": [
        "Gadfly not found\nwhile loading In[6], in expression starting on line 1",
        "",
        " in require at loading.jl:47"
       ]
      }
     ],
     "prompt_number": 6
    },
    {
     "cell_type": "code",
     "collapsed": false,
     "input": [
      "plot(x=[1:1000], y=chain[1:1000], \n",
      "Geom.line,Guide.xlabel(\"iterations\"), Guide.ylabel(\"alpha\"), Guide.title(\"Trace Plot\"))"
     ],
     "language": "python",
     "metadata": {},
     "outputs": [
      {
       "ename": "LoadError",
       "evalue": "plot not defined\nwhile loading In[7], in expression starting on line 1",
       "output_type": "pyerr",
       "traceback": [
        "plot not defined\nwhile loading In[7], in expression starting on line 1",
        ""
       ]
      }
     ],
     "prompt_number": 7
    }
   ],
   "metadata": {}
  }
 ]
}