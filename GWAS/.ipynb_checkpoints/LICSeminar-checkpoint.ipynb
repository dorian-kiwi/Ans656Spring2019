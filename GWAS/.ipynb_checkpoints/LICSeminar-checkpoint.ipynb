{
 "cells": [
  {
   "cell_type": "markdown",
   "metadata": {
    "slideshow": {
     "slide_type": "slide"
    }
   },
   "source": [
    "# Bayesian Multiple Regression for GWAS\n",
    "\n",
    "# Rohan L. Fernando\n",
    "\n",
    "# June, 25, 2018"
   ]
  },
  {
   "cell_type": "markdown",
   "metadata": {
    "slideshow": {
     "slide_type": "slide"
    }
   },
   "source": [
    "## Outline\n",
    "\n",
    "- Controlling false positives\n",
    "\n",
    "  - genomewise error rate (GER)\n",
    "\n",
    "  - posterior error rate (PER)\n",
    "\n",
    "- PER can be controlled by using Bayesian posterior probabilities\n"
   ]
  },
  {
   "cell_type": "markdown",
   "metadata": {
    "slideshow": {
     "slide_type": "slide"
    }
   },
   "source": [
    "## Hypothesis testing: classical approach\n",
    "\n",
    "\n",
    "\n",
    "- Want a test to reject $H_0$ in favor of $H_a$\n",
    "\n",
    "   - Example: \n",
    "   \n",
    "       - $H_0$: region $R$ of genome has no effect on the trait\n",
    "       \n",
    "       - $H_a$: region $R$ of genome has an effect on the trait\n",
    "       \n",
    "- Test is constructed such that:       \n",
    "       \n",
    "    - If $H_0$ is true, probability of rejection is low (usually  < 0.05) \n",
    "    \n",
    "        -  This is the type I error rate\n",
    "\n",
    "    - If $H_a$ is true, probability of rejection is high\n",
    "    \n",
    "        -  This is the power of the test \n",
    "   "
   ]
  },
  {
   "cell_type": "markdown",
   "metadata": {
    "slideshow": {
     "slide_type": "subslide"
    }
   },
   "source": [
    "## Distribution of test statistic:\n",
    "\n",
    "$T$ is the value of the test statistic\n"
   ]
  },
  {
   "cell_type": "code",
   "execution_count": 1,
   "metadata": {
    "slideshow": {
     "slide_type": "skip"
    }
   },
   "outputs": [
    {
     "name": "stdout",
     "output_type": "stream",
     "text": [
      "typeI error rate = 0.0124 Power = 1.0\n"
     ]
    }
   ],
   "source": [
    "using Plots\n",
    "#plotlyjs()\n",
    "To = randn(10000)\n",
    "Ta = randn(10000) + 6;\n",
    "\n",
    "typeIa = sum(abs.(To) .> 2.5)/size(To,1)\n",
    "powera = sum(Ta      .> 2.5)/size(Ta,1)\n",
    "println(\"typeI error rate = \",typeIa,\" Power = \", powera)\n",
    "\n",
    "histogram([To Ta],\n",
    "title=\"\",\n",
    "xlabel = \"Value of T\", \n",
    "ylabel = \"Frequency\",\n",
    "legend = :best,\n",
    "label=[\"Ho\" \"Ha\"])\n",
    "png(\"testStat1\")"
   ]
  },
  {
   "cell_type": "markdown",
   "metadata": {
    "slideshow": {
     "slide_type": "fragment"
    }
   },
   "source": [
    "<img src=\"testStat1.png\" />"
   ]
  },
  {
   "cell_type": "markdown",
   "metadata": {
    "slideshow": {
     "slide_type": "subslide"
    },
    "variables": {
     "powera": "0.9993",
     "typeIa": "0.0114"
    }
   },
   "source": [
    "## Type I error rate and power\n",
    "\n",
    "If $H_0$ is rejected when $|T| > 2.5$\n",
    "\n",
    "  - type I error rate is: 0.0124\n",
    "\n",
    "  - power is: 1.0"
   ]
  },
  {
   "cell_type": "markdown",
   "metadata": {
    "slideshow": {
     "slide_type": "subslide"
    }
   },
   "source": [
    "## Distribution of test statistic:\n",
    "\n",
    "$T$ is the value of the test statistic\n"
   ]
  },
  {
   "cell_type": "code",
   "execution_count": 4,
   "metadata": {
    "slideshow": {
     "slide_type": "skip"
    }
   },
   "outputs": [
    {
     "name": "stdout",
     "output_type": "stream",
     "text": [
      "typeI error rate = 0.0118 Power = 0.3048\n"
     ]
    }
   ],
   "source": [
    "To = randn(10000)\n",
    "Ta = randn(10000) + 2;\n",
    "\n",
    "typeIb = sum(abs.(To) .> 2.5)/size(To,1)\n",
    "powerb = sum(Ta       .> 2.5)/size(Ta,1)\n",
    "println(\"typeI error rate = \",typeIb,\" Power = \", powerb)"
   ]
  },
  {
   "cell_type": "code",
   "execution_count": 5,
   "metadata": {
    "scrolled": true,
    "slideshow": {
     "slide_type": "skip"
    }
   },
   "outputs": [],
   "source": [
    "histogram([To Ta],\n",
    "title=\"\",\n",
    "xlabel = \"Value of T\", \n",
    "ylabel = \"Frequency\",\n",
    "legend = :best,\n",
    "label=[\"Ho\" \"Ha\"])\n",
    "png(\"testStat2\")"
   ]
  },
  {
   "cell_type": "markdown",
   "metadata": {
    "slideshow": {
     "slide_type": "fragment"
    }
   },
   "source": [
    "<img src=\"testStat2.png\" />"
   ]
  },
  {
   "cell_type": "markdown",
   "metadata": {
    "slideshow": {
     "slide_type": "subslide"
    },
    "variables": {
     "powerb": "0.3121",
     "typeIb": "0.0106"
    }
   },
   "source": [
    "## Type I error rate and power\n",
    "\n",
    "If $H_0$ is rejected when $|T| > 2.5$\n",
    "\n",
    "  - type I error rate is: 0.0118\n",
    "\n",
    "  - power is: 0.3048\n",
    "  \n",
    "Can increase sample size to increase power  "
   ]
  },
  {
   "cell_type": "markdown",
   "metadata": {
    "slideshow": {
     "slide_type": "slide"
    }
   },
   "source": [
    "## Type I errors in multiple tests\n",
    "\n",
    "Consider $n$ independent tests, each with a type I error rate of 0.05 \n",
    "\n",
    "\n"
   ]
  },
  {
   "cell_type": "code",
   "execution_count": 52,
   "metadata": {
    "slideshow": {
     "slide_type": "skip"
    }
   },
   "outputs": [
    {
     "name": "stderr",
     "output_type": "stream",
     "text": [
      "\u001b[1m\u001b[36mINFO: \u001b[39m\u001b[22m\u001b[36mPrecompiling module Rsvg.\n",
      "\u001b[39m"
     ]
    },
    {
     "data": {
      "text/plain": [
       "Distributions.Binomial{Float64}(n=1, p=0.05)"
      ]
     },
     "execution_count": 52,
     "metadata": {},
     "output_type": "execute_result"
    }
   ],
   "source": [
    "using Distributions\n",
    "using Rsvg"
   ]
  },
  {
   "cell_type": "code",
   "execution_count": 75,
   "metadata": {
    "slideshow": {
     "slide_type": "skip"
    }
   },
   "outputs": [
    {
     "data": {
      "text/html": [
       "<div id=\"df63661d-e48d-4e9c-bc1e-3384e9dd1924\" class=\"plotly-graph-div\"></div>\n",
       "\n",
       "<script>\n",
       "    (function() {\n",
       "        var data_df63661d = [{\"showlegend\":true,\"mode\":\"lines\",\"xaxis\":\"x\",\"colorbar\":{\"title\":\"\"},\"line\":{\"color\":\"rgba(0, 154, 250, 1.000)\",\"width\":1,\"dash\":\"solid\",\"shape\":\"linear\"},\"y\":[0.050000000000000044,0.09750000000000003,0.142625,0.18549375,0.2262190625,0.2649081093750001,0.30166270390625005,0.3365795687109374,0.3697505902753908,0.4012630607616212,0.4311999077235402,0.4596399123373631,0.48665791672049474,0.5123250208844707,0.5367087698402468,0.5598733313482342,0.5818796647808226,0.6027856815417816,0.6226463974646925,0.6415140775914578,0.659438373711885,0.6764664550262907,0.6926431322749763,0.7080109756612274,0.722610426878166,0.7364799055342576,0.7496559102575449,0.7621731147446678,0.7740644590074343,0.7853612360570624,0.7960931742542093,0.8062885155414989,0.815974089764424,0.8251753852762028,0.8339166160123926,0.842220785211773,0.8501097459511844,0.8576042586536251,0.8647240457209439,0.8714878434348966,0.8779134512631519,0.8840177786999942,0.8898168897649945,0.8953260452767448,0.9005597430129075,0.9055317558622622,0.9102551680691491,0.9147424096656918,0.9190052891824071,0.9230550247232867,0.9269022734871224,0.9305571598127662,0.934029301822128,0.9373278367310216,0.9404614448944705,0.943438372649747,0.9462664540172596,0.9489531313163966,0.9515054747505768,0.9539302010130479,0.9562336909623955,0.9584220064142758,0.960500906093562,0.9624758607888839,0.9643520677494397,0.9661344643619677,0.9678277411438694,0.9694363540866758,0.970964536382342,0.972416309563225,0.9737954940850637,0.9751057193808105,0.97635043341177,0.9775329117411815,0.9786562661541224,0.9797234528464163,0.9807372802040955,0.9817004161938907,0.9826153953841962,0.9834846256149864,0.9843103943342371,0.9850948746175252,0.9858401308866489,0.9865481243423165,0.9872207181252006,0.9878596822189406,0.9884666981079936,0.9890433632025939,0.9895911950424642,0.990111635290341,0.990606053525824,0.9910757508495328,0.9915219633070561,0.9919458651417034,0.9923485718846181,0.9927311432903873,0.9930945861258679,0.9934398568195745,0.9937678639785957,0.994079470779666],\"type\":\"scatter\",\"name\":\"y1\",\"yaxis\":\"y\",\"x\":[1,2,3,4,5,6,7,8,9,10,11,12,13,14,15,16,17,18,19,20,21,22,23,24,25,26,27,28,29,30,31,32,33,34,35,36,37,38,39,40,41,42,43,44,45,46,47,48,49,50,51,52,53,54,55,56,57,58,59,60,61,62,63,64,65,66,67,68,69,70,71,72,73,74,75,76,77,78,79,80,81,82,83,84,85,86,87,88,89,90,91,92,93,94,95,96,97,98,99,100]}];\n",
       "var layout_df63661d = {\"showlegend\":false,\"xaxis\":{\"showticklabels\":true,\"gridwidth\":0.5,\"tickvals\":[20.0,40.0,60.0,80.0,100.0],\"visible\":true,\"ticks\":\"inside\",\"range\":[1.0,100.0],\"domain\":[0.07646908719743364,0.9934383202099737],\"tickmode\":\"array\",\"linecolor\":\"rgba(0, 0, 0, 1.000)\",\"showgrid\":true,\"title\":\"Number of tests\",\"mirror\":false,\"tickangle\":0,\"showline\":true,\"gridcolor\":\"rgba(0, 0, 0, 0.100)\",\"titlefont\":{\"color\":\"rgba(0, 0, 0, 1.000)\",\"family\":\"sans-serif\",\"size\":15},\"tickcolor\":\"rgb(0, 0, 0)\",\"ticktext\":[\"20\",\"40\",\"60\",\"80\",\"100\"],\"zeroline\":false,\"type\":\"-\",\"tickfont\":{\"color\":\"rgba(0, 0, 0, 1.000)\",\"family\":\"sans-serif\",\"size\":11},\"zerolinecolor\":\"rgba(0, 0, 0, 1.000)\",\"anchor\":\"y\"},\"paper_bgcolor\":\"rgba(255, 255, 255, 1.000)\",\"annotations\":[{\"yanchor\":\"top\",\"xanchor\":\"center\",\"rotation\":-0.0,\"y\":1.0,\"font\":{\"color\":\"rgba(0, 0, 0, 1.000)\",\"family\":\"sans-serif\",\"size\":20},\"yref\":\"paper\",\"showarrow\":false,\"text\":\"Probability of one or more rejections\",\"xref\":\"paper\",\"x\":0.5349537037037038}],\"height\":400,\"margin\":{\"l\":0,\"b\":20,\"r\":0,\"t\":20},\"plot_bgcolor\":\"rgba(255, 255, 255, 1.000)\",\"yaxis\":{\"showticklabels\":true,\"gridwidth\":0.5,\"tickvals\":[0.2,0.4,0.6000000000000001,0.8],\"visible\":true,\"ticks\":\"inside\",\"range\":[0.050000000000000044,0.994079470779666],\"domain\":[0.07581474190726165,0.9415463692038496],\"tickmode\":\"array\",\"linecolor\":\"rgba(0, 0, 0, 1.000)\",\"showgrid\":true,\"title\":\"Probabiliry\",\"mirror\":false,\"tickangle\":0,\"showline\":true,\"gridcolor\":\"rgba(0, 0, 0, 0.100)\",\"titlefont\":{\"color\":\"rgba(0, 0, 0, 1.000)\",\"family\":\"sans-serif\",\"size\":15},\"tickcolor\":\"rgb(0, 0, 0)\",\"ticktext\":[\"0.2\",\"0.4\",\"0.6\",\"0.8\"],\"zeroline\":false,\"type\":\"-\",\"tickfont\":{\"color\":\"rgba(0, 0, 0, 1.000)\",\"family\":\"sans-serif\",\"size\":11},\"zerolinecolor\":\"rgba(0, 0, 0, 1.000)\",\"anchor\":\"x\"},\"width\":600};\n",
       "\n",
       "        if (!requirejs.specified('plotly')) {\n",
       "          requirejs.config({\n",
       "            paths: {\n",
       "              'plotly_cdn': ['https://cdn.plot.ly/plotly-latest.min']\n",
       "            },\n",
       "          });\n",
       "          require(['plotly_cdn'], function(Plotly) {\n",
       "            Plotly.newPlot('df63661d-e48d-4e9c-bc1e-3384e9dd1924',\n",
       "    data_df63661d, layout_df63661d,\n",
       "    {showLink: false}\n",
       ");\n",
       "\n",
       "          });\n",
       "        } else {\n",
       "          require(['plotly'], function(Plotly) {\n",
       "            Plotly.newPlot('df63661d-e48d-4e9c-bc1e-3384e9dd1924',\n",
       "    data_df63661d, layout_df63661d,\n",
       "    {showLink: false}\n",
       ");\n",
       "\n",
       "            if (window.Plotly == undefined) {\n",
       "                window.Plotly = Plotly;\n",
       "            }\n",
       "          });\n",
       "        }\n",
       "    })();\n",
       " </script>\n"
      ]
     },
     "execution_count": 75,
     "metadata": {},
     "output_type": "execute_result"
    }
   ],
   "source": [
    "y = [1 - cdf(Binomial(n,0.05),0) for n = 1:100]\n",
    "plot(1:100,y, legend = false,\n",
    "title=\"Probability of one or more rejections\",\n",
    "xlabel = \"Number of tests\", \n",
    "ylabel = \"Probabiliry\")"
   ]
  },
  {
   "cell_type": "code",
   "execution_count": 76,
   "metadata": {
    "collapsed": true,
    "slideshow": {
     "slide_type": "skip"
    }
   },
   "outputs": [],
   "source": [
    "png(\"multipleTest\")"
   ]
  },
  {
   "cell_type": "markdown",
   "metadata": {
    "slideshow": {
     "slide_type": "fragment"
    }
   },
   "source": [
    "<img src=\"multipleTest.png\" />"
   ]
  },
  {
   "cell_type": "markdown",
   "metadata": {
    "slideshow": {
     "slide_type": "slide"
    }
   },
   "source": [
    "## Two solutions:\n",
    "\n",
    "- Control probability of one or more false positives among all tests\n",
    "\n",
    "    - Bonferroni correction \n",
    "    - Multiple test penalty\n",
    "\n",
    "- Control proportion of false positives among rejections \n",
    "\n",
    "    - PER\n",
    "    - PFP\n",
    "    - No multiple test penalty"
   ]
  },
  {
   "cell_type": "markdown",
   "metadata": {
    "slideshow": {
     "slide_type": "slide"
    }
   },
   "source": [
    "## Posterior type I error rate (PER)\n",
    "\n",
    "- Probability $H_0$ is true given it has been rejected\n",
    "\n",
    "- Can think of PER as the proportion of false positives among rejections (PFP)"
   ]
  },
  {
   "cell_type": "markdown",
   "metadata": {
    "slideshow": {
     "slide_type": "fragment"
    }
   },
   "source": [
    "Let \n",
    "\n",
    "- $\\alpha$ = type I error rate\n",
    "- $(1-\\beta)$ = power "
   ]
  },
  {
   "cell_type": "markdown",
   "metadata": {
    "slideshow": {
     "slide_type": "fragment"
    }
   },
   "source": [
    "Then\n",
    "\n",
    "$$\n",
    "\\text{PER} = \\frac{\\alpha\\times\\Pr(H_0)}{\\alpha\\times\\Pr(H_0) + (1-\\beta)\\times[1 - \\Pr(H_0)]}\n",
    "$$"
   ]
  },
  {
   "cell_type": "markdown",
   "metadata": {
    "slideshow": {
     "slide_type": "subslide"
    }
   },
   "source": [
    "## Test of linkage for monogenic trait\n",
    "\n",
    "- $\\Pr(H_0) = 21/22 \\approx 0.95$ (autosomal locus in humans)\n",
    "\n",
    "- Suppose $1-\\beta = 0.95$"
   ]
  },
  {
   "cell_type": "markdown",
   "metadata": {
    "slideshow": {
     "slide_type": "fragment"
    }
   },
   "source": [
    "$$\n",
    "\\begin{align}\n",
    "\\text{PER} &= \\frac{0.05\\times0.95}{0.05\\times0.95 + 0.95\\times0.05}\\\\\n",
    "           &= 0.5\n",
    "\\end{align}\n",
    "$$\n",
    "\n",
    "To reduce PER to 0.05, take $\\alpha = 0.05/19 = 0.0026$\n",
    "\n",
    "$$\n",
    "\\begin{align}\n",
    "\\text{PER} &= \\frac{0.0026\\times0.95}{0.0026\\times0.95 + 0.95\\times0.05}\\\\\n",
    "           &= 0.05\n",
    "\\end{align}\n",
    "$$"
   ]
  },
  {
   "cell_type": "markdown",
   "metadata": {},
   "source": [
    "## FDR and PFP\n",
    "\n",
    "- $F$: the number of false positives\n",
    "- $T$: the total number of positives\n",
    "$$\n",
    "\\text{FDR} = \\text{E}(\\frac{F}{T}|T>0)\\Pr(T>0)\n",
    "$$\n",
    "and\n",
    "$$\n",
    "\\text{PFP} = \\frac{\\text{E}(F)}{\\text{E}(T)}\n",
    "$$\n",
    "\n",
    "- Can show that controlling PER for each test to some level results in a PFP of the same value for the experiment. "
   ]
  },
  {
   "cell_type": "markdown",
   "metadata": {},
   "source": [
    "<img src=\"RLF.png\" />"
   ]
  },
  {
   "cell_type": "markdown",
   "metadata": {
    "slideshow": {
     "slide_type": "slide"
    }
   },
   "source": [
    "## Bayesian approach\n",
    "\n",
    "- $\\Pr(H_0)$ and $\\beta$ are treated as unknown \n",
    "\n",
    "- Inference based on $\\Pr(H_0|\\mathbf{y})$\n",
    "\n",
    "- Typically, $\\Pr(H_0|\\mathbf{y})$ is estimated by counting the number of MCMC samples where $\\Pr(H_0)$ was true\n"
   ]
  },
  {
   "cell_type": "markdown",
   "metadata": {},
   "source": [
    "<img src=\"PFP.png\" />"
   ]
  },
  {
   "cell_type": "markdown",
   "metadata": {
    "slideshow": {
     "slide_type": "subslide"
    }
   },
   "source": [
    "<img src=\"b995c995cpi.jpeg\" />"
   ]
  },
  {
   "cell_type": "markdown",
   "metadata": {
    "slideshow": {
     "slide_type": "slide"
    }
   },
   "source": [
    "<img src=\"title.png\" />"
   ]
  },
  {
   "cell_type": "markdown",
   "metadata": {
    "slideshow": {
     "slide_type": "subslide"
    }
   },
   "source": [
    "<img src=\"tab1.png\" />"
   ]
  },
  {
   "cell_type": "markdown",
   "metadata": {
    "slideshow": {
     "slide_type": "fragment"
    }
   },
   "source": [
    "<img src=\"tab2.png\" />"
   ]
  },
  {
   "cell_type": "markdown",
   "metadata": {
    "slideshow": {
     "slide_type": "subslide"
    }
   },
   "source": [
    "<img src=\"tab3.png\" />"
   ]
  },
  {
   "cell_type": "markdown",
   "metadata": {
    "slideshow": {
     "slide_type": "slide"
    }
   },
   "source": [
    "## Summary\n",
    "\n",
    "- When PER is used to manage false positives, no multiple-test\n",
    "  penalty\n",
    "  \n",
    "- Bayesian posterior probabilities can be used to control PER\n",
    "\n",
    "    - Pr(H0), and power of test can be treated as unknown\n",
    "    - Do not need to know the distribution of test statistic\n",
    "    - Simple to determine significance threshold\n",
    "    \n",
    "- Genomic window based inference multiple regression models    \n",
    "    "
   ]
  },
  {
   "cell_type": "code",
   "execution_count": 1,
   "metadata": {
    "scrolled": true,
    "slideshow": {
     "slide_type": "skip"
    }
   },
   "outputs": [
    {
     "name": "stderr",
     "output_type": "stream",
     "text": [
      "[NbConvertApp] Converting notebook LICSeminar.ipynb to slides\n",
      "[NbConvertApp] Writing 265836 bytes to LICSeminar.slides.html\n"
     ]
    }
   ],
   "source": [
    "; jupyter nbconvert --to slides LICSeminar.ipynb"
   ]
  }
 ],
 "metadata": {
  "celltoolbar": "Slideshow",
  "kernelspec": {
   "display_name": "Julia 1.0.0",
   "language": "julia",
   "name": "julia-1.0"
  },
  "language_info": {
   "file_extension": ".jl",
   "mimetype": "application/julia",
   "name": "julia",
   "version": "1.0.0"
  }
 },
 "nbformat": 4,
 "nbformat_minor": 2
}
