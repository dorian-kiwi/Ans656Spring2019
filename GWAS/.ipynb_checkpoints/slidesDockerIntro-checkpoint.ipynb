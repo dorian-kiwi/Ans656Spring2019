{
 "cells": [
  {
   "cell_type": "markdown",
   "metadata": {
    "slideshow": {
     "slide_type": "slide"
    }
   },
   "source": [
    "# Introduction to Docker\n",
    "\n",
    "Christian Stricker & Rohan Fernando\n"
   ]
  },
  {
   "cell_type": "markdown",
   "metadata": {
    "slideshow": {
     "slide_type": "slide"
    }
   },
   "source": [
    "## What's the Problem?\n",
    "\n",
    " - large variety of hardware\n",
    " - with large variety of software, libraries, OS,  etc. installed\n",
    " - installing a code on these different architectures is hard\n",
    " - e.g. shipping code to the cloud, servers, your colleagues laptop..."
   ]
  },
  {
   "cell_type": "markdown",
   "metadata": {
    "slideshow": {
     "slide_type": "slide"
    }
   },
   "source": [
    "## Others businesses had similar problems\n",
    "- How to ship different type of goods to different countries\n",
    "  - e.g. rice, furniture or electronics\n",
    "- each company shipping such goods had to choose a suitable way of transportation\n",
    "- ... until containers were invented.\n",
    "- problem solved, ports can deal with containers."
   ]
  },
  {
   "cell_type": "markdown",
   "metadata": {
    "slideshow": {
     "slide_type": "slide"
    }
   },
   "source": [
    "## How has Docker solved the problem?\n",
    "- Docker ist a standardized container like in the shipping industry\n",
    "- a minimal box of software that the receiver can use on his hardware\n",
    "- all necessary functionality packed into box\n",
    "- receiver will operate on everything outside the box through the Docker software\n",
    "- you are responsible for everything inside the box\n",
    "- one way of \"process isolation\"\n",
    "- servers, virtual machines are another way\n"
   ]
  },
  {
   "cell_type": "markdown",
   "metadata": {
    "slideshow": {
     "slide_type": "slide"
    }
   },
   "source": [
    "<img src = \"docker1.png\" />"
   ]
  },
  {
   "cell_type": "markdown",
   "metadata": {
    "slideshow": {
     "slide_type": "slide"
    }
   },
   "source": [
    "## How do we invoke Docker?\n",
    "- Start a new docker container running a jupyter notebook with JWAS & XSim (and minimal Ubuntu functionality) through a browser\n",
    "    - docker run -it --rm -p 8888:8888 -v localDir:/home/ubuntu/work qtlrocks/jwas-docker\n",
    "    \n",
    "- you'll get \n",
    "       Copy/paste this URL into your browser when you connect for the first time,\n",
    "       http://0.0.0.0:8888/?token=04c2f4dcbae37ece8fd5b6a1af70e42602bf20512d6da7b8\n",
    "\n"
   ]
  },
  {
   "cell_type": "markdown",
   "metadata": {
    "slideshow": {
     "slide_type": "slide"
    }
   },
   "source": [
    "## Creating your own containter \n",
    "- All functionality (software/libs) added to a container is lost, when the container is stopped\n",
    "- All information written to \"/home/ubuntu/work\" is saved to the linked volume\n",
    "- Can commit added functionality to the container using the docker command commit\n",
    "- Can upload (push) the new container to a public registry of containers to share with the public (see above for qtlrocks), versioning system (simialr to git)\n",
    "- several containers can run in parallel"
   ]
  },
  {
   "cell_type": "code",
   "execution_count": 1,
   "metadata": {},
   "outputs": [
    {
     "name": "stderr",
     "output_type": "stream",
     "text": [
      "[NbConvertApp] Converting notebook slidesDockerIntro.ipynb to slides\n",
      "[NbConvertApp] Writing 259219 bytes to slidesDockerIntro.slides.html\n"
     ]
    }
   ],
   "source": [
    ";jupyter nbconvert slidesDockerIntro.ipynb --to slides"
   ]
  }
 ],
 "metadata": {
  "celltoolbar": "Slideshow",
  "kernelspec": {
   "display_name": "Julia 0.6.2",
   "language": "julia",
   "name": "julia-0.6"
  },
  "language_info": {
   "file_extension": ".jl",
   "mimetype": "application/julia",
   "name": "julia",
   "version": "0.6.2"
  }
 },
 "nbformat": 4,
 "nbformat_minor": 2
}
