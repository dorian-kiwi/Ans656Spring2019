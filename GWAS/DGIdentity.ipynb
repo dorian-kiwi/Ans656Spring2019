{
 "cells": [
  {
   "cell_type": "markdown",
   "metadata": {},
   "source": [
    "Latex Macros:\n",
    "$$\n",
    "\\newcommand{\\E}{\\text{E}}\n",
    "\\newcommand{\\mbf}{\\mathbf}\n",
    "\\newcommand{\\bs}{\\boldsymbol}\n",
    "\\newcommand{\\Cov}{\\text{Cov}}\n",
    "\\newcommand{\\Var}{\\text{Var}}\n",
    "\\newcommand{\\Cov}{\\text{Cov}}\n",
    "\\newcommand{\\A}[1]{\\mathbf{A}_{#1}}\n",
    "\\newcommand{\\Ai}[1]{\\mathbf{A}^{#1}}\n",
    "$$"
   ]
  },
  {
   "cell_type": "code",
   "execution_count": 3,
   "metadata": {},
   "outputs": [
    {
     "data": {
      "application/javascript": [
       "    MathJax.Hub.Config({\n",
       "      TeX: { equationNumbers: { autoNumber: \"AMS\" } }\n",
       "    });\n",
       "    MathJax.Hub.Queue( \n",
       "        [\"resetEquationNumbers\",MathJax.InputJax.TeX], \n",
       "        [\"PreProcess\",MathJax.Hub], \n",
       "        [\"Reprocess\",MathJax.Hub] \n",
       "    );\n"
      ]
     },
     "metadata": {},
     "output_type": "display_data"
    }
   ],
   "source": [
    "macro javascript_str(s) display(\"text/javascript\", s); end\n",
    "javascript\"\"\"\n",
    "    MathJax.Hub.Config({\n",
    "      TeX: { equationNumbers: { autoNumber: \"AMS\" } }\n",
    "    });\n",
    "    MathJax.Hub.Queue( \n",
    "        [\"resetEquationNumbers\",MathJax.InputJax.TeX], \n",
    "        [\"PreProcess\",MathJax.Hub], \n",
    "        [\"Reprocess\",MathJax.Hub] \n",
    "    );\n",
    "\"\"\""
   ]
  },
  {
   "cell_type": "markdown",
   "metadata": {},
   "source": [
    "The following paper, which is linked [here](GIANOLAPaper.pdf), has an interesting result."
   ]
  },
  {
   "cell_type": "markdown",
   "metadata": {},
   "source": [
    "<img src=\"DanGianolaPaperTitle.png\" />"
   ]
  },
  {
   "cell_type": "markdown",
   "metadata": {},
   "source": [
    "Consider the model\n",
    "\\begin{equation}\n",
    "\\mbf{y} = \\mbf{X}\\bs{\\alpha} + \\mbf{Z}\\bs{\\beta} + \\mbf{e}, \\label{ModelXZ}\n",
    "\\end{equation}"
   ]
  },
  {
   "cell_type": "markdown",
   "metadata": {},
   "source": [
    "where, for simplicity, non-genetic effects are ignored, the matrices $\\mbf{X}$ and $\\mbf{Z}$ contain SNP covariates, the effects in $\\bs{\\alpha}$ are considered fixed, and those in $\\bs{\\beta}$ are considered random with null mean and covariance matrix $\\mbf{I}\\sigma^2_g$.  "
   ]
  },
  {
   "cell_type": "markdown",
   "metadata": {},
   "source": [
    "Then, the GLS estimate of $\\bs{\\alpha}$ is:"
   ]
  },
  {
   "cell_type": "markdown",
   "metadata": {},
   "source": [
    "\\begin{equation}\n",
    "\\hat{\\bs{\\alpha}} = (\\mbf{X}'\\mbf{V}_Z^{-1}\\mbf{X})^{-1}\\mbf{X}'\\mbf{V}_Z^{-1}\\mbf{y}, \\label{GLS1}\n",
    "\\end{equation}\n",
    "where $\\mbf{V}_Z = \\mbf{ZZ}'\\sigma^2_g + \\mbf{I}\\sigma^2_e$, and $\\sigma^2_e$ is the residual variance."
   ]
  },
  {
   "cell_type": "markdown",
   "metadata": {},
   "source": [
    "In this paper, it is shown that the estimate obtained as \n",
    "\\begin{equation}\n",
    "\\tilde{\\bs{\\alpha}} = (\\mbf{X}'\\mbf{V}^{-1}\\mbf{X})^{-1}\\mbf{X}'\\mbf{V}^{-1}\\mbf{y}, \\label{GLS2}\n",
    "\\end{equation}"
   ]
  },
  {
   "cell_type": "markdown",
   "metadata": {},
   "source": [
    "where $\\mbf{V} = \\mbf{XX}'\\sigma^2_g + \\mbf{ZZ}'\\sigma^2_g + \\mbf{I}\\sigma^2_e$ is identical to that given by \n",
    "(\\ref{GLS1}). In other words, $\\hat{\\bs{\\alpha}} = \\tilde{\\bs{\\alpha}}$. The proof of this identity, which is given in the paper, is presented below in more detail. "
   ]
  },
  {
   "cell_type": "markdown",
   "metadata": {},
   "source": [
    "### Proof \n",
    "\n",
    "First note that $\\mbf{V}_Z = \\mbf{V} - \\mbf{XX}'\\sigma^2_g$, and using the woodbury identity,\n",
    "\n",
    "\\begin{equation}\n",
    "\\mbf{V}_Z^{-1} = \\mbf{V}^{-1} + \\sigma^2_g\\mbf{V}^{-1}\\mbf{X}\n",
    "                                (\\mbf{I} - \\sigma^2_g\\mbf{X}'\\mbf{V}^{-1}\\mbf{X})^{-1}\\mbf{X}'\\mbf{V}^{-1}. \\label{WI}\n",
    "\\end{equation}"
   ]
  },
  {
   "cell_type": "markdown",
   "metadata": {},
   "source": [
    "Next, using (\\ref{WI}), $\\mbf{X}'\\mbf{V}_Z^{-1}$ can be written as:"
   ]
  },
  {
   "cell_type": "markdown",
   "metadata": {},
   "source": [
    "\\begin{align}\n",
    "\\mbf{X}'\\mbf{V}_Z^{-1} &= \\mbf{X}'\\mbf{V}^{-1} + \\sigma^2_g\\mbf{X}'\\mbf{V}^{-1}\\mbf{X}\n",
    "                                (\\mbf{I} - \\sigma^2_g\\mbf{X}'\\mbf{V}^{-1}\\mbf{X})^{-1}\\mbf{X}'\\mbf{V}^{-1} \\\\\n",
    "&=[\\mbf{I} + \\sigma^2_g\\mbf{X}'\\mbf{V}^{-1}\\mbf{X}\n",
    "                                (\\mbf{I} - \\sigma^2_g\\mbf{X}'\\mbf{V}^{-1}\\mbf{X})^{-1}]\\mbf{X}'\\mbf{V}^{-1}\\\\\n",
    "&=[\\mbf{I} + \\sigma^2_g\\mbf{X}'\\mbf{V}^{-1}\\mbf{X}\n",
    "                                (\\mbf{I} - \\sigma^2_g\\mbf{X}'\\mbf{V}^{-1}\\mbf{X})^{-1}]\n",
    "                                (\\mbf{I} - \\sigma^2_g\\mbf{X}'\\mbf{V}^{-1}\\mbf{X})(\\mbf{I} - \\sigma^2_g\\mbf{X}'\\mbf{V}^{-1}\\mbf{X})^{-1}\n",
    "                                \\mbf{X}'\\mbf{V}^{-1}\\\\\n",
    "&=(\\mbf{I} - \\sigma^2_g\\mbf{X}'\\mbf{V}^{-1}\\mbf{X})^{-1}\\mbf{X}'\\mbf{V}^{-1}.    \\label{DGL}                            \n",
    "\\end{align}"
   ]
  },
  {
   "cell_type": "markdown",
   "metadata": {},
   "source": [
    "Now, using (\\ref{DGL}),  $(\\mbf{X}'\\mbf{V}_Z^{-1}\\mbf{X})$ can be written as"
   ]
  },
  {
   "cell_type": "markdown",
   "metadata": {},
   "source": [
    "\\begin{equation}\n",
    "(\\mbf{X}'\\mbf{V}_Z^{-1}\\mbf{X}) = (\\mbf{I} - \\sigma^2_g\\mbf{X}'\\mbf{V}^{-1}\\mbf{X})^{-1}\\mbf{X}'\\mbf{V}^{-1}\\mbf{X}, \\label{res1}\n",
    "\\end{equation}"
   ]
  },
  {
   "cell_type": "markdown",
   "metadata": {},
   "source": [
    "and $\\mbf{X}'\\mbf{V}_Z^{-1}\\mbf{y}$ as"
   ]
  },
  {
   "cell_type": "markdown",
   "metadata": {},
   "source": [
    "\\begin{equation}\n",
    "(\\mbf{X}'\\mbf{V}_Z^{-1}\\mbf{y}) = (\\mbf{I} - \\sigma^2_g\\mbf{X}'\\mbf{V}^{-1}\\mbf{X})^{-1}\\mbf{X}'\\mbf{V}^{-1}\\mbf{y}. \\label{res2}\n",
    "\\end{equation}"
   ]
  },
  {
   "cell_type": "markdown",
   "metadata": {},
   "source": [
    "Then, using (\\ref{res1}) and (\\ref{res2}), $\\tilde{\\bs{\\alpha}} = (\\mbf{X}'\\mbf{V}_Z^{-1}\\mbf{X})^{-1}\\mbf{X}'\\mbf{V}_Z^{-1}\\mbf{y}$ can be written as"
   ]
  },
  {
   "cell_type": "markdown",
   "metadata": {},
   "source": [
    "\\begin{align}\n",
    "(\\mbf{X}'\\mbf{V}_Z^{-1}\\mbf{X})^{-1}\\mbf{X}'\\mbf{V}_Z^{-1}\\mbf{y} &= (\\mbf{X}'\\mbf{V}^{-1}\\mbf{X})^{-1}(\\mbf{I} - \\sigma^2_g\\mbf{X}'\\mbf{V}^{-1}\\mbf{X})\n",
    "                                                                     (\\mbf{I} - \\sigma^2_g\\mbf{X}'\\mbf{V}^{-1}\\mbf{X})^{-1}\\mbf{X}'\\mbf{V}^{-1}\\mbf{y}\\\\\n",
    "                                                                  &= (\\mbf{X}'\\mbf{V}^{-1}\\mbf{X})^{-1}\\mbf{X}'\\mbf{V}^{-1}\\mbf{y}\\\\\n",
    "                                                                  &= \\hat{\\bs{\\alpha}}.\n",
    "\\end{align}"
   ]
  },
  {
   "cell_type": "markdown",
   "metadata": {},
   "source": [
    "Further, from (\\ref{res1}), $\\Var(\\tilde{\\bs{\\alpha}})$ can be computed as\n",
    "\\begin{align}\n",
    "\\Var(\\tilde{\\bs{\\alpha}}) &= (\\mbf{X}'\\mbf{V}_Z^{-1}\\mbf{X})^{-1} \\\\\n",
    "                          &= (\\mbf{X}'\\mbf{V}^{-1}\\mbf{X})^{-1}(\\mbf{I} - \\sigma^2_g\\mbf{X}'\\mbf{V}^{-1}\\mbf{X})\\\\\n",
    "                          &= (\\mbf{X}'\\mbf{V}^{-1}\\mbf{X})^{-1} - \\mbf{I}\\sigma^2_g.\n",
    "\\end{align}"
   ]
  },
  {
   "cell_type": "markdown",
   "metadata": {},
   "source": [
    "### Numerical Exammple"
   ]
  },
  {
   "cell_type": "code",
   "execution_count": 62,
   "metadata": {},
   "outputs": [],
   "source": [
    "using Distributions, LinearAlgebra"
   ]
  },
  {
   "cell_type": "code",
   "execution_count": 70,
   "metadata": {},
   "outputs": [],
   "source": [
    "using Distributions\n",
    "using LinearAlgebra\n",
    "using Random"
   ]
  },
  {
   "cell_type": "code",
   "execution_count": 64,
   "metadata": {},
   "outputs": [],
   "source": [
    "Random.seed!(54321)\n",
    "X   = randn(5,2)\n",
    "Z   = randn(5,3)\n",
    "Gz  = Z*Z'\n",
    "Gx  = X*X'\n",
    "Vz  = Gz + Matrix{Float64}(I,5,5)\n",
    "Vzi = inv(Vz)\n",
    "V   = Gx + Vz\n",
    "Vi  = inv(V)\n",
    "y   = X*randn(2) + Z*randn(3) + randn(5);"
   ]
  },
  {
   "cell_type": "code",
   "execution_count": 65,
   "metadata": {},
   "outputs": [
    {
     "data": {
      "text/plain": [
       "2-element Array{Float64,1}:\n",
       " -1.189933756076376\n",
       "  2.705154181488593"
      ]
     },
     "execution_count": 65,
     "metadata": {},
     "output_type": "execute_result"
    }
   ],
   "source": [
    "inv(X'Vi*X)*X'Vi*y"
   ]
  },
  {
   "cell_type": "code",
   "execution_count": 66,
   "metadata": {},
   "outputs": [
    {
     "data": {
      "text/plain": [
       "2-element Array{Float64,1}:\n",
       " -1.1899337560763763\n",
       "  2.7051541814885933"
      ]
     },
     "execution_count": 66,
     "metadata": {},
     "output_type": "execute_result"
    }
   ],
   "source": [
    "inv(X'Vzi*X)*X'Vzi*y"
   ]
  },
  {
   "cell_type": "markdown",
   "metadata": {},
   "source": [
    "### Dorian's Explanation of Identity"
   ]
  },
  {
   "cell_type": "markdown",
   "metadata": {},
   "source": [
    "BLUP of random effects depend on $\\mbf{y}$ through error contrasts that have null mean. So, if a locus is included in the model as a fixed effect, the error contrasts used for BLUP do not have any information on the effects of this locus. Thus, if a locus is included in the model both as a fixed effect and a random effect, the BLUP of the random effect will depend entirely on the prior, and, as shown below, will be null. "
   ]
  },
  {
   "cell_type": "markdown",
   "metadata": {},
   "source": [
    "#### Model "
   ]
  },
  {
   "cell_type": "markdown",
   "metadata": {},
   "source": [
    "Consider the following model where effects of loci in $\\mbf{X}$ are included in the model as both fixed and random:"
   ]
  },
  {
   "cell_type": "markdown",
   "metadata": {},
   "source": [
    "\\begin{equation}\n",
    "\\mbf{y} = \\mbf{X}\\bs{\\alpha} + \\mbf{X}\\bs{\\gamma} + \\mbf{Z}\\bs{\\beta} + \\mbf{e},  \\label{ModelXXZ}\n",
    "\\end{equation}"
   ]
  },
  {
   "cell_type": "markdown",
   "metadata": {},
   "source": [
    "where $\\bs{\\alpha}$ are the fixed effects and  $\\bs{\\gamma}$ the random effects for loci in $\\mbf{X}$. Henderson's mixed model equations for the model (\\ref{ModelXXZ}) are:"
   ]
  },
  {
   "cell_type": "markdown",
   "metadata": {},
   "source": [
    "\\begin{equation}\n",
    "\\begin{bmatrix}\n",
    " \\mbf{X}'\\mbf{X} & \\mbf{X}'\\mbf{X} & \\mbf{X}'\\mbf{Z} \\\\\n",
    " \\mbf{X}'\\mbf{X} & \\mbf{X}'\\mbf{X} + \\mbf{I}\\lambda & \\mbf{X}'\\mbf{Z} \\\\\n",
    " \\mbf{Z}'\\mbf{X} & \\mbf{Z}'\\mbf{X} & \\mbf{Z}'\\mbf{Z} + \\mbf{I}\\lambda \n",
    "\\end{bmatrix}\n",
    "\\begin{bmatrix}\n",
    "\\hat{\\bs{\\alpha}}\\\\\n",
    "\\hat{\\bs{\\gamma}}\\\\\n",
    "\\hat{\\bs{\\beta}}\n",
    "\\end{bmatrix} \n",
    "=\n",
    "\\begin{bmatrix}\n",
    "\\mbf{X}'\\mbf{y}\\\\\n",
    "\\mbf{X}'\\mbf{y}\\\\\n",
    "\\mbf{Z}'\\mbf{y}\n",
    "\\end{bmatrix}, \\label{MMEXXZ}\n",
    "\\end{equation}"
   ]
  },
  {
   "cell_type": "markdown",
   "metadata": {},
   "source": [
    "where $\\lambda = \\frac{\\sigma^2_e}{\\sigma^2_g}$. Subtracting the equations for $\\hat{\\bs{\\alpha}}$ from the equations for $\\hat{\\bs{\\gamma}}$ gives $(\\mbf{I}\\lambda)\\hat{\\bs{\\gamma}} = \\mbf{0}$, implying that $\\hat{\\bs{\\gamma}} = \\mbf{0}$.  Thus, solutions for $\\hat{\\bs{\\alpha}}$ from (\\ref{MMEXXZ}) will be identical to those from the MME corresponding to (\\ref{ModelXZ})."
   ]
  },
  {
   "cell_type": "markdown",
   "metadata": {},
   "source": [
    "Note that the variance of $\\mbf{y}$ for model (\\ref{ModelXZ}) is $\\mbf{V}_Z$ and for model (\\ref{ModelXXZ}) is $\\mbf{V}$. Since the MME corresponding to these two models give the same solutions for $\\hat{\\bs{\\alpha}}$, GLS based on these two models, using $\\mbf{V}_Z$ and $\\mbf{V}$,  also have to give the same solutions."
   ]
  },
  {
   "cell_type": "markdown",
   "metadata": {},
   "source": [
    "### Numerical Example"
   ]
  },
  {
   "cell_type": "code",
   "execution_count": 71,
   "metadata": {},
   "outputs": [
    {
     "data": {
      "text/plain": [
       "Id (generic function with 1 method)"
      ]
     },
     "execution_count": 71,
     "metadata": {},
     "output_type": "execute_result"
    }
   ],
   "source": [
    "Id(n) = Matrix{Float64}(I,n,n)"
   ]
  },
  {
   "cell_type": "code",
   "execution_count": 72,
   "metadata": {},
   "outputs": [
    {
     "data": {
      "text/plain": [
       "4×4 Array{Float64,2}:\n",
       " 1.0  0.0  0.0  0.0\n",
       " 0.0  1.0  0.0  0.0\n",
       " 0.0  0.0  1.0  0.0\n",
       " 0.0  0.0  0.0  1.0"
      ]
     },
     "execution_count": 72,
     "metadata": {},
     "output_type": "execute_result"
    }
   ],
   "source": [
    "Id(4)"
   ]
  },
  {
   "cell_type": "code",
   "execution_count": 77,
   "metadata": {},
   "outputs": [
    {
     "data": {
      "text/plain": [
       "7-element Array{Float64,1}:\n",
       " -1.19 \n",
       "  2.705\n",
       "  0.0  \n",
       "  0.0  \n",
       "  0.937\n",
       " -1.223\n",
       "  0.167"
      ]
     },
     "execution_count": 77,
     "metadata": {},
     "output_type": "execute_result"
    }
   ],
   "source": [
    "mme1 = [X'X    X'X          X'Z\n",
    "        X'X    X'X + Id(2)  X'Z\n",
    "        Z'X    Z'X          Z'Z + Id(3)]\n",
    "rhs1 = [X'y\n",
    "        X'y\n",
    "        Z'y]\n",
    "sol1 = round.(inv(mme1)*rhs1,digits=3)"
   ]
  },
  {
   "cell_type": "code",
   "execution_count": 78,
   "metadata": {},
   "outputs": [
    {
     "data": {
      "text/plain": [
       "5-element Array{Float64,1}:\n",
       " -1.19 \n",
       "  2.705\n",
       "  0.937\n",
       " -1.223\n",
       "  0.167"
      ]
     },
     "execution_count": 78,
     "metadata": {},
     "output_type": "execute_result"
    }
   ],
   "source": [
    "mme2 = [X'X  X'Z\n",
    "        Z'X  Z'Z + Id(3)]\n",
    "rhs2 = [X'y\n",
    "        Z'y]\n",
    "sol2 = round.(inv(mme2)*rhs2,digits=3)"
   ]
  },
  {
   "cell_type": "markdown",
   "metadata": {},
   "source": [
    "### [New paper](DanRohanDorian.pdf)"
   ]
  }
 ],
 "metadata": {
  "kernelspec": {
   "display_name": "Julia 1.1.0",
   "language": "julia",
   "name": "julia-1.1"
  },
  "language_info": {
   "file_extension": ".jl",
   "mimetype": "application/julia",
   "name": "julia",
   "version": "1.1.0"
  }
 },
 "nbformat": 4,
 "nbformat_minor": 2
}
