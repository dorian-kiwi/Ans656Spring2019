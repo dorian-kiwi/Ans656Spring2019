{
 "cells": [
  {
   "cell_type": "markdown",
   "metadata": {
    "slideshow": {
     "slide_type": "slide"
    }
   },
   "source": [
    "# Bayesian Multiple Regression for GWAS\n"
   ]
  },
  {
   "cell_type": "markdown",
   "metadata": {
    "slideshow": {
     "slide_type": "slide"
    }
   },
   "source": [
    "## Hypothesis testing: classical approach\n",
    "\n",
    "\n",
    "\n",
    "- Want a test to reject $H_0$ in favor of $H_a$\n",
    "\n",
    "   - Example: \n",
    "   \n",
    "       - $H_0$: region $R$ of genome has no effect on the trait\n",
    "       \n",
    "       - $H_a$: region $R$ of genome has an effect on the trait\n",
    "       \n",
    "- Test is constructed such that:       \n",
    "       \n",
    "    - If $H_0$ is true, probability of rejection is low (usually  < 0.05) \n",
    "    \n",
    "        -  This is the type I error rate\n",
    "\n",
    "    - If $H_a$ is true, probability of rejection is high\n",
    "    \n",
    "        -  This is the power of the test \n",
    "   "
   ]
  },
  {
   "cell_type": "markdown",
   "metadata": {
    "slideshow": {
     "slide_type": "subslide"
    }
   },
   "source": [
    "## Distribution of test statistic:\n",
    "\n",
    "$T$ is the value of the test statistic. Suppose $H_0$ is revected when $|T|>CV$. \n"
   ]
  },
  {
   "cell_type": "code",
   "execution_count": 2,
   "metadata": {
    "slideshow": {
     "slide_type": "skip"
    }
   },
   "outputs": [
    {
     "name": "stdout",
     "output_type": "stream",
     "text": [
      "typeI error rate = 0.0114 Power = 1.0\n"
     ]
    }
   ],
   "source": [
    "using Plots\n",
    "\n",
    "To = randn(10000)\n",
    "Ta = randn(10000) .+ 6;\n",
    "\n",
    "typeIa = sum(abs.(To) .> 2.5)/size(To,1)\n",
    "powera = sum(Ta      .> 2.5)/size(Ta,1)\n",
    "println(\"typeI error rate = \",typeIa,\" Power = \", powera)\n",
    "\n",
    "histogram([To Ta],\n",
    "title=\"\",\n",
    "xlabel = \"Value of T\", \n",
    "ylabel = \"Frequency\",\n",
    "legend = :best,\n",
    "label=[\"Ho\" \"Ha\"])\n",
    "png(\"testStat1\")"
   ]
  },
  {
   "cell_type": "markdown",
   "metadata": {
    "slideshow": {
     "slide_type": "fragment"
    }
   },
   "source": [
    "<img src=\"testStat1.png\" />"
   ]
  },
  {
   "cell_type": "markdown",
   "metadata": {
    "slideshow": {
     "slide_type": "subslide"
    },
    "variables": {
     "powera": "0.9993",
     "typeIa": "0.0114"
    }
   },
   "source": [
    "## Type I error rate and power\n",
    "\n",
    "Let $CV = 2.5$\n",
    "\n",
    "Then $H_0$ is rejected when $|T| > 2.5$\n",
    "\n",
    "  - type I error rate is: 0.0114\n",
    "\n",
    "  - power is: 1.0"
   ]
  },
  {
   "cell_type": "markdown",
   "metadata": {
    "slideshow": {
     "slide_type": "subslide"
    }
   },
   "source": [
    "## Distribution of test statistic:\n",
    "\n",
    "$T$ is the value of the test statistic\n"
   ]
  },
  {
   "cell_type": "code",
   "execution_count": 4,
   "metadata": {
    "slideshow": {
     "slide_type": "skip"
    }
   },
   "outputs": [
    {
     "name": "stdout",
     "output_type": "stream",
     "text": [
      "typeI error rate = 0.0118 Power = 0.3048\n"
     ]
    }
   ],
   "source": [
    "To = randn(10000)\n",
    "Ta = randn(10000) + 2;\n",
    "\n",
    "typeIb = sum(abs.(To) .> 2.5)/size(To,1)\n",
    "powerb = sum(Ta       .> 2.5)/size(Ta,1)\n",
    "println(\"typeI error rate = \",typeIb,\" Power = \", powerb)"
   ]
  },
  {
   "cell_type": "code",
   "execution_count": 5,
   "metadata": {
    "scrolled": true,
    "slideshow": {
     "slide_type": "skip"
    }
   },
   "outputs": [],
   "source": [
    "histogram([To Ta],\n",
    "title=\"\",\n",
    "xlabel = \"Value of T\", \n",
    "ylabel = \"Frequency\",\n",
    "legend = :best,\n",
    "label=[\"Ho\" \"Ha\"])\n",
    "png(\"testStat2\")"
   ]
  },
  {
   "cell_type": "markdown",
   "metadata": {
    "slideshow": {
     "slide_type": "fragment"
    }
   },
   "source": [
    "<img src=\"testStat2.png\" />"
   ]
  },
  {
   "cell_type": "markdown",
   "metadata": {
    "slideshow": {
     "slide_type": "subslide"
    },
    "variables": {
     "powerb": "0.3121",
     "typeIb": "0.0106"
    }
   },
   "source": [
    "## Type I error rate and power\n",
    "\n",
    "If $H_0$ is rejected when $|T| > 2.5$\n",
    "\n",
    "  - type I error rate is: 0.0118\n",
    "\n",
    "  - power is: 0.3048\n",
    "  \n",
    "Can increase sample size to increase power  "
   ]
  },
  {
   "cell_type": "markdown",
   "metadata": {
    "slideshow": {
     "slide_type": "slide"
    }
   },
   "source": [
    "## Type I errors in multiple tests\n",
    "\n",
    "Consider $n$ independent tests, each with a type I error rate of 0.05 \n",
    "\n",
    "\n"
   ]
  },
  {
   "cell_type": "code",
   "execution_count": 4,
   "metadata": {
    "slideshow": {
     "slide_type": "skip"
    }
   },
   "outputs": [],
   "source": [
    "using Distributions\n",
    "#using Rsvg"
   ]
  },
  {
   "cell_type": "code",
   "execution_count": 5,
   "metadata": {
    "slideshow": {
     "slide_type": "skip"
    }
   },
   "outputs": [
    {
     "data": {
      "image/svg+xml": [
       "<?xml version=\"1.0\" encoding=\"utf-8\"?>\n",
       "<svg xmlns=\"http://www.w3.org/2000/svg\" xmlns:xlink=\"http://www.w3.org/1999/xlink\" width=\"600\" height=\"400\" viewBox=\"0 0 2400 1600\">\n",
       "<defs>\n",
       "  <clipPath id=\"clip6800\">\n",
       "    <rect x=\"0\" y=\"0\" width=\"2000\" height=\"2000\"/>\n",
       "  </clipPath>\n",
       "</defs>\n",
       "<defs>\n",
       "  <clipPath id=\"clip6801\">\n",
       "    <rect x=\"0\" y=\"0\" width=\"2400\" height=\"1600\"/>\n",
       "  </clipPath>\n",
       "</defs>\n",
       "<polygon clip-path=\"url(#clip6801)\" points=\"\n",
       "0,1600 2400,1600 2400,0 0,0 \n",
       "  \" fill=\"#ffffff\" fill-rule=\"evenodd\" fill-opacity=\"1\"/>\n",
       "<defs>\n",
       "  <clipPath id=\"clip6802\">\n",
       "    <rect x=\"480\" y=\"0\" width=\"1681\" height=\"1600\"/>\n",
       "  </clipPath>\n",
       "</defs>\n",
       "<polygon clip-path=\"url(#clip6801)\" points=\"\n",
       "224.386,1440.48 2321.26,1440.48 2321.26,125.984 224.386,125.984 \n",
       "  \" fill=\"#ffffff\" fill-rule=\"evenodd\" fill-opacity=\"1\"/>\n",
       "<defs>\n",
       "  <clipPath id=\"clip6803\">\n",
       "    <rect x=\"224\" y=\"125\" width=\"2098\" height=\"1315\"/>\n",
       "  </clipPath>\n",
       "</defs>\n",
       "<polyline clip-path=\"url(#clip6803)\" style=\"stroke:#000000; stroke-width:2; stroke-opacity:0.1; fill:none\" points=\"\n",
       "  263.75,1440.48 263.75,125.984 \n",
       "  \"/>\n",
       "<polyline clip-path=\"url(#clip6803)\" style=\"stroke:#000000; stroke-width:2; stroke-opacity:0.1; fill:none\" points=\"\n",
       "  763.291,1440.48 763.291,125.984 \n",
       "  \"/>\n",
       "<polyline clip-path=\"url(#clip6803)\" style=\"stroke:#000000; stroke-width:2; stroke-opacity:0.1; fill:none\" points=\"\n",
       "  1262.83,1440.48 1262.83,125.984 \n",
       "  \"/>\n",
       "<polyline clip-path=\"url(#clip6803)\" style=\"stroke:#000000; stroke-width:2; stroke-opacity:0.1; fill:none\" points=\"\n",
       "  1762.37,1440.48 1762.37,125.984 \n",
       "  \"/>\n",
       "<polyline clip-path=\"url(#clip6803)\" style=\"stroke:#000000; stroke-width:2; stroke-opacity:0.1; fill:none\" points=\"\n",
       "  2261.91,1440.48 2261.91,125.984 \n",
       "  \"/>\n",
       "<polyline clip-path=\"url(#clip6803)\" style=\"stroke:#000000; stroke-width:2; stroke-opacity:0.1; fill:none\" points=\"\n",
       "  224.386,1206.25 2321.26,1206.25 \n",
       "  \"/>\n",
       "<polyline clip-path=\"url(#clip6803)\" style=\"stroke:#000000; stroke-width:2; stroke-opacity:0.1; fill:none\" points=\"\n",
       "  224.386,943.538 2321.26,943.538 \n",
       "  \"/>\n",
       "<polyline clip-path=\"url(#clip6803)\" style=\"stroke:#000000; stroke-width:2; stroke-opacity:0.1; fill:none\" points=\"\n",
       "  224.386,680.829 2321.26,680.829 \n",
       "  \"/>\n",
       "<polyline clip-path=\"url(#clip6803)\" style=\"stroke:#000000; stroke-width:2; stroke-opacity:0.1; fill:none\" points=\"\n",
       "  224.386,418.12 2321.26,418.12 \n",
       "  \"/>\n",
       "<polyline clip-path=\"url(#clip6803)\" style=\"stroke:#000000; stroke-width:2; stroke-opacity:0.1; fill:none\" points=\"\n",
       "  224.386,155.41 2321.26,155.41 \n",
       "  \"/>\n",
       "<polyline clip-path=\"url(#clip6801)\" style=\"stroke:#000000; stroke-width:4; stroke-opacity:1; fill:none\" points=\"\n",
       "  224.386,1440.48 2321.26,1440.48 \n",
       "  \"/>\n",
       "<polyline clip-path=\"url(#clip6801)\" style=\"stroke:#000000; stroke-width:4; stroke-opacity:1; fill:none\" points=\"\n",
       "  224.386,1440.48 224.386,125.984 \n",
       "  \"/>\n",
       "<polyline clip-path=\"url(#clip6801)\" style=\"stroke:#000000; stroke-width:4; stroke-opacity:1; fill:none\" points=\"\n",
       "  263.75,1440.48 263.75,1420.77 \n",
       "  \"/>\n",
       "<polyline clip-path=\"url(#clip6801)\" style=\"stroke:#000000; stroke-width:4; stroke-opacity:1; fill:none\" points=\"\n",
       "  763.291,1440.48 763.291,1420.77 \n",
       "  \"/>\n",
       "<polyline clip-path=\"url(#clip6801)\" style=\"stroke:#000000; stroke-width:4; stroke-opacity:1; fill:none\" points=\"\n",
       "  1262.83,1440.48 1262.83,1420.77 \n",
       "  \"/>\n",
       "<polyline clip-path=\"url(#clip6801)\" style=\"stroke:#000000; stroke-width:4; stroke-opacity:1; fill:none\" points=\"\n",
       "  1762.37,1440.48 1762.37,1420.77 \n",
       "  \"/>\n",
       "<polyline clip-path=\"url(#clip6801)\" style=\"stroke:#000000; stroke-width:4; stroke-opacity:1; fill:none\" points=\"\n",
       "  2261.91,1440.48 2261.91,1420.77 \n",
       "  \"/>\n",
       "<polyline clip-path=\"url(#clip6801)\" style=\"stroke:#000000; stroke-width:4; stroke-opacity:1; fill:none\" points=\"\n",
       "  224.386,1206.25 255.839,1206.25 \n",
       "  \"/>\n",
       "<polyline clip-path=\"url(#clip6801)\" style=\"stroke:#000000; stroke-width:4; stroke-opacity:1; fill:none\" points=\"\n",
       "  224.386,943.538 255.839,943.538 \n",
       "  \"/>\n",
       "<polyline clip-path=\"url(#clip6801)\" style=\"stroke:#000000; stroke-width:4; stroke-opacity:1; fill:none\" points=\"\n",
       "  224.386,680.829 255.839,680.829 \n",
       "  \"/>\n",
       "<polyline clip-path=\"url(#clip6801)\" style=\"stroke:#000000; stroke-width:4; stroke-opacity:1; fill:none\" points=\"\n",
       "  224.386,418.12 255.839,418.12 \n",
       "  \"/>\n",
       "<polyline clip-path=\"url(#clip6801)\" style=\"stroke:#000000; stroke-width:4; stroke-opacity:1; fill:none\" points=\"\n",
       "  224.386,155.41 255.839,155.41 \n",
       "  \"/>\n",
       "<g clip-path=\"url(#clip6801)\">\n",
       "<text style=\"fill:#000000; fill-opacity:1; font-family:Arial,Helvetica Neue,Helvetica,sans-serif; font-size:48px; text-anchor:middle;\" transform=\"rotate(0, 263.75, 1494.48)\" x=\"263.75\" y=\"1494.48\">0</text>\n",
       "</g>\n",
       "<g clip-path=\"url(#clip6801)\">\n",
       "<text style=\"fill:#000000; fill-opacity:1; font-family:Arial,Helvetica Neue,Helvetica,sans-serif; font-size:48px; text-anchor:middle;\" transform=\"rotate(0, 763.291, 1494.48)\" x=\"763.291\" y=\"1494.48\">25</text>\n",
       "</g>\n",
       "<g clip-path=\"url(#clip6801)\">\n",
       "<text style=\"fill:#000000; fill-opacity:1; font-family:Arial,Helvetica Neue,Helvetica,sans-serif; font-size:48px; text-anchor:middle;\" transform=\"rotate(0, 1262.83, 1494.48)\" x=\"1262.83\" y=\"1494.48\">50</text>\n",
       "</g>\n",
       "<g clip-path=\"url(#clip6801)\">\n",
       "<text style=\"fill:#000000; fill-opacity:1; font-family:Arial,Helvetica Neue,Helvetica,sans-serif; font-size:48px; text-anchor:middle;\" transform=\"rotate(0, 1762.37, 1494.48)\" x=\"1762.37\" y=\"1494.48\">75</text>\n",
       "</g>\n",
       "<g clip-path=\"url(#clip6801)\">\n",
       "<text style=\"fill:#000000; fill-opacity:1; font-family:Arial,Helvetica Neue,Helvetica,sans-serif; font-size:48px; text-anchor:middle;\" transform=\"rotate(0, 2261.91, 1494.48)\" x=\"2261.91\" y=\"1494.48\">100</text>\n",
       "</g>\n",
       "<g clip-path=\"url(#clip6801)\">\n",
       "<text style=\"fill:#000000; fill-opacity:1; font-family:Arial,Helvetica Neue,Helvetica,sans-serif; font-size:48px; text-anchor:end;\" transform=\"rotate(0, 200.386, 1223.75)\" x=\"200.386\" y=\"1223.75\">0.2</text>\n",
       "</g>\n",
       "<g clip-path=\"url(#clip6801)\">\n",
       "<text style=\"fill:#000000; fill-opacity:1; font-family:Arial,Helvetica Neue,Helvetica,sans-serif; font-size:48px; text-anchor:end;\" transform=\"rotate(0, 200.386, 961.038)\" x=\"200.386\" y=\"961.038\">0.4</text>\n",
       "</g>\n",
       "<g clip-path=\"url(#clip6801)\">\n",
       "<text style=\"fill:#000000; fill-opacity:1; font-family:Arial,Helvetica Neue,Helvetica,sans-serif; font-size:48px; text-anchor:end;\" transform=\"rotate(0, 200.386, 698.329)\" x=\"200.386\" y=\"698.329\">0.6</text>\n",
       "</g>\n",
       "<g clip-path=\"url(#clip6801)\">\n",
       "<text style=\"fill:#000000; fill-opacity:1; font-family:Arial,Helvetica Neue,Helvetica,sans-serif; font-size:48px; text-anchor:end;\" transform=\"rotate(0, 200.386, 435.62)\" x=\"200.386\" y=\"435.62\">0.8</text>\n",
       "</g>\n",
       "<g clip-path=\"url(#clip6801)\">\n",
       "<text style=\"fill:#000000; fill-opacity:1; font-family:Arial,Helvetica Neue,Helvetica,sans-serif; font-size:48px; text-anchor:end;\" transform=\"rotate(0, 200.386, 172.91)\" x=\"200.386\" y=\"172.91\">1.0</text>\n",
       "</g>\n",
       "<g clip-path=\"url(#clip6801)\">\n",
       "<text style=\"fill:#000000; fill-opacity:1; font-family:Arial,Helvetica Neue,Helvetica,sans-serif; font-size:84px; text-anchor:middle;\" transform=\"rotate(0, 1272.82, 73.2)\" x=\"1272.82\" y=\"73.2\">Probability of one or more rejections</text>\n",
       "</g>\n",
       "<g clip-path=\"url(#clip6801)\">\n",
       "<text style=\"fill:#000000; fill-opacity:1; font-family:Arial,Helvetica Neue,Helvetica,sans-serif; font-size:66px; text-anchor:middle;\" transform=\"rotate(0, 1272.82, 1590.4)\" x=\"1272.82\" y=\"1590.4\">Number of tests</text>\n",
       "</g>\n",
       "<g clip-path=\"url(#clip6801)\">\n",
       "<text style=\"fill:#000000; fill-opacity:1; font-family:Arial,Helvetica Neue,Helvetica,sans-serif; font-size:66px; text-anchor:middle;\" transform=\"rotate(-90, 57.6, 783.233)\" x=\"57.6\" y=\"783.233\">Probabiliry</text>\n",
       "</g>\n",
       "<polyline clip-path=\"url(#clip6803)\" style=\"stroke:#009af9; stroke-width:4; stroke-opacity:1; fill:none\" points=\"\n",
       "  283.732,1403.28 303.713,1340.89 323.695,1281.61 343.677,1225.3 363.658,1171.81 383.64,1120.99 403.622,1072.71 423.603,1026.84 443.585,983.272 463.566,941.879 \n",
       "  483.548,902.556 503.53,865.199 523.511,829.709 543.493,795.994 563.475,763.965 583.456,733.537 603.438,704.631 623.42,677.17 643.401,651.082 663.383,626.298 \n",
       "  683.365,602.754 703.346,580.387 723.328,559.138 743.309,538.951 763.291,519.774 783.273,501.556 803.254,484.249 823.236,467.807 843.218,452.187 863.199,437.348 \n",
       "  883.181,423.251 903.163,409.859 923.144,397.137 943.126,385.05 963.108,373.568 983.089,362.661 1003.07,352.298 1023.05,342.454 1043.03,333.101 1063.02,324.217 \n",
       "  1083,315.777 1102.98,307.758 1122.96,300.141 1142.94,292.904 1162.92,286.03 1182.91,279.499 1202.89,273.294 1222.87,267.4 1242.85,261.801 1262.83,256.481 \n",
       "  1282.81,251.427 1302.8,246.627 1322.78,242.066 1342.76,237.733 1362.74,233.617 1382.72,229.706 1402.7,225.992 1422.69,222.463 1442.67,219.11 1462.65,215.925 \n",
       "  1482.63,212.899 1502.61,210.025 1522.59,207.294 1542.58,204.7 1562.56,202.235 1582.54,199.894 1602.52,197.67 1622.5,195.557 1642.48,193.55 1662.47,191.643 \n",
       "  1682.45,189.831 1702.43,188.11 1722.41,186.475 1742.39,184.922 1762.37,183.446 1782.35,182.044 1802.34,180.713 1822.32,179.448 1842.3,178.246 1862.28,177.104 \n",
       "  1882.26,176.019 1902.24,174.989 1922.23,174.01 1942.21,173.08 1962.19,172.196 1982.17,171.357 2002.15,170.56 2022.13,169.802 2042.12,169.083 2062.1,168.399 \n",
       "  2082.08,167.75 2102.06,167.133 2122.04,166.546 2142.02,165.99 2162.01,165.461 2181.99,164.958 2201.97,164.481 2221.95,164.027 2241.93,163.596 2261.91,163.187 \n",
       "  \n",
       "  \"/>\n",
       "</svg>\n"
      ]
     },
     "execution_count": 5,
     "metadata": {},
     "output_type": "execute_result"
    }
   ],
   "source": [
    "y = [1 - cdf(Binomial(n,0.05),0) for n = 1:100]\n",
    "plot(1:100,y, legend = false,\n",
    "title=\"Probability of one or more rejections\",\n",
    "xlabel = \"Number of tests\", \n",
    "ylabel = \"Probabiliry\")"
   ]
  },
  {
   "cell_type": "markdown",
   "metadata": {
    "slideshow": {
     "slide_type": "slide"
    }
   },
   "source": [
    "## Two solutions:\n",
    "\n",
    "- Control probability of one or more false positives among all tests\n",
    "\n",
    "    - Bonferroni correction \n",
    "    - Multiple test penalty\n",
    "\n",
    "- Control proportion of false positives among rejections \n",
    "\n",
    "    - PER\n",
    "    - PFP\n",
    "    - No multiple test penalty"
   ]
  },
  {
   "cell_type": "markdown",
   "metadata": {
    "slideshow": {
     "slide_type": "slide"
    }
   },
   "source": [
    "## Posterior type I error rate (PER)\n",
    "\n",
    "- Probability $H_0$ is true given it has been rejected\n",
    "\n",
    "- Can think of PER as the proportion of false positives among rejections (PFP)"
   ]
  },
  {
   "cell_type": "markdown",
   "metadata": {
    "slideshow": {
     "slide_type": "fragment"
    }
   },
   "source": [
    "Let \n",
    "\n",
    "- $\\alpha$ = type I error rate = $\\Pr(T > CV|H_0)$\n",
    "- $(1-\\beta)$ = power = $\\Pr(T > CV|H_a)$"
   ]
  },
  {
   "cell_type": "markdown",
   "metadata": {
    "slideshow": {
     "slide_type": "fragment"
    }
   },
   "source": [
    "Then\n",
    "\n",
    "\\begin{align}\n",
    "\\text{PER} &= \\Pr(H_0 | T>CV)\\\\\n",
    "           &= \\frac{\\Pr(T>CV, H_0)}{\\Pr(T>CV)}\\\\\n",
    "           &= \\frac{\\Pr(T>CV|H_0)\\times\\Pr(H_0)}{\\Pr(T>CV|H_0)\\times\\Pr(H_0) + \\Pr(T>CV|H_a)\\times\\Pr(H_a)}\\\\\n",
    "           &=\\frac{\\alpha\\times\\Pr(H_0)}{\\alpha\\times\\Pr(H_0) + (1-\\beta)\\times[1 - \\Pr(H_0)]}\n",
    "\\end{align}"
   ]
  },
  {
   "cell_type": "markdown",
   "metadata": {
    "slideshow": {
     "slide_type": "subslide"
    }
   },
   "source": [
    "## Test of linkage for monogenic trait\n",
    "\n",
    "- $\\Pr(H_0) = 21/22 \\approx 0.95$ (autosomal locus in humans)\n",
    "\n",
    "- Suppose $1-\\beta = 0.95$"
   ]
  },
  {
   "cell_type": "markdown",
   "metadata": {
    "slideshow": {
     "slide_type": "fragment"
    }
   },
   "source": [
    "$$\n",
    "\\begin{align}\n",
    "\\text{PER} &= \\frac{0.05\\times0.95}{0.05\\times0.95 + 0.95\\times0.05}\\\\\n",
    "           &= 0.5\n",
    "\\end{align}\n",
    "$$\n",
    "\n",
    "To reduce PER to 0.05, take $\\alpha = 0.05/19 = 0.0026$ and increase sample size to mainain power at 0.95.\n",
    "\n",
    "$$\n",
    "\\begin{align}\n",
    "\\text{PER} &= \\frac{0.0026\\times0.95}{0.0026\\times0.95 + 0.95\\times0.05}\\\\\n",
    "           &= 0.05\n",
    "\\end{align}\n",
    "$$"
   ]
  },
  {
   "cell_type": "markdown",
   "metadata": {},
   "source": [
    "## FDR procedure\n",
    "\n",
    "Order p-values of the $m$ tests in ascending order: $P_1, P_2, \\ldots, P_m$. To control FDR at 0.05, find the largest $k$ such that\n",
    "\n",
    "$$\n",
    "\\frac{m \\times P_k}{k} < 0.05.\n",
    "$$\n",
    "\n",
    "It is easy to see that if $m=1$, controlling FDR to 0.05 reduces to controlling the type I error rate to 0.05. Thus, in the linkage test given above, controlling FDR to 0.05 would result in $50\\%$ of positive results being false."
   ]
  },
  {
   "cell_type": "markdown",
   "metadata": {},
   "source": [
    "## FDR and PFP\n",
    "\n",
    "- $F$: the number of false positives\n",
    "- $T$: the total number of positives\n",
    "$$\n",
    "\\text{FDR} = \\text{E}(\\frac{F}{T}|T>0)\\Pr(T>0)\n",
    "$$\n",
    "and\n",
    "$$\n",
    "\\text{PFP} = \\frac{\\text{E}(F)}{\\text{E}(T)}\n",
    "$$\n",
    "\n",
    "- Can show that controlling PER for each test to some level results in a PFP of the same value for the experiment. "
   ]
  },
  {
   "cell_type": "markdown",
   "metadata": {},
   "source": [
    "<img src=\"RLF.png\" />"
   ]
  },
  {
   "cell_type": "markdown",
   "metadata": {
    "slideshow": {
     "slide_type": "slide"
    }
   },
   "source": [
    "## Bayesian approach\n",
    "\n",
    "- $\\Pr(H_0)$ and $\\beta$ are treated as unknown \n",
    "\n",
    "- Inference based on $\\Pr(H_a|\\mathbf{y})$\n",
    "\n",
    "- Typically, PPA = $\\Pr(H_a|\\mathbf{y})$ is estimated by counting the number of MCMC samples where $\\Pr(H_a)$ was true"
   ]
  },
  {
   "cell_type": "markdown",
   "metadata": {
    "slideshow": {
     "slide_type": "slide"
    }
   },
   "source": [
    "Can show that \n",
    "\n",
    "- PER = $1 - \\E(\\text{PPA} | \\text{PPA} > t)  $ "
   ]
  },
  {
   "cell_type": "markdown",
   "metadata": {},
   "source": [
    "#### Empirical method to determine $t$ (Jian Zeng, PhD thesis):\n",
    "\n",
    "- Compute PPA for each test\n",
    "\n",
    "- Order PPAs in decender order: $\\text{PPA}_1 > \\text{PPA}_2 > \\text{PPA}_3 >\\cdots >  \\text{PPA}_m$\n",
    "\n",
    "- Estimate PER for $t = \\text{PPA}_i$ as \n",
    "\n",
    "$$ \n",
    "\\hat{\\text{PER}}_t = \\frac{\\sum_{j=1}^i\\text{PPA}_j}{i}\n",
    "$$"
   ]
  },
  {
   "cell_type": "markdown",
   "metadata": {},
   "source": [
    "This method is implemented in JWAS function \"GWAS\"."
   ]
  },
  {
   "cell_type": "markdown",
   "metadata": {},
   "source": [
    "<img src=\"PFP.png\" />"
   ]
  },
  {
   "cell_type": "markdown",
   "metadata": {
    "slideshow": {
     "slide_type": "subslide"
    }
   },
   "source": [
    "<img src=\"b995c995cpi.jpeg\" />"
   ]
  },
  {
   "cell_type": "markdown",
   "metadata": {
    "slideshow": {
     "slide_type": "slide"
    }
   },
   "source": [
    "<img src=\"title.png\" />"
   ]
  },
  {
   "cell_type": "markdown",
   "metadata": {
    "slideshow": {
     "slide_type": "subslide"
    }
   },
   "source": [
    "<img src=\"tab1.png\" />"
   ]
  },
  {
   "cell_type": "markdown",
   "metadata": {
    "slideshow": {
     "slide_type": "fragment"
    }
   },
   "source": [
    "<img src=\"tab2.png\" />"
   ]
  },
  {
   "cell_type": "markdown",
   "metadata": {
    "slideshow": {
     "slide_type": "subslide"
    }
   },
   "source": [
    "<img src=\"tab3.png\" />"
   ]
  },
  {
   "cell_type": "markdown",
   "metadata": {
    "slideshow": {
     "slide_type": "slide"
    }
   },
   "source": [
    "## Summary\n",
    "\n",
    "- When PER is used to manage false positives, no multiple-test\n",
    "  penalty\n",
    "  \n",
    "- Bayesian posterior probabilities can be used to control PER\n",
    "\n",
    "    - Pr(H0), and power of test can be treated as unknown\n",
    "    - Do not need to know the distribution of test statistic\n",
    "    - Simple to determine significance threshold\n",
    "    \n",
    "- Genomic window based inference multiple regression models    \n",
    "    "
   ]
  },
  {
   "cell_type": "code",
   "execution_count": 2,
   "metadata": {
    "scrolled": true,
    "slideshow": {
     "slide_type": "skip"
    }
   },
   "outputs": [
    {
     "name": "stderr",
     "output_type": "stream",
     "text": [
      "[NbConvertApp] Converting notebook LICSeminar.ipynb to slides\n",
      "[NbConvertApp] Writing 265837 bytes to LICSeminar.slides.html\n"
     ]
    }
   ],
   "source": [
    "; jupyter nbconvert --to slides LICSeminar.ipynb"
   ]
  }
 ],
 "metadata": {
  "celltoolbar": "Slideshow",
  "kernelspec": {
   "display_name": "Julia 1.1.0",
   "language": "julia",
   "name": "julia-1.1"
  },
  "language_info": {
   "file_extension": ".jl",
   "mimetype": "application/julia",
   "name": "julia",
   "version": "1.1.0"
  }
 },
 "nbformat": 4,
 "nbformat_minor": 2
}
